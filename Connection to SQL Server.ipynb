{
 "cells": [
  {
   "cell_type": "code",
   "execution_count": null,
   "metadata": {
    "ExecuteTime": {
     "end_time": "2019-12-13T08:30:08.330017Z",
     "start_time": "2019-12-13T08:30:07.490585Z"
    }
   },
   "outputs": [],
   "source": [
    "import pandas as pd\n",
    "import pyodbc"
   ]
  },
  {
   "cell_type": "markdown",
   "metadata": {},
   "source": [
    "# Choose connection"
   ]
  },
  {
   "cell_type": "markdown",
   "metadata": {},
   "source": [
    "## Local Server (Please set Server, Database, UID, PWD accordingly for the code below)"
   ]
  },
  {
   "cell_type": "code",
   "execution_count": null,
   "metadata": {
    "ExecuteTime": {
     "end_time": "2019-12-13T08:30:31.850821Z",
     "start_time": "2019-12-13T08:30:31.649690Z"
    }
   },
   "outputs": [],
   "source": [
    "sql_conn = pyodbc.connect('Driver={SQL Server};'\n",
    "                          'Server=tcp:15.46.112.95,1433;'\n",
    "                          'Database=2018POR;'\n",
    "                          'UID=man;'\n",
    "                          'PWD=123;'\n",
    "                          'Trusted_Connection=NO;')"
   ]
  },
  {
   "cell_type": "markdown",
   "metadata": {},
   "source": [
    "## Personal Server (Please set Server and Database accordingly for the code below)"
   ]
  },
  {
   "cell_type": "code",
   "execution_count": null,
   "metadata": {
    "ExecuteTime": {
     "end_time": "2019-12-13T08:02:06.545315Z",
     "start_time": "2019-12-13T08:02:06.416288Z"
    }
   },
   "outputs": [],
   "source": [
    "sql_conn = pyodbc.connect('Driver={SQL Server};'\n",
    "                          'Server=KOHMANSF1\\SQLEXPRESS;'\n",
    "                          'Database=MJ_DB2018;'\n",
    "                          'Trusted_Connection=yes;')"
   ]
  },
  {
   "cell_type": "markdown",
   "metadata": {},
   "source": [
    "## Create Cursor"
   ]
  },
  {
   "cell_type": "code",
   "execution_count": null,
   "metadata": {
    "ExecuteTime": {
     "end_time": "2019-12-13T08:30:35.563588Z",
     "start_time": "2019-12-13T08:30:35.559599Z"
    }
   },
   "outputs": [],
   "source": [
    "cursor = sql_conn.cursor()"
   ]
  },
  {
   "cell_type": "markdown",
   "metadata": {},
   "source": [
    "# Shipment file"
   ]
  },
  {
   "cell_type": "markdown",
   "metadata": {},
   "source": [
    "## Change directory of Shipment file if necessary"
   ]
  },
  {
   "cell_type": "code",
   "execution_count": null,
   "metadata": {
    "ExecuteTime": {
     "end_time": "2019-12-13T06:24:36.300547Z",
     "start_time": "2019-12-13T06:24:36.105212Z"
    }
   },
   "outputs": [],
   "source": [
    "shipment_df = pd.read_csv(\n",
    "    r'C:\\Users\\KohMansf\\Desktop\\Projects\\Waterfall\\Shipment\\Shipment.csv', na_filter=False)\n",
    "shipment_df"
   ]
  },
  {
   "cell_type": "markdown",
   "metadata": {},
   "source": [
    "## Create Shipment table in database (Remove need for being a primary key for duplicates)"
   ]
  },
  {
   "cell_type": "code",
   "execution_count": null,
   "metadata": {
    "ExecuteTime": {
     "end_time": "2019-12-13T06:24:48.847048Z",
     "start_time": "2019-12-13T06:24:48.829096Z"
    }
   },
   "outputs": [],
   "source": [
    "cursor.execute(\n",
    "    \"CREATE TABLE SHIPMENT ([PK] VARCHAR(100) NOT NULL, [SKU] VARCHAR(20), [Platform] VARCHAR(50),[Region] VARCHAR(50),[Target_Location] VARCHAR(20),[WkDate] INT, [ISO_WK_NR] INT, [Total] INT)\")"
   ]
  },
  {
   "cell_type": "markdown",
   "metadata": {},
   "source": [
    "## Insert rows from Shipment file into database Shipment table (Change row[' '] accordingly to Shipment file column title). Connection will close after inserting is finished"
   ]
  },
  {
   "cell_type": "code",
   "execution_count": null,
   "metadata": {
    "ExecuteTime": {
     "end_time": "2019-12-13T06:54:05.106490Z",
     "start_time": "2019-12-13T06:24:52.604798Z"
    }
   },
   "outputs": [],
   "source": [
    "for index, row in shipment_df.iterrows():\n",
    "\n",
    "    cursor.execute(\"INSERT INTO SHIPMENT([PK],[SKU],[Platform],[Region],[Target_Location], [WkDate], [ISO_WK_NR], [Total])values(?,?,?,?,?,?,?,?)\",\n",
    "                   row['PK'], row['SKU'], row['Platform'], row['Region_Ori'], row['Target Location'], row['WkDate'], row['ISO_WK_NR'], row['Total'])\n",
    "\n",
    "sql_conn.commit()\n",
    "\n",
    "cursor.close()\n",
    "\n",
    "sql_conn.close()"
   ]
  },
  {
   "cell_type": "markdown",
   "metadata": {},
   "source": [
    "# POR file"
   ]
  },
  {
   "cell_type": "code",
   "execution_count": null,
   "metadata": {
    "ExecuteTime": {
     "end_time": "2019-12-13T08:30:47.277576Z",
     "start_time": "2019-12-13T08:30:43.436252Z"
    },
    "scrolled": true
   },
   "outputs": [],
   "source": [
    "por_df = pd.read_csv(\n",
    "    r'C:\\Users\\KohMansf\\Desktop\\Projects\\Waterfall\\POR\\2018_to_upload.csv',sep=',', dtype={'PK': str, 'Current Cycle on Display': str,\n",
    "                                                                                  'Product Line': str, 'Platform': str,\n",
    "                                                                                  'Planning Part Group': str, \n",
    "                                                                                  'Target Location': str, 'Planning Part': str,\n",
    "                                                                                  'MPA': str, 'Attribute': int,\n",
    "                                                                                  'Value': int, 'FK': str})\n",
    "por_df"
   ]
  },
  {
   "cell_type": "code",
   "execution_count": null,
   "metadata": {
    "ExecuteTime": {
     "end_time": "2019-12-13T08:30:50.624240Z",
     "start_time": "2019-12-13T08:30:50.601303Z"
    }
   },
   "outputs": [],
   "source": [
    "cursor.execute(\"CREATE TABLE POR ([PK] VARCHAR(100) PRIMARY KEY NOT NULL, [Planning_Wk] VARCHAR(20), [Product_Line] VARCHAR(2),[Platform] VARCHAR(50),[Program] VARCHAR(50),[Target_Location] VARCHAR(20),[SKU] VARCHAR(20), [MPA] VARCHAR(20), [WkDate] INT, [Qty] INT, [FK] VARCHAR(100))\")"
   ]
  },
  {
   "cell_type": "code",
   "execution_count": null,
   "metadata": {
    "ExecuteTime": {
     "end_time": "2019-12-13T09:13:44.798287Z",
     "start_time": "2019-12-13T08:30:54.697028Z"
    }
   },
   "outputs": [],
   "source": [
    "for index, row in por_df.iterrows():\n",
    "\n",
    "    cursor.execute(\"INSERT INTO POR([PK],[Planning_Wk],[Product_Line],[Platform],[Program], [Target_Location], [SKU], [MPA],[WkDate],[Qty],[FK])values(?,?,?,?,?,?,?,?,?,?,?)\",\n",
    "                   row['PK'], row['Current Cycle on Display'], row['Product Line'], row['Platform'], row['Planning Part Group'], row['Target Location'], row['Planning Part'], row['MPA'],row['Attribute'],row['Value'],row['FK'])\n",
    "\n",
    "sql_conn.commit()\n",
    "\n",
    "cursor.close()\n",
    "\n",
    "sql_conn.close()"
   ]
  },
  {
   "cell_type": "markdown",
   "metadata": {},
   "source": [
    "# Closing connection (Ignore if not needed)"
   ]
  },
  {
   "cell_type": "code",
   "execution_count": null,
   "metadata": {
    "ExecuteTime": {
     "end_time": "2019-12-13T07:25:20.188443Z",
     "start_time": "2019-12-13T07:25:20.177472Z"
    }
   },
   "outputs": [],
   "source": [
    "sql_conn.commit()\n",
    "\n",
    "cursor.close()\n",
    "\n",
    "sql_conn.close()"
   ]
  }
 ],
 "metadata": {
  "hide_input": false,
  "kernelspec": {
   "display_name": "Python 3",
   "language": "python",
   "name": "python3"
  },
  "language_info": {
   "codemirror_mode": {
    "name": "ipython",
    "version": 3
   },
   "file_extension": ".py",
   "mimetype": "text/x-python",
   "name": "python",
   "nbconvert_exporter": "python",
   "pygments_lexer": "ipython3",
   "version": "3.7.4"
  },
  "latex_envs": {
   "LaTeX_envs_menu_present": true,
   "autoclose": false,
   "autocomplete": true,
   "bibliofile": "biblio.bib",
   "cite_by": "apalike",
   "current_citInitial": 1,
   "eqLabelWithNumbers": true,
   "eqNumInitial": 1,
   "hotkeys": {
    "equation": "Ctrl-E",
    "itemize": "Ctrl-I"
   },
   "labels_anchors": false,
   "latex_user_defs": false,
   "report_style_numbering": false,
   "user_envs_cfg": false
  },
  "toc": {
   "base_numbering": 1,
   "nav_menu": {},
   "number_sections": true,
   "sideBar": true,
   "skip_h1_title": false,
   "title_cell": "Table of Contents",
   "title_sidebar": "Contents",
   "toc_cell": false,
   "toc_position": {
    "height": "calc(100% - 180px)",
    "left": "10px",
    "top": "150px",
    "width": "368px"
   },
   "toc_section_display": true,
   "toc_window_display": true
  }
 },
 "nbformat": 4,
 "nbformat_minor": 2
}
