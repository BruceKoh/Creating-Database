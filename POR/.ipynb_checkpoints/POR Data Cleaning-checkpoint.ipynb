{
 "cells": [
  {
   "cell_type": "code",
   "execution_count": 1,
   "metadata": {
    "ExecuteTime": {
     "end_time": "2020-01-17T07:16:09.051687Z",
     "start_time": "2020-01-17T07:16:06.707274Z"
    }
   },
   "outputs": [],
   "source": [
    "import os\n",
    "import datetime as dt\n",
    "import pandas as pd\n",
    "import time"
   ]
  },
  {
   "cell_type": "markdown",
   "metadata": {},
   "source": [
    "# Files"
   ]
  },
  {
   "cell_type": "markdown",
   "metadata": {},
   "source": [
    "## List all files in directory"
   ]
  },
  {
   "cell_type": "code",
   "execution_count": null,
   "metadata": {
    "ExecuteTime": {
     "end_time": "2020-01-17T06:21:59.589479Z",
     "start_time": "2020-01-17T06:21:59.582482Z"
    }
   },
   "outputs": [],
   "source": [
    "path = os.getcwd()\n",
    "files = os.listdir(\n",
    "    r'C:\\Users\\KohMansf\\Desktop\\MJ Projects\\Waterfall\\POR\\2019POR')\n",
    "os.chdir(r'C:\\Users\\KohMansf\\Desktop\\MJ Projects\\Waterfall\\POR\\2019POR')"
   ]
  },
  {
   "cell_type": "markdown",
   "metadata": {},
   "source": [
    "## Select all XXXX POR files (Change the code XXXX for different year)"
   ]
  },
  {
   "cell_type": "code",
   "execution_count": null,
   "metadata": {
    "ExecuteTime": {
     "end_time": "2020-01-17T06:21:59.604428Z",
     "start_time": "2020-01-17T06:21:59.591459Z"
    }
   },
   "outputs": [],
   "source": [
    "files_xlsx = [f for f in files if f[4:8] == '2019']"
   ]
  },
  {
   "cell_type": "markdown",
   "metadata": {},
   "source": [
    "## Merge all XXXX POR files into one"
   ]
  },
  {
   "cell_type": "code",
   "execution_count": null,
   "metadata": {
    "ExecuteTime": {
     "end_time": "2020-01-17T06:28:20.300593Z",
     "start_time": "2020-01-17T06:21:59.608413Z"
    },
    "scrolled": true
   },
   "outputs": [],
   "source": [
    "df = pd.DataFrame()\n",
    "\n",
    "for f in files_xlsx:\n",
    "    data = pd.read_excel(f)\n",
    "    df = df.append(data)\n",
    "\n",
    "df"
   ]
  },
  {
   "cell_type": "code",
   "execution_count": null,
   "metadata": {
    "ExecuteTime": {
     "end_time": "2020-01-17T06:28:36.868184Z",
     "start_time": "2020-01-17T06:28:20.302587Z"
    }
   },
   "outputs": [],
   "source": [
    "df['Time'] = pd.to_datetime(df['Attribute'])\n",
    "\n",
    "df['YYYYWW'] = df['Time'].apply(lambda x: str(x.isocalendar()[0]) +\n",
    "                                str(x.isocalendar()[1]).zfill(2))\n",
    "df"
   ]
  },
  {
   "cell_type": "markdown",
   "metadata": {},
   "source": [
    "## Get region base on target location base on original excel file"
   ]
  },
  {
   "cell_type": "code",
   "execution_count": null,
   "metadata": {
    "ExecuteTime": {
     "end_time": "2020-01-17T06:29:25.082227Z",
     "start_time": "2020-01-17T06:28:36.902114Z"
    }
   },
   "outputs": [],
   "source": [
    "dfreg = pd.read_excel(r'C:\\Users\\KohMansf\\Desktop\\MJ Projects\\Waterfall\\VBA\\MJ.xlsm', sheet_name='2Region_Ref', na_filter=False,\n",
    "                      usecols='B:C')"
   ]
  },
  {
   "cell_type": "markdown",
   "metadata": {},
   "source": [
    "# Merge region with XXXX POR files base on target location and convert date to int"
   ]
  },
  {
   "cell_type": "code",
   "execution_count": null,
   "metadata": {
    "ExecuteTime": {
     "end_time": "2020-01-17T06:29:26.132102Z",
     "start_time": "2020-01-17T06:29:25.083908Z"
    }
   },
   "outputs": [],
   "source": [
    "dfmerge = pd.merge(df, dfreg, on='Target Location')\n",
    "\n",
    "dfmerge"
   ]
  },
  {
   "cell_type": "code",
   "execution_count": null,
   "metadata": {
    "ExecuteTime": {
     "end_time": "2020-01-17T06:29:27.427672Z",
     "start_time": "2020-01-17T06:29:26.171995Z"
    },
    "scrolled": true
   },
   "outputs": [],
   "source": [
    "dfmerge.drop(columns=['Attribute'])\n",
    "dfmerge['Time'] = (dfmerge['Time'] -\n",
    "                   dt.datetime(1899, 12, 30)).dt.days"
   ]
  },
  {
   "cell_type": "code",
   "execution_count": null,
   "metadata": {
    "ExecuteTime": {
     "end_time": "2020-01-17T06:29:27.716860Z",
     "start_time": "2020-01-17T06:29:27.429630Z"
    }
   },
   "outputs": [],
   "source": [
    "dfmerge = dfmerge.drop(columns=['Attribute'])"
   ]
  },
  {
   "cell_type": "code",
   "execution_count": null,
   "metadata": {
    "ExecuteTime": {
     "end_time": "2020-01-17T06:29:27.753762Z",
     "start_time": "2020-01-17T06:29:27.718857Z"
    }
   },
   "outputs": [],
   "source": [
    "dfmerge"
   ]
  },
  {
   "cell_type": "markdown",
   "metadata": {},
   "source": [
    "# Create Primary Key and Foreign Key"
   ]
  },
  {
   "cell_type": "code",
   "execution_count": null,
   "metadata": {
    "ExecuteTime": {
     "end_time": "2020-01-17T06:29:34.178571Z",
     "start_time": "2020-01-17T06:29:27.757752Z"
    }
   },
   "outputs": [],
   "source": [
    "dfmerge[['Target Location', 'MPA', 'Planning Part', 'Time', 'Current Cycle on Display']] = dfmerge[[\n",
    "    'Target Location', 'MPA', 'Planning Part', 'Time', 'Current Cycle on Display']].astype('str')\n",
    "\n",
    "dfmerge['PK'] = dfmerge['Target Location'] + dfmerge['MPA'] + \\\n",
    "    dfmerge['Planning Part'] + dfmerge['Time'] + \\\n",
    "    dfmerge['Current Cycle on Display']\n",
    "dfmerge['FK'] = dfmerge['Region'] + dfmerge['Planning Part'] + \\\n",
    "    dfmerge['Time'] + dfmerge['Current Cycle on Display']"
   ]
  },
  {
   "cell_type": "code",
   "execution_count": null,
   "metadata": {
    "ExecuteTime": {
     "end_time": "2020-01-17T06:29:34.213480Z",
     "start_time": "2020-01-17T06:29:34.180566Z"
    },
    "scrolled": true
   },
   "outputs": [],
   "source": [
    "dfmerge"
   ]
  },
  {
   "cell_type": "markdown",
   "metadata": {},
   "source": [
    "# Finding Duplicates on primary key (IF ANY)"
   ]
  },
  {
   "cell_type": "code",
   "execution_count": null,
   "metadata": {
    "ExecuteTime": {
     "end_time": "2020-01-17T06:29:37.619369Z",
     "start_time": "2020-01-17T06:29:34.215474Z"
    }
   },
   "outputs": [],
   "source": [
    "duplicateRowsDF = dfmerge[dfmerge.duplicated(['PK'])]\n",
    "\n",
    "duplicateRowsDF"
   ]
  },
  {
   "cell_type": "markdown",
   "metadata": {},
   "source": [
    "# Group By Primary Key"
   ]
  },
  {
   "cell_type": "code",
   "execution_count": null,
   "metadata": {
    "ExecuteTime": {
     "end_time": "2020-01-17T06:29:43.664192Z",
     "start_time": "2020-01-17T06:29:37.624352Z"
    }
   },
   "outputs": [],
   "source": [
    "dfmerge2 = dfmerge.groupby('PK', as_index=False)['Value'].sum()\n",
    "\n",
    "dfmerge2"
   ]
  },
  {
   "cell_type": "markdown",
   "metadata": {},
   "source": [
    "# Drop Duplicates (IF ANY)"
   ]
  },
  {
   "cell_type": "code",
   "execution_count": null,
   "metadata": {
    "ExecuteTime": {
     "end_time": "2020-01-17T06:29:46.407985Z",
     "start_time": "2020-01-17T06:29:43.666187Z"
    }
   },
   "outputs": [],
   "source": [
    "dropdf = dfmerge.drop_duplicates(subset='PK', keep='first')"
   ]
  },
  {
   "cell_type": "code",
   "execution_count": null,
   "metadata": {
    "ExecuteTime": {
     "end_time": "2020-01-17T06:29:46.449601Z",
     "start_time": "2020-01-17T06:29:46.409708Z"
    }
   },
   "outputs": [],
   "source": [
    "dropdf"
   ]
  },
  {
   "cell_type": "code",
   "execution_count": null,
   "metadata": {
    "ExecuteTime": {
     "end_time": "2020-01-17T06:29:46.854514Z",
     "start_time": "2020-01-17T06:29:46.453590Z"
    }
   },
   "outputs": [],
   "source": [
    "dfdropvalue = dropdf.drop(columns='Value')"
   ]
  },
  {
   "cell_type": "code",
   "execution_count": null,
   "metadata": {
    "ExecuteTime": {
     "end_time": "2020-01-17T06:29:46.881441Z",
     "start_time": "2020-01-17T06:29:46.856509Z"
    }
   },
   "outputs": [],
   "source": [
    "dfdropvalue"
   ]
  },
  {
   "cell_type": "markdown",
   "metadata": {},
   "source": [
    "# Merge on Primary Key and remove word \"group\" from Planning Part Group"
   ]
  },
  {
   "cell_type": "code",
   "execution_count": null,
   "metadata": {
    "ExecuteTime": {
     "end_time": "2020-01-17T06:29:53.557962Z",
     "start_time": "2020-01-17T06:29:46.884435Z"
    }
   },
   "outputs": [],
   "source": [
    "dffinal = pd.merge(dfmerge2, dfdropvalue, on='PK')\n",
    "dffinal['Planning Part Group'] = dffinal['Planning Part Group'].str.rstrip(\n",
    "    'GROUP')\n",
    "dffinal"
   ]
  },
  {
   "cell_type": "markdown",
   "metadata": {},
   "source": [
    "# Rearrange Data and Output"
   ]
  },
  {
   "cell_type": "code",
   "execution_count": null,
   "metadata": {
    "ExecuteTime": {
     "end_time": "2020-01-17T06:29:54.776688Z",
     "start_time": "2020-01-17T06:29:53.559960Z"
    }
   },
   "outputs": [],
   "source": [
    "dffinalarr = dffinal[['PK', 'Current Cycle on Display', 'Product Line', 'Platform', 'Planning Part Group',\n",
    "                      'Target Location', 'Planning Part', 'MPA', 'Time',\n",
    "                      'Value', 'FK']]"
   ]
  },
  {
   "cell_type": "code",
   "execution_count": null,
   "metadata": {
    "ExecuteTime": {
     "end_time": "2020-01-17T06:29:55.669291Z",
     "start_time": "2020-01-17T06:29:54.778684Z"
    }
   },
   "outputs": [],
   "source": [
    "por_df = dffinal.rename(columns={\"Current Cycle on Display\": \"Planning_Wk\", \"Product Line\": \"Product_Line\",\n",
    "                                 \"Planning Part Group\": \"Program\", \"Target Location\": \"Target_Location\", \"Planning Part\": \"SKU\",\n",
    "                                 \"Time\": \"WkDate\", \"Value\": \"Qty\"})"
   ]
  },
  {
   "cell_type": "code",
   "execution_count": null,
   "metadata": {
    "ExecuteTime": {
     "end_time": "2020-01-17T06:29:55.721193Z",
     "start_time": "2020-01-17T06:29:55.671288Z"
    }
   },
   "outputs": [],
   "source": [
    "por_df['QtyType'] = 'POR'\n",
    "por_df"
   ]
  },
  {
   "cell_type": "code",
   "execution_count": null,
   "metadata": {
    "ExecuteTime": {
     "end_time": "2020-01-17T06:30:17.604454Z",
     "start_time": "2020-01-17T06:29:55.729132Z"
    }
   },
   "outputs": [],
   "source": [
    "por_df.to_csv('2019_to_upload.csv', index=False)"
   ]
  }
 ],
 "metadata": {
  "hide_input": false,
  "kernelspec": {
   "display_name": "Python 3",
   "language": "python",
   "name": "python3"
  },
  "language_info": {
   "codemirror_mode": {
    "name": "ipython",
    "version": 3
   },
   "file_extension": ".py",
   "mimetype": "text/x-python",
   "name": "python",
   "nbconvert_exporter": "python",
   "pygments_lexer": "ipython3",
   "version": "3.7.5"
  },
  "latex_envs": {
   "LaTeX_envs_menu_present": true,
   "autoclose": false,
   "autocomplete": true,
   "bibliofile": "biblio.bib",
   "cite_by": "apalike",
   "current_citInitial": 1,
   "eqLabelWithNumbers": true,
   "eqNumInitial": 1,
   "hotkeys": {
    "equation": "Ctrl-E",
    "itemize": "Ctrl-I"
   },
   "labels_anchors": false,
   "latex_user_defs": false,
   "report_style_numbering": false,
   "user_envs_cfg": false
  },
  "toc": {
   "base_numbering": 1,
   "nav_menu": {},
   "number_sections": true,
   "sideBar": true,
   "skip_h1_title": false,
   "title_cell": "Table of Contents",
   "title_sidebar": "Contents",
   "toc_cell": false,
   "toc_position": {
    "height": "1106px",
    "left": "478px",
    "top": "110px",
    "width": "249.797px"
   },
   "toc_section_display": true,
   "toc_window_display": true
  }
 },
 "nbformat": 4,
 "nbformat_minor": 2
}
