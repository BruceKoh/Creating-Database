{
 "cells": [
  {
   "cell_type": "code",
   "execution_count": null,
   "metadata": {
    "ExecuteTime": {
     "end_time": "2020-03-20T08:50:19.491089Z",
     "start_time": "2020-03-20T08:50:18.091696Z"
    }
   },
   "outputs": [],
   "source": [
    "import pandas as pd\n",
    "import pyodbc\n",
    "import sqlalchemy as db\n",
    "from urllib.parse import quote_plus"
   ]
  },
  {
   "cell_type": "markdown",
   "metadata": {},
   "source": [
    "# Connection"
   ]
  },
  {
   "cell_type": "markdown",
   "metadata": {},
   "source": [
    "**Local Server**"
   ]
  },
  {
   "cell_type": "code",
   "execution_count": null,
   "metadata": {
    "ExecuteTime": {
     "end_time": "2020-03-10T06:56:57.072743Z",
     "start_time": "2020-03-10T06:56:57.062765Z"
    }
   },
   "outputs": [],
   "source": [
    "# conn = \"DRIVER={ODBC Driver 17 for SQL Server};SERVER=KOHMANSF1\\SQLEXPRESS;DATABASE=FULLSHIPVPOR;Trusted_Connection=yes\"\n",
    "\n",
    "# table_name = 'FULLSHIPVPOR'\n",
    "\n",
    "# quoted = quote_plus(conn)\n",
    "# new_con = 'mssql+pyodbc:///?odbc_connect={}'.format(quoted)\n",
    "# engine = db.create_engine(new_con, fast_executemany=True)"
   ]
  },
  {
   "cell_type": "markdown",
   "metadata": {},
   "source": [
    "**External Server**"
   ]
  },
  {
   "cell_type": "code",
   "execution_count": null,
   "metadata": {
    "ExecuteTime": {
     "end_time": "2020-03-20T08:59:14.698471Z",
     "start_time": "2020-03-20T08:59:14.231809Z"
    }
   },
   "outputs": [],
   "source": [
    "conn = \"DRIVER={ODBC Driver 17 for SQL Server};SERVER=15.46.110.222,1433;DATABASE=FULLSHIPVPOR;UID=Admin;PWD=123789\"\n",
    "\n",
    "quoted = quote_plus(conn)\n",
    "new_con = 'mssql+pyodbc:///?odbc_connect={}'.format(quoted)\n",
    "engine = db.create_engine(new_con, fast_executemany=True)\n",
    "\n",
    "connection = engine.connect()\n",
    "\n",
    "table_name = 'FULLSHIPVPOR'"
   ]
  },
  {
   "cell_type": "markdown",
   "metadata": {},
   "source": [
    "# Shipment"
   ]
  },
  {
   "cell_type": "code",
   "execution_count": null,
   "metadata": {
    "ExecuteTime": {
     "end_time": "2020-03-04T02:36:35.295482Z",
     "start_time": "2020-03-04T02:36:33.519498Z"
    }
   },
   "outputs": [],
   "source": [
    "# shipment_df = pd.read_csv(\n",
    "#     r'C:\\Users\\KohMansf\\Desktop\\MJ Projects\\All Files\\Waterfall\\SHIPMENT\\Shipment.csv',\n",
    "#     na_filter=False)\n",
    "# shipment_df = shipment_df[(shipment_df[['Qty']] != 0).all(axis=1)]\n",
    "# shipment_df = shipment_df.loc[(shipment_df['MPA'] != 'NKG-YUEYANG')]\n",
    "# shipment_df.to_sql(table_name,\n",
    "#                    engine,\n",
    "#                    if_exists='replace',\n",
    "#                    chunksize=None,\n",
    "#                    index=False,\n",
    "#                    dtype={\n",
    "#                        'FK': db.types.VARCHAR(length=50),\n",
    "#                        'SKU': db.types.VARCHAR(length=20),\n",
    "#                        'Platform': db.types.VARCHAR(length=50),\n",
    "#                        'Region': db.types.VARCHAR(length=8),\n",
    "#                        'MPA': db.types.VARCHAR(length=20),\n",
    "#                        'Target_Location': db.types.VARCHAR(length=20),\n",
    "#                        'WkDate': db.types.INTEGER(),\n",
    "#                        'ISO_WK_NR': db.types.INTEGER(),\n",
    "#                        'Qty': db.types.INTEGER(),\n",
    "#                        'YYYYWW': db.types.INTEGER(),\n",
    "#                        'QtyType': db.types.VARCHAR(length=4)\n",
    "#                    })\n",
    "# print(shipment_df.head())\n",
    "# print(shipment_df.shape)"
   ]
  },
  {
   "cell_type": "markdown",
   "metadata": {},
   "source": [
    "# POR"
   ]
  },
  {
   "cell_type": "code",
   "execution_count": null,
   "metadata": {
    "ExecuteTime": {
     "end_time": "2020-03-20T08:51:53.892973Z",
     "start_time": "2020-03-20T08:50:50.444785Z"
    },
    "scrolled": true
   },
   "outputs": [],
   "source": [
    "por_df = pd.read_csv(\n",
    "    r'C:\\Users\\KohMansf\\Documents\\STAMS_FILES\\DB\\POR\\POR2020\\2020_to_upload.csv',\n",
    "    na_filter=False)\n",
    "por_df.to_sql(table_name,\n",
    "              engine,\n",
    "              if_exists='replace',\n",
    "              chunksize=None,\n",
    "              index=False,\n",
    "              dtype={\n",
    "                  'Planning_Wk': db.types.VARCHAR(length=7),\n",
    "                  'MPA': db.types.VARCHAR(length=50),\n",
    "                  'SKU': db.types.VARCHAR(length=50),\n",
    "                  'Program': db.types.VARCHAR(length=50),\n",
    "                  'Platform': db.types.VARCHAR(length=50),\n",
    "                  'Product_Line': db.types.VARCHAR(length=2),\n",
    "                  'Target_Location': db.types.VARCHAR(length=20),\n",
    "                  'YYYYWW': db.types.INTEGER(),\n",
    "                  'Region': db.types.VARCHAR(length=8),\n",
    "                  'Qty': db.types.INTEGER(),\n",
    "                  'QtyType': db.types.VARCHAR(length=4),\n",
    "                  'DATES': db.types.Date\n",
    "              })\n",
    "print(por_df.head())\n",
    "print(por_df.shape)"
   ]
  },
  {
   "cell_type": "markdown",
   "metadata": {},
   "source": [
    "# FULLSHIPVPOR"
   ]
  },
  {
   "cell_type": "code",
   "execution_count": null,
   "metadata": {
    "ExecuteTime": {
     "end_time": "2020-03-20T09:03:52.548416Z",
     "start_time": "2020-03-20T08:59:18.473542Z"
    }
   },
   "outputs": [],
   "source": [
    "fullshipvpor_df = pd.read_csv(\n",
    "    r'C:\\Users\\KohMansf\\Documents\\STAMS_FILES\\DB\\FULLSHIPVPOR\\FULLSHIPVPOR.csv',\n",
    "    na_filter=False)\n",
    "fullshipvpor_df.to_sql(table_name,\n",
    "                       engine,\n",
    "                       if_exists='replace',\n",
    "                       chunksize=None,\n",
    "                       index=False,\n",
    "                       dtype={\n",
    "                           'Planning_Wk': db.types.VARCHAR(length=7),\n",
    "                           'YYYYWW': db.types.INTEGER(),\n",
    "                           'Region': db.types.VARCHAR(length=8),\n",
    "                           'MPA': db.types.VARCHAR(length=50),\n",
    "                           'Qty': db.types.INTEGER(),\n",
    "                           'QtyType': db.types.VARCHAR(length=4),\n",
    "                           'Platform': db.types.VARCHAR(length=50),\n",
    "                           'DATES': db.types.Date\n",
    "                       })\n",
    "print(fullshipvpor_df.head())\n",
    "print(fullshipvpor_df.shape)"
   ]
  },
  {
   "cell_type": "code",
   "execution_count": null,
   "metadata": {},
   "outputs": [],
   "source": []
  }
 ],
 "metadata": {
  "hide_input": false,
  "kernelspec": {
   "display_name": "Python 3",
   "language": "python",
   "name": "python3"
  },
  "language_info": {
   "codemirror_mode": {
    "name": "ipython",
    "version": 3
   },
   "file_extension": ".py",
   "mimetype": "text/x-python",
   "name": "python",
   "nbconvert_exporter": "python",
   "pygments_lexer": "ipython3",
   "version": "3.7.5"
  },
  "latex_envs": {
   "LaTeX_envs_menu_present": true,
   "autoclose": false,
   "autocomplete": true,
   "bibliofile": "biblio.bib",
   "cite_by": "apalike",
   "current_citInitial": 1,
   "eqLabelWithNumbers": true,
   "eqNumInitial": 1,
   "hotkeys": {
    "equation": "Ctrl-E",
    "itemize": "Ctrl-I"
   },
   "labels_anchors": false,
   "latex_user_defs": false,
   "report_style_numbering": false,
   "user_envs_cfg": false
  },
  "toc": {
   "base_numbering": 1,
   "nav_menu": {},
   "number_sections": true,
   "sideBar": true,
   "skip_h1_title": false,
   "title_cell": "Table of Contents",
   "title_sidebar": "Contents",
   "toc_cell": false,
   "toc_position": {
    "height": "calc(100% - 180px)",
    "left": "10px",
    "top": "150px",
    "width": "368px"
   },
   "toc_section_display": true,
   "toc_window_display": true
  }
 },
 "nbformat": 4,
 "nbformat_minor": 2
}
