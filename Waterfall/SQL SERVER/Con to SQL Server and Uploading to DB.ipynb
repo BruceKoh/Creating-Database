{
 "cells": [
  {
   "cell_type": "code",
   "execution_count": 14,
   "metadata": {
    "ExecuteTime": {
     "end_time": "2020-03-03T05:39:48.774175Z",
     "start_time": "2020-03-03T05:39:48.769202Z"
    }
   },
   "outputs": [],
   "source": [
    "import pandas as pd\n",
    "import pyodbc\n",
    "import sqlalchemy as db\n",
    "from urllib.parse import quote_plus"
   ]
  },
  {
   "cell_type": "markdown",
   "metadata": {},
   "source": [
    "# Connection"
   ]
  },
  {
   "cell_type": "markdown",
   "metadata": {},
   "source": [
    "**Local Server**"
   ]
  },
  {
   "cell_type": "code",
   "execution_count": 22,
   "metadata": {
    "ExecuteTime": {
     "end_time": "2020-03-03T06:00:25.044741Z",
     "start_time": "2020-03-03T06:00:25.036763Z"
    }
   },
   "outputs": [],
   "source": [
    "conn = \"DRIVER={ODBC Driver 17 for SQL Server};SERVER=KOHMANSF1\\SQLEXPRESS;DATABASE=FULLSHIPVPOR;Trusted_Connection=yes\"\n",
    "\n",
    "table_name = 'FULLSHIPVPOR'\n",
    "\n",
    "quoted = quote_plus(conn)\n",
    "new_con = 'mssql+pyodbc:///?odbc_connect={}'.format(quoted)\n",
    "engine = db.create_engine(new_con, fast_executemany=True)"
   ]
  },
  {
   "cell_type": "markdown",
   "metadata": {},
   "source": [
    "**External Server**"
   ]
  },
  {
   "cell_type": "code",
   "execution_count": null,
   "metadata": {
    "ExecuteTime": {
     "end_time": "2020-02-24T07:40:25.633549Z",
     "start_time": "2020-02-24T07:40:25.496555Z"
    }
   },
   "outputs": [],
   "source": [
    "conn = \"DRIVER={ODBC Driver 17 for SQL Server};SERVER=15.46.110.222,1433;DATABASE=TEST;UID=Admin;PWD=123\"\n",
    "\n",
    "quoted = quote_plus(conn)\n",
    "new_con = 'mssql+pyodbc:///?odbc_connect={}'.format(quoted)\n",
    "engine = db.create_engine(new_con, fast_executemany=True)\n",
    "\n",
    "connection = engine.connect()\n",
    "\n",
    "table_name = 'TEST'"
   ]
  },
  {
   "cell_type": "markdown",
   "metadata": {},
   "source": [
    "# Shipment"
   ]
  },
  {
   "cell_type": "code",
   "execution_count": 12,
   "metadata": {
    "ExecuteTime": {
     "end_time": "2020-03-03T05:36:20.664307Z",
     "start_time": "2020-03-03T05:36:19.885389Z"
    }
   },
   "outputs": [
    {
     "name": "stdout",
     "output_type": "stream",
     "text": [
      "                             FK         SKU Platform Region           MPA  \\\n",
      "60   EMEA1AS85A#636433672018W38  1AS85A#636    IBIZA   EMEA  NKG-THAILAND   \n",
      "61   EMEA1AS85A#636433952018W42  1AS85A#636    IBIZA   EMEA  NKG-THAILAND   \n",
      "62   EMEA1AS85A#636434022018W43  1AS85A#636    IBIZA   EMEA  NKG-THAILAND   \n",
      "103  EMEA1AS85A#637433882018W41  1AS85A#637    IBIZA   EMEA  NKG-THAILAND   \n",
      "104  EMEA1AS85A#637434022018W43  1AS85A#637    IBIZA   EMEA  NKG-THAILAND   \n",
      "\n",
      "    Target Location  WkDate  ISO_WK_NR   Qty  YYYYWW QtyType  \n",
      "60          (blank)   43367         38  1200  201839    SHIP  \n",
      "61          (blank)   43395         42  2400  201843    SHIP  \n",
      "62          (blank)   43402         43  2400  201844    SHIP  \n",
      "103         (blank)   43388         41  1200  201842    SHIP  \n",
      "104         (blank)   43402         43  2400  201844    SHIP  \n",
      "(16995, 11)\n"
     ]
    }
   ],
   "source": [
    "shipment_df = pd.read_csv(\n",
    "    r'C:\\Users\\KohMansf\\Desktop\\MJ Projects\\All Files\\Waterfall\\SHIPMENT\\Shipment.csv',\n",
    "    na_filter=False)\n",
    "shipment_df = shipment_df[(shipment_df[['Qty']] != 0).all(axis=1)]\n",
    "shipment_df.to_sql(table_name,\n",
    "                   engine,\n",
    "                   if_exists='replace',\n",
    "                   chunksize=None,\n",
    "                   index=False,\n",
    "                   dtype={\n",
    "                       'FK': db.types.VARCHAR(length=50),\n",
    "                       'SKU': db.types.VARCHAR(length=20),\n",
    "                       'Platform': db.types.VARCHAR(length=50),\n",
    "                       'Region': db.types.VARCHAR(length=8),\n",
    "                       'MPA': db.types.VARCHAR(length=20),\n",
    "                       'Target_Location': db.types.VARCHAR(length=20),\n",
    "                       'WkDate': db.types.INTEGER(),\n",
    "                       'ISO_WK_NR': db.types.INTEGER(),\n",
    "                       'Qty': db.types.INTEGER(),\n",
    "                       'YYYYWW': db.types.INTEGER(),\n",
    "                       'QtyType': db.types.VARCHAR(length=4)\n",
    "                   })\n",
    "print(shipment_df.head())\n",
    "print(shipment_df.shape)"
   ]
  },
  {
   "cell_type": "markdown",
   "metadata": {},
   "source": [
    "# POR"
   ]
  },
  {
   "cell_type": "code",
   "execution_count": 21,
   "metadata": {
    "ExecuteTime": {
     "end_time": "2020-03-03T05:58:57.018866Z",
     "start_time": "2020-03-03T05:57:20.021551Z"
    },
    "scrolled": true
   },
   "outputs": [
    {
     "name": "stdout",
     "output_type": "stream",
     "text": [
      "                                  PK   Qty Planning_Wk Product_Line  \\\n",
      "0  01BMFOXCONN4UJ28B#629433112018W30     0     2018W30           2N   \n",
      "1  01BMFOXCONN4UJ28B#629433182018W30     0     2018W30           2N   \n",
      "2  01BMFOXCONN4UJ28B#629433252018W30     0     2018W30           2N   \n",
      "3  01BMFOXCONN4UJ28B#629433252018W32     0     2018W32           2N   \n",
      "4  01BMFOXCONN4UJ28B#629433322018W30  2016     2018W30           2N   \n",
      "\n",
      "               Platform                Program Target_Location         SKU  \\\n",
      "0  TAIJI MINUS WL I-INK  TAIJI MINUS WL I-INK             01BM  4UJ28B#629   \n",
      "1  TAIJI MINUS WL I-INK  TAIJI MINUS WL I-INK             01BM  4UJ28B#629   \n",
      "2  TAIJI MINUS WL I-INK  TAIJI MINUS WL I-INK             01BM  4UJ28B#629   \n",
      "3  TAIJI MINUS WL I-INK  TAIJI MINUS WL I-INK             01BM  4UJ28B#629   \n",
      "4  TAIJI MINUS WL I-INK  TAIJI MINUS WL I-INK             01BM  4UJ28B#629   \n",
      "\n",
      "       MPA  WkDate  YYYYWW Region                          FK QtyType  \n",
      "0  FOXCONN   43311  201831   EMEA  EMEA4UJ28B#629433112018W30     POR  \n",
      "1  FOXCONN   43318  201832   EMEA  EMEA4UJ28B#629433182018W30     POR  \n",
      "2  FOXCONN   43325  201833   EMEA  EMEA4UJ28B#629433252018W30     POR  \n",
      "3  FOXCONN   43325  201833   EMEA  EMEA4UJ28B#629433252018W32     POR  \n",
      "4  FOXCONN   43332  201834   EMEA  EMEA4UJ28B#629433322018W30     POR  \n",
      "(1623582, 14)\n"
     ]
    }
   ],
   "source": [
    "por_df = pd.read_csv(\n",
    "    r'C:\\Users\\KohMansf\\Desktop\\MJ Projects\\All Files\\Waterfall\\2018POR\\2018_to_upload.csv',\n",
    "    na_filter=False)\n",
    "por_df.to_sql(table_name,\n",
    "              engine,\n",
    "              if_exists='replace',\n",
    "              chunksize=None,\n",
    "              index=False,\n",
    "              dtype={\n",
    "                  'PK': db.types.VARCHAR(length=50),\n",
    "                  'Planning_Wk': db.types.VARCHAR(length=7),\n",
    "                  'MPA': db.types.VARCHAR(length=20),\n",
    "                  'SKU': db.types.VARCHAR(length=20),\n",
    "                  'Program': db.types.VARCHAR(length=50),\n",
    "                  'Platform': db.types.VARCHAR(length=50),\n",
    "                  'Product_Line': db.types.VARCHAR(length=2),\n",
    "                  'Target_Location': db.types.VARCHAR(length=20),\n",
    "                  'WkDate': db.types.INTEGER(),\n",
    "                  'YYYYWW': db.types.INTEGER(),\n",
    "                  'Region': db.types.VARCHAR(length=8),\n",
    "                  'Qty': db.types.INTEGER(),\n",
    "                  'FK': db.types.VARCHAR(length=50),\n",
    "                  'QtyType': db.types.VARCHAR(length=4)\n",
    "              })\n",
    "print(por_df.head())\n",
    "print(por_df.shape)"
   ]
  },
  {
   "cell_type": "markdown",
   "metadata": {},
   "source": [
    "# FULLSHIPVPOR"
   ]
  },
  {
   "cell_type": "code",
   "execution_count": 24,
   "metadata": {
    "ExecuteTime": {
     "end_time": "2020-03-03T06:11:11.161522Z",
     "start_time": "2020-03-03T06:07:26.634407Z"
    }
   },
   "outputs": [
    {
     "name": "stdout",
     "output_type": "stream",
     "text": [
      "  Planning_Wk  YYYYWW Region      MPA   Qty QtyType              Platform\n",
      "0     2018W30  201831   EMEA  FOXCONN     0     POR  TAIJI MINUS WL I-INK\n",
      "1     2018W30  201832   EMEA  FOXCONN     0     POR  TAIJI MINUS WL I-INK\n",
      "2     2018W30  201833   EMEA  FOXCONN     0     POR  TAIJI MINUS WL I-INK\n",
      "3     2018W32  201833   EMEA  FOXCONN     0     POR  TAIJI MINUS WL I-INK\n",
      "4     2018W30  201834   EMEA  FOXCONN  2016     POR  TAIJI MINUS WL I-INK\n",
      "(5257662, 7)\n"
     ]
    }
   ],
   "source": [
    "fullshipvpor_df = pd.read_csv(\n",
    "    r'C:\\Users\\KohMansf\\Desktop\\MJ Projects\\STAMS\\Waterfall\\FINALSHIPVPOR\\Final.csv',\n",
    "    na_filter=False)\n",
    "fullshipvpor_df = fullshipvpor_df.loc[~(\n",
    "    (fullshipvpor_df.MPA == 'NKG-YUEYANG') &\n",
    "    (fullshipvpor_df.QtyType == 'SHIP'))]\n",
    "fullshipvpor_df.to_sql(table_name,\n",
    "                       engine,\n",
    "                       if_exists='replace',\n",
    "                       chunksize=None,\n",
    "                       index=False,\n",
    "                       dtype={\n",
    "                           'Planning_Wk': db.types.VARCHAR(length=7),\n",
    "                           'YYYYWW': db.types.INTEGER(),\n",
    "                           'Region': db.types.VARCHAR(length=8),\n",
    "                           'MPA': db.types.VARCHAR(length=20),\n",
    "                           'Qty': db.types.INTEGER(),\n",
    "                           'QtyType': db.types.VARCHAR(length=4),\n",
    "                           'Platform': db.types.VARCHAR(length=50)\n",
    "                       })\n",
    "print(fullshipvpor_df.head())\n",
    "print(fullshipvpor_df.shape)"
   ]
  },
  {
   "cell_type": "markdown",
   "metadata": {},
   "source": [
    "# ShipVPOR File"
   ]
  },
  {
   "cell_type": "code",
   "execution_count": null,
   "metadata": {
    "ExecuteTime": {
     "end_time": "2020-02-12T06:00:19.357900Z",
     "start_time": "2020-02-12T06:00:19.105667Z"
    },
    "scrolled": true
   },
   "outputs": [],
   "source": [
    "# ShipvPOR_df = pd.read_csv(\n",
    "#     r'C:\\Users\\KohMansf\\Desktop\\MJ Projects\\All Files\\Waterfall\\SHIPVPOR\\SHIPVPOR.csv',\n",
    "#     na_filter=False)\n",
    "# ShipvPOR_df.to_sql(table_name,\n",
    "#                    engine,\n",
    "#                    if_exists='replace',\n",
    "#                    chunksize=None,\n",
    "#                    index=False)\n",
    "# ShipvPOR_df.head()"
   ]
  }
 ],
 "metadata": {
  "hide_input": false,
  "kernelspec": {
   "display_name": "Python 3",
   "language": "python",
   "name": "python3"
  },
  "language_info": {
   "codemirror_mode": {
    "name": "ipython",
    "version": 3
   },
   "file_extension": ".py",
   "mimetype": "text/x-python",
   "name": "python",
   "nbconvert_exporter": "python",
   "pygments_lexer": "ipython3",
   "version": "3.7.5"
  },
  "latex_envs": {
   "LaTeX_envs_menu_present": true,
   "autoclose": false,
   "autocomplete": true,
   "bibliofile": "biblio.bib",
   "cite_by": "apalike",
   "current_citInitial": 1,
   "eqLabelWithNumbers": true,
   "eqNumInitial": 1,
   "hotkeys": {
    "equation": "Ctrl-E",
    "itemize": "Ctrl-I"
   },
   "labels_anchors": false,
   "latex_user_defs": false,
   "report_style_numbering": false,
   "user_envs_cfg": false
  },
  "toc": {
   "base_numbering": 1,
   "nav_menu": {},
   "number_sections": true,
   "sideBar": true,
   "skip_h1_title": false,
   "title_cell": "Table of Contents",
   "title_sidebar": "Contents",
   "toc_cell": false,
   "toc_position": {
    "height": "calc(100% - 180px)",
    "left": "10px",
    "top": "150px",
    "width": "368px"
   },
   "toc_section_display": true,
   "toc_window_display": true
  }
 },
 "nbformat": 4,
 "nbformat_minor": 2
}
