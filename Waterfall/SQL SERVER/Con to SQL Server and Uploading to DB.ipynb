{
 "cells": [
  {
   "cell_type": "code",
   "execution_count": null,
   "metadata": {
    "ExecuteTime": {
     "end_time": "2020-02-12T05:45:22.962154Z",
     "start_time": "2020-02-12T05:45:21.846139Z"
    }
   },
   "outputs": [],
   "source": [
    "import pandas as pd\n",
    "import pyodbc\n",
    "from sqlalchemy import create_engine\n",
    "from urllib.parse import quote_plus"
   ]
  },
  {
   "cell_type": "markdown",
   "metadata": {},
   "source": [
    "# Connection"
   ]
  },
  {
   "cell_type": "markdown",
   "metadata": {},
   "source": [
    "**Local Server**"
   ]
  },
  {
   "cell_type": "code",
   "execution_count": null,
   "metadata": {
    "ExecuteTime": {
     "end_time": "2020-02-12T06:00:10.942135Z",
     "start_time": "2020-02-12T06:00:10.936150Z"
    }
   },
   "outputs": [],
   "source": [
    "conn = \"DRIVER={ODBC Driver 17 for SQL Server};SERVER=KOHMANSF1\\SQLEXPRESS;DATABASE=SHIPVPOR;Trusted_Connection=yes\"\n",
    "\n",
    "table_name = 'SHIPVPOR'\n",
    "\n",
    "quoted = quote_plus(conn)\n",
    "new_con = 'mssql+pyodbc:///?odbc_connect={}'.format(quoted)\n",
    "engine = create_engine(new_con, fast_executemany=True)"
   ]
  },
  {
   "cell_type": "markdown",
   "metadata": {},
   "source": [
    "**External Server**"
   ]
  },
  {
   "cell_type": "code",
   "execution_count": null,
   "metadata": {
    "ExecuteTime": {
     "end_time": "2020-02-12T07:05:49.514996Z",
     "start_time": "2020-02-12T07:05:49.510010Z"
    }
   },
   "outputs": [],
   "source": [
    "conn = \"DRIVER={ODBC Driver 17 for SQL Server};SERVER=15.46.110.222,1433;DATABASE=FULLSHIPVPOR1;UID=Admin;PWD=123\"\n",
    "\n",
    "table_name = 'FULLSHIPVPOR1'\n",
    "\n",
    "quoted = quote_plus(conn)\n",
    "new_con = 'mssql+pyodbc:///?odbc_connect={}'.format(quoted)\n",
    "engine = create_engine(new_con, fast_executemany=True)"
   ]
  },
  {
   "cell_type": "code",
   "execution_count": null,
   "metadata": {
    "ExecuteTime": {
     "end_time": "2020-02-12T03:16:04.386233Z",
     "start_time": "2020-02-12T03:13:29.240917Z"
    }
   },
   "outputs": [],
   "source": [
    "df = pd.read_csv('Final.csv', dtype={'Planning_Wk': str, 'YYYYWW': int, 'Region': str, 'MPA': str,\n",
    "                                     'Qty': float, 'QtyType': str, 'Platform': str})\n",
    "df.to_sql(table_name, engine, if_exists='replace', chunksize=None, index=False)"
   ]
  },
  {
   "cell_type": "code",
   "execution_count": null,
   "metadata": {
    "ExecuteTime": {
     "end_time": "2020-02-11T01:47:41.252039Z",
     "start_time": "2020-02-11T01:47:38.765417Z"
    }
   },
   "outputs": [],
   "source": [
    "df = pd.read_csv(\n",
    "    r'C:\\Users\\KohMansf\\Desktop\\MJ Projects\\STAMS\\Waterfall\\SQL SERVER\\Final.csv', na_filter=False)\n",
    "df"
   ]
  },
  {
   "cell_type": "markdown",
   "metadata": {},
   "source": [
    "# Shipment"
   ]
  },
  {
   "cell_type": "code",
   "execution_count": null,
   "metadata": {
    "ExecuteTime": {
     "end_time": "2020-02-12T03:34:14.416966Z",
     "start_time": "2020-02-12T03:34:13.408621Z"
    }
   },
   "outputs": [],
   "source": [
    "shipment_df = pd.read_csv(\n",
    "    r'C:\\Users\\KohMansf\\Desktop\\MJ Projects\\All Files\\Waterfall\\SHIPMENT\\Shipment.csv', na_filter=False)\n",
    "shipment_df['YYYYWW'] = shipment_df['YYYYWW'].astype('str')\n",
    "shipment_df = shipment_df[(shipment_df[['Total']] != 0).all(axis=1)]\n",
    "shipment_df.to_sql(table_name, engine, if_exists='replace',\n",
    "                   chunksize=None, index=False)\n",
    "shipment_df"
   ]
  },
  {
   "cell_type": "markdown",
   "metadata": {},
   "source": [
    "# POR"
   ]
  },
  {
   "cell_type": "code",
   "execution_count": null,
   "metadata": {
    "ExecuteTime": {
     "end_time": "2020-02-12T05:56:02.917419Z",
     "start_time": "2020-02-12T05:54:02.069747Z"
    },
    "scrolled": true
   },
   "outputs": [],
   "source": [
    "por_df = pd.read_csv(\n",
    "    r'C:\\Users\\KohMansf\\Desktop\\MJ Projects\\All Files\\Waterfall\\2018POR\\2018_to_upload.csv', sep=',', dtype={'PK': str, 'Planning_Wk': str,\n",
    "                                                                                          'MPA': str, 'SKU': str, 'Program': str,\n",
    "                                                                                          'Platform': str, 'Product_Line': str,\n",
    "                                                                                          'Target_Location': str, 'WkDate': str,\n",
    "                                                                                          'YYYYWW': str, 'Region': str,\n",
    "                                                                                          'Qty': int, 'FK': str, 'QtyType': str},\n",
    "    na_filter=False)\n",
    "por_df.to_sql(table_name, engine, if_exists='replace', chunksize=None, index=False)\n",
    "por_df"
   ]
  },
  {
   "cell_type": "markdown",
   "metadata": {},
   "source": [
    "# ShipVPOR File"
   ]
  },
  {
   "cell_type": "code",
   "execution_count": null,
   "metadata": {
    "ExecuteTime": {
     "end_time": "2020-02-12T06:00:19.357900Z",
     "start_time": "2020-02-12T06:00:19.105667Z"
    },
    "scrolled": true
   },
   "outputs": [],
   "source": [
    "ShipvPOR_df = pd.read_csv(\n",
    "    r'C:\\Users\\KohMansf\\Desktop\\MJ Projects\\All Files\\Waterfall\\SHIPVPOR\\SHIPVPOR.csv', na_filter=False)\n",
    "ShipvPOR_df.to_sql(table_name, engine, if_exists='replace', chunksize=None, index=False)\n",
    "ShipvPOR_df"
   ]
  },
  {
   "cell_type": "markdown",
   "metadata": {},
   "source": [
    "# Full ShipVPOR"
   ]
  },
  {
   "cell_type": "code",
   "execution_count": null,
   "metadata": {
    "ExecuteTime": {
     "end_time": "2020-02-12T07:08:43.412698Z",
     "start_time": "2020-02-12T07:06:02.363257Z"
    }
   },
   "outputs": [],
   "source": [
    "fullshipvpor_df = pd.read_csv(\n",
    "    r'C:\\Users\\KohMansf\\Desktop\\MJ Projects\\STAMS\\Waterfall\\SQL SERVER\\Final1.csv', na_filter=False)\n",
    "fullshipvpor_df = fullshipvpor_df.loc[~((fullshipvpor_df.MPA == 'NKG-YUEYANG') & (fullshipvpor_df.QtyType == 'SHIP'))]\n",
    "fullshipvpor_df\n",
    "fullshipvpor_df.to_sql(table_name, engine, if_exists='replace', chunksize=None, index=False)"
   ]
  }
 ],
 "metadata": {
  "hide_input": false,
  "kernelspec": {
   "display_name": "Python 3",
   "language": "python",
   "name": "python3"
  },
  "language_info": {
   "codemirror_mode": {
    "name": "ipython",
    "version": 3
   },
   "file_extension": ".py",
   "mimetype": "text/x-python",
   "name": "python",
   "nbconvert_exporter": "python",
   "pygments_lexer": "ipython3",
   "version": "3.7.5"
  },
  "latex_envs": {
   "LaTeX_envs_menu_present": true,
   "autoclose": false,
   "autocomplete": true,
   "bibliofile": "biblio.bib",
   "cite_by": "apalike",
   "current_citInitial": 1,
   "eqLabelWithNumbers": true,
   "eqNumInitial": 1,
   "hotkeys": {
    "equation": "Ctrl-E",
    "itemize": "Ctrl-I"
   },
   "labels_anchors": false,
   "latex_user_defs": false,
   "report_style_numbering": false,
   "user_envs_cfg": false
  },
  "toc": {
   "base_numbering": 1,
   "nav_menu": {},
   "number_sections": true,
   "sideBar": true,
   "skip_h1_title": false,
   "title_cell": "Table of Contents",
   "title_sidebar": "Contents",
   "toc_cell": false,
   "toc_position": {
    "height": "calc(100% - 180px)",
    "left": "10px",
    "top": "150px",
    "width": "368px"
   },
   "toc_section_display": true,
   "toc_window_display": true
  }
 },
 "nbformat": 4,
 "nbformat_minor": 2
}
