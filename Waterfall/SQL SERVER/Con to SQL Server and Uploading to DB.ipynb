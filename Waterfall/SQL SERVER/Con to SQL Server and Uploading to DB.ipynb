{
 "cells": [
  {
   "cell_type": "code",
   "execution_count": null,
   "metadata": {
    "ExecuteTime": {
     "end_time": "2020-02-07T06:12:24.923611Z",
     "start_time": "2020-02-07T06:12:23.981455Z"
    }
   },
   "outputs": [],
   "source": [
    "import pandas as pd\n",
    "import pyodbc"
   ]
  },
  {
   "cell_type": "markdown",
   "metadata": {},
   "source": [
    "# Choose connection"
   ]
  },
  {
   "cell_type": "markdown",
   "metadata": {},
   "source": [
    "**Local Server (Please set Server, Database, UID, PWD accordingly for the code below)**"
   ]
  },
  {
   "cell_type": "code",
   "execution_count": null,
   "metadata": {
    "ExecuteTime": {
     "end_time": "2020-02-04T08:59:28.307001Z",
     "start_time": "2020-02-04T08:59:28.134224Z"
    }
   },
   "outputs": [],
   "source": [
    "sql_conn = pyodbc.connect('Driver={SQL Server};'\n",
    "                          'Server=tcp:15.46.112.95,1433;'\n",
    "                          'Database=2018POR;'\n",
    "                          'UID=man;'\n",
    "                          'PWD=123;'\n",
    "                          'Trusted_Connection=NO;')"
   ]
  },
  {
   "cell_type": "markdown",
   "metadata": {},
   "source": [
    "**Personal Server (Please set Server and Database accordingly for the code below)**"
   ]
  },
  {
   "cell_type": "code",
   "execution_count": null,
   "metadata": {
    "ExecuteTime": {
     "end_time": "2020-02-07T06:12:42.537987Z",
     "start_time": "2020-02-07T06:12:42.493710Z"
    }
   },
   "outputs": [],
   "source": [
    "sql_conn = pyodbc.connect('Driver={SQL Server};'\n",
    "                          'Server=KOHMANSF1\\SQLEXPRESS;'\n",
    "                          'Database=TESTFULLSHIPVPOR;'\n",
    "                          'Trusted_Connection=yes;')"
   ]
  },
  {
   "cell_type": "markdown",
   "metadata": {},
   "source": [
    "**Create Cursor**"
   ]
  },
  {
   "cell_type": "code",
   "execution_count": null,
   "metadata": {
    "ExecuteTime": {
     "end_time": "2020-02-07T06:12:43.799824Z",
     "start_time": "2020-02-07T06:12:43.795837Z"
    }
   },
   "outputs": [],
   "source": [
    "cursor = sql_conn.cursor()"
   ]
  },
  {
   "cell_type": "markdown",
   "metadata": {},
   "source": [
    "# Shipment"
   ]
  },
  {
   "cell_type": "code",
   "execution_count": null,
   "metadata": {
    "ExecuteTime": {
     "end_time": "2020-02-05T01:55:37.365487Z",
     "start_time": "2020-02-05T01:55:36.898118Z"
    }
   },
   "outputs": [],
   "source": [
    "shipment_df = pd.read_csv(\n",
    "    r'C:\\Users\\KohMansf\\Desktop\\MJ Projects\\All Files\\Waterfall\\SHIPMENT\\Shipment.csv', na_filter=False)\n",
    "shipment_df['YYYYWW'] = shipment_df['YYYYWW'].astype('str')\n",
    "shipment_df = shipment_df[(shipment_df[['Total']]!= 0).all(axis=1)]\n",
    "shipment_df"
   ]
  },
  {
   "cell_type": "markdown",
   "metadata": {},
   "source": [
    "**Create Shipment table in database (Remove need for being a primary key for duplicates)**"
   ]
  },
  {
   "cell_type": "code",
   "execution_count": null,
   "metadata": {
    "ExecuteTime": {
     "end_time": "2020-02-05T01:55:55.805389Z",
     "start_time": "2020-02-05T01:55:55.781425Z"
    }
   },
   "outputs": [],
   "source": [
    "cursor.execute(\"CREATE TABLE SHIPMENT([FK] VARCHAR(100) NOT NULL, [SKU] VARCHAR(20), [Platform] VARCHAR(50), [Region] VARCHAR(50),[MPA] VARCHAR(50),\"\n",
    "               \"[Target_Location] VARCHAR(20), [WkDate] INT, [ISO_WK_NR] INT, [Total] INT, [YYYYWW] VARCHAR(6), [QtyType] VARCHAR(10))\")"
   ]
  },
  {
   "cell_type": "markdown",
   "metadata": {},
   "source": [
    "**Insert rows from Shipment file into database Shipment table (Change row[' '] accordingly to Shipment file column title)**"
   ]
  },
  {
   "cell_type": "code",
   "execution_count": null,
   "metadata": {
    "ExecuteTime": {
     "end_time": "2020-02-05T01:56:16.370316Z",
     "start_time": "2020-02-05T01:56:01.853097Z"
    }
   },
   "outputs": [],
   "source": [
    "for index, row in shipment_df.iterrows():\n",
    "\n",
    "    cursor.execute(\"INSERT INTO SHIPMENT([FK],[SKU],[Platform],[Region],[MPA],[Target_Location], [WkDate], [ISO_WK_NR], [Total], [YYYYWW],[QtyType])values(?,?,?,?,?,?,?,?,?,?,?)\",\n",
    "                   row['FK'], row['SKU'], row['Platform'], row['Region_Ori'], row['MPA'], row['Target Location'], row['WkDate'], row['ISO_WK_NR'], row['Total'], row['YYYYWW'], row['QtyType'])\n",
    "\n",
    "sql_conn.commit()\n",
    "\n",
    "cursor.close()\n",
    "\n",
    "sql_conn.close()"
   ]
  },
  {
   "cell_type": "markdown",
   "metadata": {},
   "source": [
    "# POR"
   ]
  },
  {
   "cell_type": "code",
   "execution_count": null,
   "metadata": {
    "ExecuteTime": {
     "end_time": "2020-01-17T07:19:54.475564Z",
     "start_time": "2020-01-17T07:19:45.418800Z"
    },
    "scrolled": true
   },
   "outputs": [],
   "source": [
    "por_df = pd.read_csv(\n",
    "    r'C:\\Users\\KohMansf\\Desktop\\MJ Projects\\All Files\\Waterfall\\2019POR', sep=',', dtype={'PK': str, 'Planning_Wk': str,\n",
    "                                                                                                       'MPA': str, 'SKU': str, 'Program': str,\n",
    "                                                                                                       'Platform': str, 'Product_Line': str,\n",
    "                                                                                                       'Target_Location': str, 'WkDate': str,\n",
    "                                                                                                       'YYYYWW': str, 'Region': str,\n",
    "                                                                                                       'Qty': int, 'FK': str, 'QtyType': str},\n",
    "    na_filter=False)\n",
    "por_df"
   ]
  },
  {
   "cell_type": "code",
   "execution_count": null,
   "metadata": {
    "ExecuteTime": {
     "end_time": "2020-01-17T07:19:54.486534Z",
     "start_time": "2020-01-17T07:19:54.477557Z"
    }
   },
   "outputs": [],
   "source": [
    "cursor.execute(\"CREATE TABLE POR2019 ([PK] VARCHAR(100) PRIMARY KEY NOT NULL, [Planning_Wk] VARCHAR(20),\\\n",
    "               [Product_Line] VARCHAR(2),[Platform] VARCHAR(50),[Program] VARCHAR(50),[Target_Location] VARCHAR(20),\\\n",
    "               [SKU] VARCHAR(20), [MPA] VARCHAR(20), [WkDate] VARCHAR(20), [Qty] INT, [FK] VARCHAR(100),\\\n",
    "               [YYYYWW] VARCHAR(6), [Region] VARCHAR(20), [QtyType] VARCHAR(10))\")"
   ]
  },
  {
   "cell_type": "code",
   "execution_count": null,
   "metadata": {
    "ExecuteTime": {
     "end_time": "2020-01-17T07:50:24.345027Z",
     "start_time": "2020-01-17T07:19:54.489526Z"
    }
   },
   "outputs": [],
   "source": [
    "for index, row in por_df.iterrows():\n",
    "\n",
    "    cursor.execute(\"INSERT INTO POR2019([PK],[Planning_Wk],[Product_Line],[Platform],[Program], [Target_Location], \\\n",
    "                   [SKU], [MPA],[WkDate],[Qty],[FK],[YYYYWW],[Region],[QtyType])values(?,?,?,?,?,?,?,?,?,?,?,?,?,?)\",\n",
    "                   row['PK'], row['Planning_Wk'], row['Product_Line'], row['Platform'], row['Program'], row['Target_Location'],\n",
    "                   row['SKU'], row['MPA'], row['WkDate'], row['Qty'], row['FK'], row['YYYYWW'], row['Region'], row['QtyType'])\n",
    "\n",
    "sql_conn.commit()\n",
    "\n",
    "cursor.close()\n",
    "\n",
    "sql_conn.close()"
   ]
  },
  {
   "cell_type": "markdown",
   "metadata": {},
   "source": [
    "# ShipVPOR File"
   ]
  },
  {
   "cell_type": "code",
   "execution_count": null,
   "metadata": {
    "ExecuteTime": {
     "end_time": "2020-01-13T02:21:16.784324Z",
     "start_time": "2020-01-13T02:21:16.729729Z"
    },
    "scrolled": true
   },
   "outputs": [],
   "source": [
    "shipvPOR_df = pd.read_csv(\n",
    "    r'C:\\Users\\KohMansf\\Desktop\\MJ Projects\\All Files\\Waterfall\\SHIPVPOR', na_filter=False)\n",
    "shipvPOR_df"
   ]
  },
  {
   "cell_type": "code",
   "execution_count": null,
   "metadata": {
    "ExecuteTime": {
     "end_time": "2020-01-13T02:21:21.241703Z",
     "start_time": "2020-01-13T02:21:21.233764Z"
    }
   },
   "outputs": [],
   "source": [
    "cursor.execute(\"CREATE TABLE SHIPVPOR2018([Planning_Wk] VARCHAR(20), [Product_Line] VARCHAR(2), [Platform] VARCHAR(50), \\\n",
    "               [Program] VARCHAR(50),[MPA] VARCHAR(50), [Target_Location] VARCHAR(10), [SKU] VARCHAR(20), [WkDate] DATETIME, \\\n",
    "               [PORQty] INT, [Region] VARCHAR(20), [ShipWkNo] INT, [ShipTotal] INT, [FK] VARCHAR(100), [YYYYWW] VARCHAR(6))\")"
   ]
  },
  {
   "cell_type": "code",
   "execution_count": null,
   "metadata": {
    "ExecuteTime": {
     "end_time": "2020-01-13T02:21:33.761237Z",
     "start_time": "2020-01-13T02:21:31.678679Z"
    }
   },
   "outputs": [],
   "source": [
    "for index, row in shipvPOR_df.iterrows():\n",
    "\n",
    "    cursor.execute(\"INSERT INTO SHIPVPOR2018([Planning_Wk],[Product_Line],[Platform],[Program],[MPA], \\\n",
    "                   [Target_Location], [SKU], [WkDate],[PORQty],[Region],[ShipWkNo],[ShipTotal], \\\n",
    "                   [FK],[YYYYWW])values(?,?,?,?,?,?,?,?,?,?,?,?,?,?)\",\n",
    "                   row['Planning_Wk'], row['Product_Line'], row['Platform'], row['Program'], row['MPA'],\n",
    "                   row['Target_Location'], row['SKU'], row['WkDate'], row['PORQty'], row['Region'], row['ShipWkNo'],\n",
    "                   row['ShipTotal'], row['FK'], row['YYYYWW'])\n",
    "\n",
    "sql_conn.commit()\n",
    "\n",
    "cursor.close()\n",
    "\n",
    "sql_conn.close()"
   ]
  },
  {
   "cell_type": "markdown",
   "metadata": {},
   "source": [
    "# Full ShipVPOR"
   ]
  },
  {
   "cell_type": "code",
   "execution_count": null,
   "metadata": {
    "ExecuteTime": {
     "end_time": "2020-02-07T06:12:50.920817Z",
     "start_time": "2020-02-07T06:12:48.307809Z"
    }
   },
   "outputs": [],
   "source": [
    "fullshipvpor_df = pd.read_csv(\n",
    "    r'C:\\Users\\KohMansf\\Desktop\\MJ Projects\\STAMS\\Waterfall\\SQL SERVER\\Final.csv', na_filter=False)\n",
    "fullshipvpor_df"
   ]
  },
  {
   "cell_type": "code",
   "execution_count": null,
   "metadata": {
    "ExecuteTime": {
     "end_time": "2020-02-07T02:55:07.706301Z",
     "start_time": "2020-02-07T02:55:07.699314Z"
    }
   },
   "outputs": [],
   "source": [
    "fullshipvpor_df.dtypes"
   ]
  },
  {
   "cell_type": "code",
   "execution_count": null,
   "metadata": {
    "ExecuteTime": {
     "end_time": "2020-02-07T03:11:49.210856Z",
     "start_time": "2020-02-07T03:11:49.201881Z"
    }
   },
   "outputs": [],
   "source": [
    "cursor.execute(\"CREATE TABLE FULLSHIPVPOR([Planning_Wk] VARCHAR(20), [YYYYWW] INT, [Region] VARCHAR(20), \\\n",
    "               [MPA] VARCHAR(50),[Qty] INT, [QtyType] VARCHAR(10), [Platform] VARCHAR(50))\")"
   ]
  },
  {
   "cell_type": "code",
   "execution_count": null,
   "metadata": {
    "ExecuteTime": {
     "end_time": "2020-02-07T03:42:09.210122Z",
     "start_time": "2020-02-07T03:11:51.169382Z"
    }
   },
   "outputs": [],
   "source": [
    "for index, row in fullshipvpor_df.iterrows():\n",
    "\n",
    "    cursor.execute(\"INSERT INTO FULLSHIPVPOR([Planning_Wk],[YYYYWW],[Region],[MPA], [Qty], [QtyType], [Platform]) \\\n",
    "                   values(?,?,?,?,?,?,?)\",\n",
    "                   row['Planning_Wk'], row['YYYYWW'], row['Region'], row['MPA'], row['Qty'],\n",
    "                   row['QtyType'], row['Platform'])\n",
    "\n",
    "sql_conn.commit()\n",
    "\n",
    "cursor.close()\n",
    "\n",
    "sql_conn.close()"
   ]
  },
  {
   "cell_type": "code",
   "execution_count": null,
   "metadata": {
    "ExecuteTime": {
     "end_time": "2020-02-07T06:13:04.264586Z",
     "start_time": "2020-02-07T06:13:04.253617Z"
    }
   },
   "outputs": [],
   "source": [
    "cursor.execute(\"CREATE TABLE TESTFULLSHIPVPOR([Planning_Wk] VARCHAR(20), [YYYYWW] INT, [Region] VARCHAR(20), \\\n",
    "               [MPA] VARCHAR(50),[Qty] INT, [QtyType] VARCHAR(10), [Platform] VARCHAR(50))\")"
   ]
  },
  {
   "cell_type": "code",
   "execution_count": null,
   "metadata": {
    "ExecuteTime": {
     "end_time": "2020-02-07T06:25:41.526920Z",
     "start_time": "2020-02-07T06:13:05.753112Z"
    }
   },
   "outputs": [],
   "source": [
    "for row in fullshipvpor_df.itertuples():\n",
    "\n",
    "    cursor.execute(\"INSERT INTO TESTFULLSHIPVPOR([Planning_Wk],[YYYYWW],[Region],[MPA], [Qty], [QtyType], [Platform]) \\\n",
    "                   values(?,?,?,?,?,?,?)\",\n",
    "                   row.Planning_Wk, row.YYYYWW, row.Region, row.MPA, row.Qty,\n",
    "                   row.QtyType, row.Platform)\n",
    "\n",
    "sql_conn.commit()\n",
    "\n",
    "cursor.close()\n",
    "\n",
    "sql_conn.close()"
   ]
  },
  {
   "cell_type": "markdown",
   "metadata": {},
   "source": [
    "# Closing connection (Ignore if not needed)"
   ]
  },
  {
   "cell_type": "code",
   "execution_count": null,
   "metadata": {
    "ExecuteTime": {
     "end_time": "2020-01-13T02:19:46.378055Z",
     "start_time": "2020-01-13T02:19:46.368135Z"
    }
   },
   "outputs": [],
   "source": [
    "sql_conn.commit()\n",
    "\n",
    "cursor.close()\n",
    "\n",
    "sql_conn.close()"
   ]
  }
 ],
 "metadata": {
  "hide_input": false,
  "kernelspec": {
   "display_name": "Python 3",
   "language": "python",
   "name": "python3"
  },
  "language_info": {
   "codemirror_mode": {
    "name": "ipython",
    "version": 3
   },
   "file_extension": ".py",
   "mimetype": "text/x-python",
   "name": "python",
   "nbconvert_exporter": "python",
   "pygments_lexer": "ipython3",
   "version": "3.7.4"
  },
  "latex_envs": {
   "LaTeX_envs_menu_present": true,
   "autoclose": false,
   "autocomplete": true,
   "bibliofile": "biblio.bib",
   "cite_by": "apalike",
   "current_citInitial": 1,
   "eqLabelWithNumbers": true,
   "eqNumInitial": 1,
   "hotkeys": {
    "equation": "Ctrl-E",
    "itemize": "Ctrl-I"
   },
   "labels_anchors": false,
   "latex_user_defs": false,
   "report_style_numbering": false,
   "user_envs_cfg": false
  },
  "toc": {
   "base_numbering": 1,
   "nav_menu": {},
   "number_sections": true,
   "sideBar": true,
   "skip_h1_title": false,
   "title_cell": "Table of Contents",
   "title_sidebar": "Contents",
   "toc_cell": false,
   "toc_position": {
    "height": "calc(100% - 180px)",
    "left": "10px",
    "top": "150px",
    "width": "368px"
   },
   "toc_section_display": true,
   "toc_window_display": true
  }
 },
 "nbformat": 4,
 "nbformat_minor": 2
}
