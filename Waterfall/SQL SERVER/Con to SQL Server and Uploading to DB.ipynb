{
 "cells": [
  {
   "cell_type": "code",
   "execution_count": 1,
   "metadata": {
    "ExecuteTime": {
     "end_time": "2020-04-21T10:59:22.478404Z",
     "start_time": "2020-04-21T10:59:20.798093Z"
    }
   },
   "outputs": [],
   "source": [
    "import pandas as pd\n",
    "import pyodbc\n",
    "import sqlalchemy as db\n",
    "from urllib.parse import quote_plus"
   ]
  },
  {
   "cell_type": "markdown",
   "metadata": {},
   "source": [
    "# Connection"
   ]
  },
  {
   "cell_type": "markdown",
   "metadata": {},
   "source": [
    "**Local Server**"
   ]
  },
  {
   "cell_type": "code",
   "execution_count": 2,
   "metadata": {
    "ExecuteTime": {
     "end_time": "2020-04-21T10:59:22.485068Z",
     "start_time": "2020-04-21T10:59:22.481075Z"
    }
   },
   "outputs": [],
   "source": [
    "# conn = \"DRIVER={ODBC Driver 17 for SQL Server};SERVER=KOHMANSF1\\SQLEXPRESS;DATABASE=FULLSHIPVPOR;Trusted_Connection=yes\"\n",
    "\n",
    "# table_name = 'FULLSHIPVPOR'\n",
    "\n",
    "# quoted = quote_plus(conn)\n",
    "# new_con = 'mssql+pyodbc:///?odbc_connect={}'.format(quoted)\n",
    "# engine = db.create_engine(new_con, fast_executemany=True)"
   ]
  },
  {
   "cell_type": "markdown",
   "metadata": {},
   "source": [
    "**External Server**"
   ]
  },
  {
   "cell_type": "code",
   "execution_count": 3,
   "metadata": {
    "ExecuteTime": {
     "end_time": "2020-04-21T10:59:30.726149Z",
     "start_time": "2020-04-21T10:59:29.677272Z"
    }
   },
   "outputs": [],
   "source": [
    "# conn = \"DRIVER={ODBC Driver 17 for SQL Server};SERVER=15.46.110.222,1433;DATABASE=POR;UID=Admin;PWD=123789\"\n",
    "\n",
    "# quoted = quote_plus(conn)\n",
    "# new_con = 'mssql+pyodbc:///?odbc_connect={}'.format(quoted)\n",
    "# engine = db.create_engine(new_con, fast_executemany=True)\n",
    "\n",
    "# connection = engine.connect()\n",
    "\n",
    "# table_name = 'POR2019'"
   ]
  },
  {
   "cell_type": "markdown",
   "metadata": {},
   "source": [
    "# Shipment"
   ]
  },
  {
   "cell_type": "code",
   "execution_count": null,
   "metadata": {
    "ExecuteTime": {
     "end_time": "2020-03-04T02:36:35.295482Z",
     "start_time": "2020-03-04T02:36:33.519498Z"
    }
   },
   "outputs": [],
   "source": [
    "# shipment_df = pd.read_csv(\n",
    "#     r'C:\\Users\\KohMansf\\Desktop\\MJ Projects\\All Files\\Waterfall\\SHIPMENT\\Shipment.csv',\n",
    "#     na_filter=False)\n",
    "# shipment_df = shipment_df[(shipment_df[['Qty']] != 0).all(axis=1)]\n",
    "# shipment_df = shipment_df.loc[(shipment_df['MPA'] != 'NKG-YUEYANG')]\n",
    "# shipment_df.to_sql(table_name,\n",
    "#                    engine,\n",
    "#                    if_exists='replace',\n",
    "#                    chunksize=None,\n",
    "#                    index=False,\n",
    "#                    dtype={\n",
    "#                        'FK': db.types.VARCHAR(length=50),\n",
    "#                        'SKU': db.types.VARCHAR(length=20),\n",
    "#                        'Platform': db.types.VARCHAR(length=50),\n",
    "#                        'Region': db.types.VARCHAR(length=8),\n",
    "#                        'MPA': db.types.VARCHAR(length=20),\n",
    "#                        'Target_Location': db.types.VARCHAR(length=20),\n",
    "#                        'WkDate': db.types.INTEGER(),\n",
    "#                        'ISO_WK_NR': db.types.INTEGER(),\n",
    "#                        'Qty': db.types.INTEGER(),\n",
    "#                        'YYYYWW': db.types.INTEGER(),\n",
    "#                        'QtyType': db.types.VARCHAR(length=4)\n",
    "#                    })\n",
    "# print(shipment_df.head())\n",
    "# print(shipment_df.shape)"
   ]
  },
  {
   "cell_type": "markdown",
   "metadata": {},
   "source": [
    "# POR"
   ]
  },
  {
   "cell_type": "code",
   "execution_count": 4,
   "metadata": {
    "ExecuteTime": {
     "end_time": "2020-04-21T11:16:46.971624Z",
     "start_time": "2020-04-21T11:01:05.253895Z"
    },
    "scrolled": true
   },
   "outputs": [
    {
     "name": "stdout",
     "output_type": "stream",
     "text": [
      "  Planning_Wk Product_Line            Platform              Program  \\\n",
      "0     2019W02           2N  FENDER UIA REFRESH  FENDER UIA REFRESH    \n",
      "1     2019W02           2N  FENDER UIA REFRESH  FENDER UIA REFRESH    \n",
      "2     2019W02           2N  FENDER UIA REFRESH  FENDER UIA REFRESH    \n",
      "3     2019W02           2N  FENDER UIA REFRESH  FENDER UIA REFRESH    \n",
      "4     2019W02           2N  FENDER UIA REFRESH  FENDER UIA REFRESH    \n",
      "\n",
      "  Target_Location         SKU                MPA Region     Qty  YYYYWW  \\\n",
      "0            H416  K7W98A#AB2  Foxconn ChongQing     AP   840.0  201903   \n",
      "1            H416  K7W98A#AB2  Foxconn ChongQing     AP     0.0  201904   \n",
      "2            H416  K7W98A#AB2  Foxconn ChongQing     AP  1410.0  201905   \n",
      "3            H416  K7W98A#AB2  Foxconn ChongQing     AP     0.0  201906   \n",
      "4            H416  K7W98A#AB2  Foxconn ChongQing     AP  1350.0  201907   \n",
      "\n",
      "        DATES QtyType  \n",
      "0  2019-01-14     POR  \n",
      "1  2019-01-21     POR  \n",
      "2  2019-01-28     POR  \n",
      "3  2019-02-04     POR  \n",
      "4  2019-02-11     POR  \n",
      "(3774264, 12)\n"
     ]
    }
   ],
   "source": [
    "# por_df = pd.read_csv(\n",
    "#     r'C:\\Users\\KohMansf\\Documents\\STAMS_FILES\\Waterfall\\DB\\POR\\POR2019\\2019_to_upload.csv',\n",
    "#     na_filter=False)\n",
    "# por_df.to_sql(table_name,\n",
    "#               engine,\n",
    "#               if_exists='replace',\n",
    "#               chunksize=None,\n",
    "#               index=False,\n",
    "#               dtype={\n",
    "#                   'Planning_Wk': db.types.VARCHAR(length=7),\n",
    "#                   'MPA': db.types.VARCHAR(length=50),\n",
    "#                   'SKU': db.types.VARCHAR(length=50),\n",
    "#                   'Program': db.types.VARCHAR(length=50),\n",
    "#                   'Platform': db.types.VARCHAR(length=50),\n",
    "#                   'Product_Line': db.types.VARCHAR(length=2),\n",
    "#                   'Target_Location': db.types.VARCHAR(length=20),\n",
    "#                   'YYYYWW': db.types.INTEGER(),\n",
    "#                   'Region': db.types.VARCHAR(length=8),\n",
    "#                   'Qty': db.types.INTEGER(),\n",
    "#                   'QtyType': db.types.VARCHAR(length=4),\n",
    "#                   'DATES': db.types.Date\n",
    "#               })\n",
    "# print(por_df.head())\n",
    "# print(por_df.shape)"
   ]
  },
  {
   "cell_type": "markdown",
   "metadata": {},
   "source": [
    "# FULLSHIPVPOR"
   ]
  },
  {
   "cell_type": "code",
   "execution_count": null,
   "metadata": {
    "ExecuteTime": {
     "end_time": "2020-04-17T09:07:35.038742Z",
     "start_time": "2020-04-17T08:55:05.455294Z"
    }
   },
   "outputs": [],
   "source": [
    "# fullshipvpor_df = pd.read_csv(\n",
    "#     r'C:\\Users\\KohMansf\\Documents\\STAMS_FILES\\Waterfall\\DB\\FULLSHIPVPOR\\FULLSHIPVPOR.csv',\n",
    "#     na_filter=False)\n",
    "# fullshipvpor_df.to_sql(table_name,\n",
    "#                        engine,\n",
    "#                        if_exists='replace',\n",
    "#                        chunksize=None,\n",
    "#                        index=False,\n",
    "#                        dtype={\n",
    "#                            'Planning_Wk': db.types.VARCHAR(length=7),\n",
    "#                            'YYYYWW': db.types.INTEGER(),\n",
    "#                            'Region': db.types.VARCHAR(length=8),\n",
    "#                            'MPA': db.types.VARCHAR(length=50),\n",
    "#                            'Qty': db.types.INTEGER(),\n",
    "#                            'QtyType': db.types.VARCHAR(length=4),\n",
    "#                            'Platform': db.types.VARCHAR(length=50),\n",
    "#                            'DATES': db.types.Date\n",
    "#                        })\n",
    "# print(fullshipvpor_df.head())\n",
    "# print(fullshipvpor_df.shape)"
   ]
  },
  {
   "cell_type": "code",
   "execution_count": null,
   "metadata": {},
   "outputs": [],
   "source": []
  }
 ],
 "metadata": {
  "hide_input": false,
  "kernelspec": {
   "display_name": "Python 3",
   "language": "python",
   "name": "python3"
  },
  "language_info": {
   "codemirror_mode": {
    "name": "ipython",
    "version": 3
   },
   "file_extension": ".py",
   "mimetype": "text/x-python",
   "name": "python",
   "nbconvert_exporter": "python",
   "pygments_lexer": "ipython3",
   "version": "3.7.5"
  },
  "latex_envs": {
   "LaTeX_envs_menu_present": true,
   "autoclose": false,
   "autocomplete": true,
   "bibliofile": "biblio.bib",
   "cite_by": "apalike",
   "current_citInitial": 1,
   "eqLabelWithNumbers": true,
   "eqNumInitial": 1,
   "hotkeys": {
    "equation": "Ctrl-E",
    "itemize": "Ctrl-I"
   },
   "labels_anchors": false,
   "latex_user_defs": false,
   "report_style_numbering": false,
   "user_envs_cfg": false
  },
  "toc": {
   "base_numbering": 1,
   "nav_menu": {},
   "number_sections": true,
   "sideBar": true,
   "skip_h1_title": false,
   "title_cell": "Table of Contents",
   "title_sidebar": "Contents",
   "toc_cell": false,
   "toc_position": {
    "height": "calc(100% - 180px)",
    "left": "10px",
    "top": "150px",
    "width": "367.997px"
   },
   "toc_section_display": true,
   "toc_window_display": true
  }
 },
 "nbformat": 4,
 "nbformat_minor": 2
}
