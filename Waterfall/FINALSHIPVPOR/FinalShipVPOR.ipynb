{
 "cells": [
  {
   "cell_type": "code",
   "execution_count": null,
   "metadata": {
    "ExecuteTime": {
     "end_time": "2020-03-30T03:07:45.827931Z",
     "start_time": "2020-03-30T03:07:45.650886Z"
    }
   },
   "outputs": [],
   "source": [
    "import pyodbc\n",
    "import pandas as pd\n",
    "import numpy as np\n",
    "import sqlalchemy as db\n",
    "from urllib.parse import quote_plus\n",
    "import os"
   ]
  },
  {
   "cell_type": "code",
   "execution_count": null,
   "metadata": {
    "ExecuteTime": {
     "end_time": "2020-03-30T03:07:45.833910Z",
     "start_time": "2020-03-30T03:07:45.829920Z"
    }
   },
   "outputs": [],
   "source": [
    "path = r'C:\\Users\\KohMansf\\Documents\\STAMS_FILES\\Waterfall\\DB\\FULLSHIPVPOR'\n",
    "os.chdir(path)"
   ]
  },
  {
   "cell_type": "markdown",
   "metadata": {},
   "source": [
    "# Connection"
   ]
  },
  {
   "cell_type": "markdown",
   "metadata": {},
   "source": [
    "Local Server"
   ]
  },
  {
   "cell_type": "code",
   "execution_count": null,
   "metadata": {
    "ExecuteTime": {
     "end_time": "2020-03-30T03:07:45.851862Z",
     "start_time": "2020-03-30T03:07:45.836901Z"
    }
   },
   "outputs": [],
   "source": [
    "# conn = \"DRIVER={ODBC Driver 17 for SQL Server};SERVER=KOHMANSF1\\SQLEXPRESS;DATABASE=POR;Trusted_Connection=yes\"\n",
    "# metadata = db.MetaData()\n",
    "# quoted = quote_plus(conn)\n",
    "# new_con = 'mssql+pyodbc:///?odbc_connect={}'.format(quoted)\n",
    "# engine = db.create_engine(new_con)\n",
    "# metadata.reflect(bind=engine)"
   ]
  },
  {
   "cell_type": "markdown",
   "metadata": {},
   "source": [
    "External Server"
   ]
  },
  {
   "cell_type": "code",
   "execution_count": null,
   "metadata": {
    "ExecuteTime": {
     "end_time": "2020-03-30T03:07:47.176216Z",
     "start_time": "2020-03-30T03:07:45.855851Z"
    }
   },
   "outputs": [],
   "source": [
    "conn = \"DRIVER={ODBC Driver 17 for SQL Server};SERVER=15.46.110.222,1433;DATABASE=POR;UID=Admin;PWD=123789\"\n",
    "metadata = db.MetaData()\n",
    "quoted = quote_plus(conn)\n",
    "new_con = 'mssql+pyodbc:///?odbc_connect={}'.format(quoted)\n",
    "engine = db.create_engine(new_con)\n",
    "metadata.reflect(bind=engine)"
   ]
  },
  {
   "cell_type": "markdown",
   "metadata": {},
   "source": [
    "# POR"
   ]
  },
  {
   "cell_type": "code",
   "execution_count": null,
   "metadata": {
    "ExecuteTime": {
     "end_time": "2020-03-30T03:09:32.308336Z",
     "start_time": "2020-03-30T03:07:47.181191Z"
    }
   },
   "outputs": [],
   "source": [
    "df_por = pd.DataFrame()\n",
    "for key in metadata.tables.keys():\n",
    "    key = db.Table(key, metadata, autoload=True, autoload_with=engine)\n",
    "    query = db.select([\n",
    "        key.columns.Planning_Wk, key.columns.YYYYWW, key.columns.Region,\n",
    "        key.columns.MPA, key.columns.Qty, key.columns.QtyType,\n",
    "        key.columns.Platform, key.columns.DATES\n",
    "    ])\n",
    "    ResultPOR = engine.connect().execute(query)\n",
    "    ResultSet = ResultPOR.fetchall()\n",
    "    df_por = df_por.append(ResultSet)\n",
    "df_por.columns = ResultSet[0].keys()"
   ]
  },
  {
   "cell_type": "code",
   "execution_count": null,
   "metadata": {
    "ExecuteTime": {
     "end_time": "2020-03-30T03:09:32.351223Z",
     "start_time": "2020-03-30T03:09:32.311328Z"
    }
   },
   "outputs": [],
   "source": [
    "df_por.head()"
   ]
  },
  {
   "cell_type": "code",
   "execution_count": null,
   "metadata": {
    "ExecuteTime": {
     "end_time": "2020-03-30T03:09:33.020567Z",
     "start_time": "2020-03-30T03:09:32.355214Z"
    }
   },
   "outputs": [],
   "source": [
    "por_plan = df_por['Planning_Wk'].unique()\n",
    "por_plan = por_plan.astype(str)\n",
    "por_plan = np.core.defchararray.replace(por_plan, 'W', '')\n",
    "por_plan = por_plan.astype(int)\n",
    "por_plan = np.sort(por_plan)\n",
    "por_plan"
   ]
  },
  {
   "cell_type": "markdown",
   "metadata": {},
   "source": [
    "# SHIPMENT"
   ]
  },
  {
   "cell_type": "markdown",
   "metadata": {},
   "source": [
    "Local Server"
   ]
  },
  {
   "cell_type": "code",
   "execution_count": null,
   "metadata": {
    "ExecuteTime": {
     "end_time": "2020-03-30T03:09:33.029507Z",
     "start_time": "2020-03-30T03:09:33.023521Z"
    }
   },
   "outputs": [],
   "source": [
    "# conn = \"DRIVER={ODBC Driver 17 for SQL Server};SERVER=KOHMANSF1\\SQLEXPRESS;DATABASE=SHIPMENT;Trusted_Connection=yes\"\n",
    "# metadata = db.MetaData()\n",
    "# quoted = quote_plus(conn)\n",
    "# new_con = 'mssql+pyodbc:///?odbc_connect={}'.format(quoted)\n",
    "# engine = db.create_engine(new_con)\n",
    "# metadata.reflect(bind=engine)\n",
    "# SHIPMENT = db.Table('SHIPMENT', metadata, autoload=True, autoload_with=engine)"
   ]
  },
  {
   "cell_type": "markdown",
   "metadata": {},
   "source": [
    "External Server"
   ]
  },
  {
   "cell_type": "code",
   "execution_count": null,
   "metadata": {
    "ExecuteTime": {
     "end_time": "2020-03-30T03:09:33.735972Z",
     "start_time": "2020-03-30T03:09:33.032497Z"
    }
   },
   "outputs": [],
   "source": [
    "conn = \"DRIVER={ODBC Driver 17 for SQL Server};SERVER=15.46.110.222,1433;DATABASE=SHIPMENT;UID=Admin;PWD=123789\"\n",
    "metadata = db.MetaData()\n",
    "quoted = quote_plus(conn)\n",
    "new_con = 'mssql+pyodbc:///?odbc_connect={}'.format(quoted)\n",
    "engine = db.create_engine(new_con)\n",
    "metadata.reflect(bind=engine)\n",
    "SHIPMENT = db.Table('SHIPMENT', metadata, autoload=True, autoload_with=engine)"
   ]
  },
  {
   "cell_type": "code",
   "execution_count": null,
   "metadata": {
    "ExecuteTime": {
     "end_time": "2020-03-30T03:09:34.271874Z",
     "start_time": "2020-03-30T03:09:33.737959Z"
    }
   },
   "outputs": [],
   "source": [
    "queryship = db.select([\n",
    "    SHIPMENT.columns.YYYYWW, SHIPMENT.columns.Region, SHIPMENT.columns.MPA,\n",
    "    SHIPMENT.columns.Qty, SHIPMENT.columns.QtyType, SHIPMENT.columns.Platform,\n",
    "    SHIPMENT.columns.DATES\n",
    "]).order_by(SHIPMENT.columns.YYYYWW, SHIPMENT.columns.Platform)\n",
    "ResultSHIPMENT = engine.connect().execute(queryship)\n",
    "ResultSetSHIP = ResultSHIPMENT.fetchall()"
   ]
  },
  {
   "cell_type": "code",
   "execution_count": null,
   "metadata": {
    "ExecuteTime": {
     "end_time": "2020-03-30T03:09:34.354165Z",
     "start_time": "2020-03-30T03:09:34.273868Z"
    }
   },
   "outputs": [],
   "source": [
    "df_shipment = pd.DataFrame(ResultSetSHIP)\n",
    "df_shipment.columns = ResultSetSHIP[0].keys()"
   ]
  },
  {
   "cell_type": "code",
   "execution_count": null,
   "metadata": {
    "ExecuteTime": {
     "end_time": "2020-03-30T03:09:34.378103Z",
     "start_time": "2020-03-30T03:09:34.356161Z"
    }
   },
   "outputs": [],
   "source": [
    "df_shipment.head()"
   ]
  },
  {
   "cell_type": "code",
   "execution_count": null,
   "metadata": {
    "ExecuteTime": {
     "end_time": "2020-03-30T03:09:34.394577Z",
     "start_time": "2020-03-30T03:09:34.382092Z"
    }
   },
   "outputs": [],
   "source": [
    "def porship_inter(por_plan, YYYYWW):\n",
    "    df_shipment.loc[(YYYYWW <= por_plan), 'Planning_Wk'] = por_plan"
   ]
  },
  {
   "cell_type": "code",
   "execution_count": null,
   "metadata": {
    "ExecuteTime": {
     "end_time": "2020-03-30T03:09:47.104713Z",
     "start_time": "2020-03-30T03:09:34.403548Z"
    }
   },
   "outputs": [],
   "source": [
    "df_shipment['Planning_Wk'] = 0\n",
    "new_df = pd.DataFrame()\n",
    "for plan in por_plan:\n",
    "    porship_inter(plan, df_shipment['YYYYWW'])\n",
    "    new_df = new_df.append(df_shipment)\n",
    "new_df = new_df[(new_df[['Planning_Wk']] != 0).all(axis=1)]\n",
    "new_df"
   ]
  },
  {
   "cell_type": "code",
   "execution_count": null,
   "metadata": {
    "ExecuteTime": {
     "end_time": "2020-03-30T03:09:48.252744Z",
     "start_time": "2020-03-30T03:09:47.108703Z"
    }
   },
   "outputs": [],
   "source": [
    "new_df['Planning_Wk'] = new_df['Planning_Wk'].astype(str)\n",
    "new_df['Planning_Wk'] = new_df.Planning_Wk.str.slice(\n",
    "    stop=4) + \"W\" + new_df.Planning_Wk.str.slice(start=4)"
   ]
  },
  {
   "cell_type": "code",
   "execution_count": null,
   "metadata": {
    "ExecuteTime": {
     "end_time": "2020-03-30T03:09:48.631743Z",
     "start_time": "2020-03-30T03:09:48.264711Z"
    }
   },
   "outputs": [],
   "source": [
    "new_df = new_df[[\n",
    "    'Planning_Wk', 'YYYYWW', 'Region', 'MPA', 'Qty', 'QtyType', 'Platform',\n",
    "    'DATES'\n",
    "]]\n",
    "new_df"
   ]
  },
  {
   "cell_type": "code",
   "execution_count": null,
   "metadata": {
    "ExecuteTime": {
     "end_time": "2020-03-30T03:09:53.076231Z",
     "start_time": "2020-03-30T03:09:48.633732Z"
    }
   },
   "outputs": [],
   "source": [
    "FinalShipVPOR = pd.concat([df_por, new_df], ignore_index=True)\n",
    "FinalShipVPOR"
   ]
  },
  {
   "cell_type": "code",
   "execution_count": null,
   "metadata": {
    "ExecuteTime": {
     "end_time": "2020-03-30T03:09:53.085212Z",
     "start_time": "2020-03-30T03:09:53.079225Z"
    }
   },
   "outputs": [],
   "source": [
    "mpa_dict = {\n",
    "    'NKG-THAILAND': 'NKG Thailand',\n",
    "    'NKG Thailand': 'NKG Thailand',\n",
    "    'NKG-YUEYANG': 'NKG Yue Yang',\n",
    "    'DSG-VIETNAM': 'DSG Vietnam',\n",
    "    'DSG Vietnam': 'DSG Vietnam',\n",
    "    'FLEX-PTP': 'Flex PTP Malasya',\n",
    "    'Flex PTP Malasya': 'Flex PTP Malasya',\n",
    "    'FLEX-ZHUHAI': 'Flex Zhuhai',\n",
    "    'Flex Zhuhai': 'Flex Zhuhai',\n",
    "    'FOXCONN': 'Foxconn ChongQing',\n",
    "    'Foxconn ChongQing': 'Foxconn ChongQing',\n",
    "    'Jabil Circuit De Chihuahua': 'Jabil Circuit De Chihuahua',\n",
    "    'Jabil Circuit Netherlands BV': 'Jabil Circuit Netherlands BV'\n",
    "}"
   ]
  },
  {
   "cell_type": "code",
   "execution_count": null,
   "metadata": {
    "ExecuteTime": {
     "end_time": "2020-03-30T03:09:55.112336Z",
     "start_time": "2020-03-30T03:09:53.088202Z"
    }
   },
   "outputs": [],
   "source": [
    "FinalShipVPOR['MPA'] = FinalShipVPOR['MPA'].map(lambda x: mpa_dict.get(x, x))\n",
    "FinalShipVPOR.head()"
   ]
  },
  {
   "cell_type": "code",
   "execution_count": null,
   "metadata": {
    "ExecuteTime": {
     "end_time": "2020-03-30T03:10:30.115711Z",
     "start_time": "2020-03-30T03:09:55.114329Z"
    }
   },
   "outputs": [],
   "source": [
    "FinalShipVPOR.to_csv('FULLSHIPVPOR.csv', index=False)"
   ]
  }
 ],
 "metadata": {
  "hide_input": false,
  "kernelspec": {
   "display_name": "Python 3",
   "language": "python",
   "name": "python3"
  },
  "language_info": {
   "codemirror_mode": {
    "name": "ipython",
    "version": 3
   },
   "file_extension": ".py",
   "mimetype": "text/x-python",
   "name": "python",
   "nbconvert_exporter": "python",
   "pygments_lexer": "ipython3",
   "version": "3.7.5"
  },
  "toc": {
   "base_numbering": 1,
   "nav_menu": {},
   "number_sections": true,
   "sideBar": true,
   "skip_h1_title": false,
   "title_cell": "Table of Contents",
   "title_sidebar": "Contents",
   "toc_cell": false,
   "toc_position": {
    "height": "750px",
    "left": "27px",
    "top": "74px",
    "width": "165px"
   },
   "toc_section_display": true,
   "toc_window_display": true
  }
 },
 "nbformat": 4,
 "nbformat_minor": 2
}
