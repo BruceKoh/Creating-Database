{
 "cells": [
  {
   "cell_type": "markdown",
   "metadata": {},
   "source": [
    "<h1><center> FULLSHIPVPOR </center></h1>"
   ]
  },
  {
   "cell_type": "code",
   "execution_count": null,
   "metadata": {
    "ExecuteTime": {
     "end_time": "2020-05-18T08:54:56.516536Z",
     "start_time": "2020-05-18T08:54:55.137053Z"
    }
   },
   "outputs": [],
   "source": [
    "import pyodbc\n",
    "import pandas as pd\n",
    "import numpy as np\n",
    "import sqlalchemy as db\n",
    "from urllib.parse import quote_plus\n",
    "import os"
   ]
  },
  {
   "cell_type": "code",
   "execution_count": null,
   "metadata": {
    "ExecuteTime": {
     "end_time": "2020-05-18T08:54:57.041800Z",
     "start_time": "2020-05-18T08:54:57.037833Z"
    }
   },
   "outputs": [],
   "source": [
    "path = r'C:\\Users\\KohMansf\\Documents\\STAMS\\Waterfall\\Database\\FULLSHIPVPOR'\n",
    "os.chdir(path)"
   ]
  },
  {
   "cell_type": "markdown",
   "metadata": {},
   "source": [
    "#### Get data from database"
   ]
  },
  {
   "cell_type": "markdown",
   "metadata": {},
   "source": [
    "**HP Server**"
   ]
  },
  {
   "cell_type": "code",
   "execution_count": null,
   "metadata": {
    "ExecuteTime": {
     "end_time": "2020-05-18T08:55:00.841000Z",
     "start_time": "2020-05-18T08:54:59.388056Z"
    }
   },
   "outputs": [],
   "source": [
    "conn = \"DRIVER={ODBC Driver 17 for SQL Server};SERVER=15.46.110.222,1433;DATABASE=POR;UID=Admin;PWD=123789\"\n",
    "metadata = db.MetaData()\n",
    "quoted = quote_plus(conn)\n",
    "new_con = 'mssql+pyodbc:///?odbc_connect={}'.format(quoted)\n",
    "engine = db.create_engine(new_con)\n",
    "metadata.reflect(bind=engine)"
   ]
  },
  {
   "cell_type": "markdown",
   "metadata": {},
   "source": [
    "**POR Data**"
   ]
  },
  {
   "cell_type": "code",
   "execution_count": null,
   "metadata": {
    "ExecuteTime": {
     "end_time": "2020-05-18T08:57:09.287222Z",
     "start_time": "2020-05-18T08:55:04.534656Z"
    }
   },
   "outputs": [],
   "source": [
    "df_por = pd.DataFrame()\n",
    "for key in metadata.tables.keys():\n",
    "    key = db.Table(key, metadata, autoload=True, autoload_with=engine)\n",
    "    query = db.select([\n",
    "        key.columns.Planning_Wk, key.columns.YYYYWW, key.columns.Region,\n",
    "        key.columns.MPA, key.columns.Qty, key.columns.QtyType,\n",
    "        key.columns.Platform, key.columns.DATES\n",
    "    ])\n",
    "    ResultPOR = engine.connect().execute(query)\n",
    "    ResultSet = ResultPOR.fetchall()\n",
    "    df_por = df_por.append(ResultSet)\n",
    "df_por.columns = ResultSet[0].keys()"
   ]
  },
  {
   "cell_type": "code",
   "execution_count": null,
   "metadata": {
    "ExecuteTime": {
     "end_time": "2020-05-18T08:58:01.467270Z",
     "start_time": "2020-05-18T08:58:01.437012Z"
    }
   },
   "outputs": [],
   "source": [
    "df_por.head()"
   ]
  },
  {
   "cell_type": "code",
   "execution_count": null,
   "metadata": {
    "ExecuteTime": {
     "end_time": "2020-05-18T08:58:05.213688Z",
     "start_time": "2020-05-18T08:58:04.628915Z"
    }
   },
   "outputs": [],
   "source": [
    "por_plan = df_por['Planning_Wk'].unique()\n",
    "por_plan = por_plan.astype(str)\n",
    "por_plan = np.core.defchararray.replace(por_plan, 'W', '')\n",
    "por_plan = por_plan.astype(int)\n",
    "por_plan = np.sort(por_plan)\n",
    "por_plan"
   ]
  },
  {
   "cell_type": "markdown",
   "metadata": {},
   "source": [
    "**HP Server**"
   ]
  },
  {
   "cell_type": "code",
   "execution_count": null,
   "metadata": {
    "ExecuteTime": {
     "end_time": "2020-05-18T08:58:08.234404Z",
     "start_time": "2020-05-18T08:58:07.492480Z"
    }
   },
   "outputs": [],
   "source": [
    "conn = \"DRIVER={ODBC Driver 17 for SQL Server};SERVER=15.46.110.222,1433;DATABASE=SHIPMENT;UID=Admin;PWD=123789\"\n",
    "metadata = db.MetaData()\n",
    "quoted = quote_plus(conn)\n",
    "new_con = 'mssql+pyodbc:///?odbc_connect={}'.format(quoted)\n",
    "engine = db.create_engine(new_con)\n",
    "metadata.reflect(bind=engine)\n",
    "SHIPMENT = db.Table('SHIPMENT', metadata, autoload=True, autoload_with=engine)"
   ]
  },
  {
   "cell_type": "markdown",
   "metadata": {},
   "source": [
    "**SHIPMENT Data**"
   ]
  },
  {
   "cell_type": "code",
   "execution_count": null,
   "metadata": {
    "ExecuteTime": {
     "end_time": "2020-05-18T08:58:12.204357Z",
     "start_time": "2020-05-18T08:58:11.541187Z"
    }
   },
   "outputs": [],
   "source": [
    "queryship = db.select([\n",
    "    SHIPMENT.columns.YYYYWW, SHIPMENT.columns.Region, SHIPMENT.columns.MPA,\n",
    "    SHIPMENT.columns.Qty, SHIPMENT.columns.QtyType, SHIPMENT.columns.Platform,\n",
    "    SHIPMENT.columns.DATES\n",
    "]).order_by(SHIPMENT.columns.YYYYWW, SHIPMENT.columns.Platform)\n",
    "ResultSHIPMENT = engine.connect().execute(queryship)\n",
    "ResultSetSHIP = ResultSHIPMENT.fetchall()"
   ]
  },
  {
   "cell_type": "code",
   "execution_count": null,
   "metadata": {
    "ExecuteTime": {
     "end_time": "2020-05-18T08:58:14.343238Z",
     "start_time": "2020-05-18T08:58:14.258423Z"
    }
   },
   "outputs": [],
   "source": [
    "df_shipment = pd.DataFrame(ResultSetSHIP)\n",
    "df_shipment.columns = ResultSetSHIP[0].keys()"
   ]
  },
  {
   "cell_type": "code",
   "execution_count": null,
   "metadata": {
    "ExecuteTime": {
     "end_time": "2020-05-18T08:58:14.917774Z",
     "start_time": "2020-05-18T08:58:14.901902Z"
    }
   },
   "outputs": [],
   "source": [
    "df_shipment.head()"
   ]
  },
  {
   "cell_type": "code",
   "execution_count": null,
   "metadata": {
    "ExecuteTime": {
     "end_time": "2020-05-18T08:58:16.773056Z",
     "start_time": "2020-05-18T08:58:16.768592Z"
    }
   },
   "outputs": [],
   "source": [
    "def porship_inter(por_plan, YYYYWW):\n",
    "    df_shipment.loc[(YYYYWW <= por_plan), 'Planning_Wk'] = por_plan"
   ]
  },
  {
   "cell_type": "code",
   "execution_count": null,
   "metadata": {
    "ExecuteTime": {
     "end_time": "2020-05-18T08:58:40.059024Z",
     "start_time": "2020-05-18T08:58:17.193637Z"
    }
   },
   "outputs": [],
   "source": [
    "df_shipment['Planning_Wk'] = 0\n",
    "new_df = pd.DataFrame()\n",
    "for plan in por_plan:\n",
    "    porship_inter(plan, df_shipment['YYYYWW'])\n",
    "    new_df = new_df.append(df_shipment)\n",
    "new_df = new_df[(new_df[['Planning_Wk']] != 0).all(axis=1)]\n",
    "new_df"
   ]
  },
  {
   "cell_type": "code",
   "execution_count": null,
   "metadata": {
    "ExecuteTime": {
     "end_time": "2020-05-18T08:58:47.392063Z",
     "start_time": "2020-05-18T08:58:46.104455Z"
    }
   },
   "outputs": [],
   "source": [
    "new_df['Planning_Wk'] = new_df['Planning_Wk'].astype(str)\n",
    "new_df['Planning_Wk'] = new_df.Planning_Wk.str.slice(\n",
    "    stop=4) + \"W\" + new_df.Planning_Wk.str.slice(start=4)"
   ]
  },
  {
   "cell_type": "code",
   "execution_count": null,
   "metadata": {
    "ExecuteTime": {
     "end_time": "2020-05-18T08:58:48.701250Z",
     "start_time": "2020-05-18T08:58:48.392238Z"
    }
   },
   "outputs": [],
   "source": [
    "new_df = new_df[[\n",
    "    'Planning_Wk', 'YYYYWW', 'Region', 'MPA', 'Qty', 'QtyType', 'Platform',\n",
    "    'DATES'\n",
    "]]\n",
    "new_df"
   ]
  },
  {
   "cell_type": "code",
   "execution_count": null,
   "metadata": {
    "ExecuteTime": {
     "end_time": "2020-05-18T08:59:00.729063Z",
     "start_time": "2020-05-18T08:58:55.824658Z"
    }
   },
   "outputs": [],
   "source": [
    "FinalShipVPOR = pd.concat([df_por, new_df], ignore_index=True)\n",
    "FinalShipVPOR"
   ]
  },
  {
   "cell_type": "code",
   "execution_count": null,
   "metadata": {
    "ExecuteTime": {
     "end_time": "2020-05-18T08:59:02.442007Z",
     "start_time": "2020-05-18T08:59:02.437543Z"
    }
   },
   "outputs": [],
   "source": [
    "mpa_dict = {\n",
    "    'NKG-THAILAND': 'NKG Thailand',\n",
    "    'NKG Thailand': 'NKG Thailand',\n",
    "    'NKG-YUEYANG': 'NKG Yue Yang',\n",
    "    'DSG-VIETNAM': 'DSG Vietnam',\n",
    "    'DSG Vietnam': 'DSG Vietnam',\n",
    "    'FLEX-PTP': 'Flex PTP Malasya',\n",
    "    'Flex PTP Malasya': 'Flex PTP Malasya',\n",
    "    'FLEX-ZHUHAI': 'Flex Zhuhai',\n",
    "    'Flex Zhuhai': 'Flex Zhuhai',\n",
    "    'FOXCONN': 'Foxconn ChongQing',\n",
    "    'Foxconn ChongQing': 'Foxconn ChongQing',\n",
    "    'Jabil Circuit De Chihuahua': 'Jabil Circuit De Chihuahua',\n",
    "    'Jabil Circuit Netherlands BV': 'Jabil Circuit Netherlands BV'\n",
    "}"
   ]
  },
  {
   "cell_type": "code",
   "execution_count": null,
   "metadata": {
    "ExecuteTime": {
     "end_time": "2020-05-18T08:59:06.830092Z",
     "start_time": "2020-05-18T08:59:04.619937Z"
    }
   },
   "outputs": [],
   "source": [
    "FinalShipVPOR['MPA'] = FinalShipVPOR['MPA'].map(lambda x: mpa_dict.get(x, x))\n",
    "FinalShipVPOR.head()"
   ]
  },
  {
   "cell_type": "markdown",
   "metadata": {},
   "source": [
    "#### Output to file and database"
   ]
  },
  {
   "cell_type": "code",
   "execution_count": null,
   "metadata": {
    "ExecuteTime": {
     "end_time": "2020-05-18T09:00:03.578860Z",
     "start_time": "2020-05-18T08:59:19.783926Z"
    }
   },
   "outputs": [],
   "source": [
    "FinalShipVPOR.to_csv('FULLSHIPVPOR.csv', index=False)"
   ]
  },
  {
   "cell_type": "code",
   "execution_count": null,
   "metadata": {
    "ExecuteTime": {
     "end_time": "2020-05-18T09:06:34.952585Z",
     "start_time": "2020-05-18T09:06:34.727630Z"
    }
   },
   "outputs": [],
   "source": [
    "conn = \"DRIVER={ODBC Driver 17 for SQL Server};SERVER=15.46.110.222,1433;DATABASE=FULLSHIPVPOR;UID=Admin;PWD=123789\"\n",
    "\n",
    "quoted = quote_plus(conn)\n",
    "new_con = 'mssql+pyodbc:///?odbc_connect={}'.format(quoted)\n",
    "engine = db.create_engine(new_con, fast_executemany=True)\n",
    "\n",
    "connection = engine.connect()\n",
    "\n",
    "table_name = 'FULLSHIPVPOR'"
   ]
  },
  {
   "cell_type": "code",
   "execution_count": null,
   "metadata": {
    "ExecuteTime": {
     "end_time": "2020-05-18T09:21:01.448457Z",
     "start_time": "2020-05-18T09:14:53.804713Z"
    }
   },
   "outputs": [],
   "source": [
    "FinalShipVPOR.to_sql(table_name,\n",
    "                       engine,\n",
    "                       if_exists='replace',\n",
    "                       chunksize=None,\n",
    "                       index=False,\n",
    "                       dtype={\n",
    "                           'Planning_Wk': db.types.VARCHAR(length=7),\n",
    "                           'YYYYWW': db.types.INTEGER(),\n",
    "                           'Region': db.types.VARCHAR(length=8),\n",
    "                           'MPA': db.types.VARCHAR(length=50),\n",
    "                           'Qty': db.types.INTEGER(),\n",
    "                           'QtyType': db.types.VARCHAR(length=4),\n",
    "                           'Platform': db.types.VARCHAR(length=50),\n",
    "                           'DATES': db.types.Date\n",
    "                       })\n",
    "print(FinalShipVPOR.head())\n",
    "print(FinalShipVPOR.shape)"
   ]
  },
  {
   "cell_type": "code",
   "execution_count": null,
   "metadata": {},
   "outputs": [],
   "source": []
  }
 ],
 "metadata": {
  "hide_input": false,
  "kernelspec": {
   "display_name": "Python 3",
   "language": "python",
   "name": "python3"
  },
  "language_info": {
   "codemirror_mode": {
    "name": "ipython",
    "version": 3
   },
   "file_extension": ".py",
   "mimetype": "text/x-python",
   "name": "python",
   "nbconvert_exporter": "python",
   "pygments_lexer": "ipython3",
   "version": "3.7.5"
  },
  "toc": {
   "base_numbering": 1,
   "nav_menu": {},
   "number_sections": true,
   "sideBar": true,
   "skip_h1_title": true,
   "title_cell": "Table of Contents",
   "title_sidebar": "Contents",
   "toc_cell": false,
   "toc_position": {
    "height": "750px",
    "left": "27px",
    "top": "74px",
    "width": "165px"
   },
   "toc_section_display": true,
   "toc_window_display": true
  }
 },
 "nbformat": 4,
 "nbformat_minor": 2
}
