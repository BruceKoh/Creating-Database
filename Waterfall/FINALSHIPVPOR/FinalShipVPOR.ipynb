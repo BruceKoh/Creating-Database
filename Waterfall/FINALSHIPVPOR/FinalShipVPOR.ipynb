{
 "cells": [
  {
   "cell_type": "code",
   "execution_count": null,
   "metadata": {
    "ExecuteTime": {
     "end_time": "2020-03-04T02:37:50.921430Z",
     "start_time": "2020-03-04T02:37:49.386619Z"
    }
   },
   "outputs": [],
   "source": [
    "import pyodbc\n",
    "import pandas as pd\n",
    "import numpy as np\n",
    "import sqlalchemy as db\n",
    "from urllib.parse import quote_plus"
   ]
  },
  {
   "cell_type": "markdown",
   "metadata": {},
   "source": [
    "# Connection"
   ]
  },
  {
   "cell_type": "markdown",
   "metadata": {},
   "source": [
    "Local Server"
   ]
  },
  {
   "cell_type": "code",
   "execution_count": null,
   "metadata": {
    "ExecuteTime": {
     "end_time": "2020-03-04T02:37:53.743095Z",
     "start_time": "2020-03-04T02:37:52.994055Z"
    }
   },
   "outputs": [],
   "source": [
    "conn = \"DRIVER={ODBC Driver 17 for SQL Server};SERVER=KOHMANSF1\\SQLEXPRESS;DATABASE=POR;Trusted_Connection=yes\"\n",
    "metadata = db.MetaData()\n",
    "quoted = quote_plus(conn)\n",
    "new_con = 'mssql+pyodbc:///?odbc_connect={}'.format(quoted)\n",
    "engine = db.create_engine(new_con)\n",
    "metadata.reflect(bind=engine)"
   ]
  },
  {
   "cell_type": "markdown",
   "metadata": {},
   "source": [
    "External Server"
   ]
  },
  {
   "cell_type": "code",
   "execution_count": null,
   "metadata": {
    "ExecuteTime": {
     "start_time": "2020-03-04T02:14:22.244Z"
    }
   },
   "outputs": [],
   "source": [
    "conn = \"DRIVER={ODBC Driver 17 for SQL Server};SERVER=15.46.110.222,1433;DATABASE=POR;UID=Admin;PWD=123\"\n",
    "metadata = db.MetaData()\n",
    "quoted = quote_plus(conn)\n",
    "new_con = 'mssql+pyodbc:///?odbc_connect={}'.format(quoted)\n",
    "engine = db.create_engine(new_con)\n",
    "metadata.reflect(bind=engine)"
   ]
  },
  {
   "cell_type": "markdown",
   "metadata": {},
   "source": [
    "# POR"
   ]
  },
  {
   "cell_type": "code",
   "execution_count": null,
   "metadata": {
    "ExecuteTime": {
     "end_time": "2020-03-04T02:38:53.265199Z",
     "start_time": "2020-03-04T02:37:56.325024Z"
    }
   },
   "outputs": [],
   "source": [
    "df_por = pd.DataFrame()\n",
    "for key in metadata.tables.keys():\n",
    "    key = db.Table(key,metadata,autoload=True, autoload_with=engine)\n",
    "    query = db.select([key.columns.Planning_Wk, key.columns.YYYYWW,key.columns.Region,key.columns.MPA,key.columns.Qty,key.columns.QtyType,key.columns.Platform])\n",
    "    ResultPOR = engine.connect().execute(query)\n",
    "    ResultSet = ResultPOR.fetchall()\n",
    "    df_por = df_por.append(ResultSet)\n",
    "df_por.columns = ResultSet[0].keys()"
   ]
  },
  {
   "cell_type": "code",
   "execution_count": null,
   "metadata": {
    "ExecuteTime": {
     "end_time": "2020-03-04T02:38:53.332023Z",
     "start_time": "2020-03-04T02:38:53.268194Z"
    }
   },
   "outputs": [],
   "source": [
    "df_por.head()"
   ]
  },
  {
   "cell_type": "code",
   "execution_count": null,
   "metadata": {
    "ExecuteTime": {
     "end_time": "2020-03-04T02:38:54.143947Z",
     "start_time": "2020-03-04T02:38:53.336013Z"
    }
   },
   "outputs": [],
   "source": [
    "por_plan = df_por['Planning_Wk'].unique()\n",
    "por_plan = por_plan.astype(str)\n",
    "por_plan = np.core.defchararray.replace(por_plan,'W','')\n",
    "por_plan = por_plan.astype(int)\n",
    "por_plan"
   ]
  },
  {
   "cell_type": "markdown",
   "metadata": {},
   "source": [
    "# SHIPMENT"
   ]
  },
  {
   "cell_type": "markdown",
   "metadata": {},
   "source": [
    "Local Server"
   ]
  },
  {
   "cell_type": "code",
   "execution_count": null,
   "metadata": {
    "ExecuteTime": {
     "end_time": "2020-03-04T02:39:34.066332Z",
     "start_time": "2020-03-04T02:39:33.361197Z"
    }
   },
   "outputs": [],
   "source": [
    "conn = \"DRIVER={ODBC Driver 17 for SQL Server};SERVER=KOHMANSF1\\SQLEXPRESS;DATABASE=SHIPMENT;Trusted_Connection=yes\"\n",
    "metadata = db.MetaData()\n",
    "quoted = quote_plus(conn)\n",
    "new_con = 'mssql+pyodbc:///?odbc_connect={}'.format(quoted)\n",
    "engine = db.create_engine(new_con)\n",
    "metadata.reflect(bind=engine)\n",
    "SHIPMENT = db.Table('SHIPMENT', metadata, autoload=True, autoload_with=engine)"
   ]
  },
  {
   "cell_type": "markdown",
   "metadata": {},
   "source": [
    "External Server"
   ]
  },
  {
   "cell_type": "code",
   "execution_count": null,
   "metadata": {},
   "outputs": [],
   "source": [
    "conn = \"DRIVER={ODBC Driver 17 for SQL Server};SERVER=15.46.110.222,1433;DATABASE=SHIPMENT;UID=Admin;PWD=123\"\n",
    "metadata = db.MetaData()\n",
    "quoted = quote_plus(conn)\n",
    "new_con = 'mssql+pyodbc:///?odbc_connect={}'.format(quoted)\n",
    "engine = db.create_engine(new_con)\n",
    "metadata.reflect(bind=engine)\n",
    "SHIPMENT = db.Table('SHIPMENT', metadata, autoload=True, autoload_with=engine)"
   ]
  },
  {
   "cell_type": "code",
   "execution_count": null,
   "metadata": {
    "ExecuteTime": {
     "end_time": "2020-03-04T02:39:45.615541Z",
     "start_time": "2020-03-04T02:39:45.476903Z"
    }
   },
   "outputs": [],
   "source": [
    "queryship = db.select([SHIPMENT.columns.YYYYWW, SHIPMENT.columns.YYYYWW,SHIPMENT.columns.Region,SHIPMENT.columns.MPA,SHIPMENT.columns.Qty,\n",
    "                   SHIPMENT.columns.QtyType,SHIPMENT.columns.Platform]).order_by(SHIPMENT.columns.YYYYWW,SHIPMENT.columns.Platform)\n",
    "ResultSHIPMENT = engine.connect().execute(queryship)\n",
    "ResultSetSHIP = ResultSHIPMENT.fetchall()"
   ]
  },
  {
   "cell_type": "code",
   "execution_count": null,
   "metadata": {
    "ExecuteTime": {
     "end_time": "2020-03-04T02:39:52.145593Z",
     "start_time": "2020-03-04T02:39:52.092732Z"
    }
   },
   "outputs": [],
   "source": [
    "df_shipment = pd.DataFrame(ResultSetSHIP)\n",
    "df_shipment.columns = ResultSetSHIP[0].keys()"
   ]
  },
  {
   "cell_type": "code",
   "execution_count": null,
   "metadata": {
    "ExecuteTime": {
     "end_time": "2020-03-04T02:39:56.122931Z",
     "start_time": "2020-03-04T02:39:56.106977Z"
    }
   },
   "outputs": [],
   "source": [
    "df_shipment.head()"
   ]
  },
  {
   "cell_type": "code",
   "execution_count": null,
   "metadata": {
    "ExecuteTime": {
     "end_time": "2020-03-04T02:40:00.738875Z",
     "start_time": "2020-03-04T02:40:00.732893Z"
    }
   },
   "outputs": [],
   "source": [
    "def porship_inter(por_plan,YYYYWW):   \n",
    "    df_shipment.loc[(YYYYWW<=por_plan),'Planning_Wk'] = por_plan"
   ]
  },
  {
   "cell_type": "code",
   "execution_count": null,
   "metadata": {
    "ExecuteTime": {
     "end_time": "2020-03-04T02:40:09.513111Z",
     "start_time": "2020-03-04T02:40:03.296158Z"
    }
   },
   "outputs": [],
   "source": [
    "df_shipment['Planning_Wk'] = 0\n",
    "new_df = pd.DataFrame()\n",
    "for plan in por_plan:\n",
    "    porship_inter(plan,df_shipment['YYYYWW'])\n",
    "    new_df = new_df.append(df_shipment)\n",
    "new_df = new_df[(new_df[['Planning_Wk']]!=0).all(axis=1)]\n",
    "new_df"
   ]
  },
  {
   "cell_type": "code",
   "execution_count": null,
   "metadata": {
    "ExecuteTime": {
     "end_time": "2020-03-04T02:40:15.045738Z",
     "start_time": "2020-03-04T02:40:14.536102Z"
    }
   },
   "outputs": [],
   "source": [
    "new_df['Planning_Wk'] = new_df['Planning_Wk'].astype(str)\n",
    "new_df['Planning_Wk'] = new_df.Planning_Wk.str.slice(stop=4) + \"W\" + new_df.Planning_Wk.str.slice(start=4)"
   ]
  },
  {
   "cell_type": "code",
   "execution_count": null,
   "metadata": {
    "ExecuteTime": {
     "end_time": "2020-03-04T02:40:18.019750Z",
     "start_time": "2020-03-04T02:40:17.883115Z"
    }
   },
   "outputs": [],
   "source": [
    "new_df = new_df[['Planning_Wk', 'YYYYWW','Region','MPA','Qty','QtyType','Platform']]\n",
    "new_df"
   ]
  },
  {
   "cell_type": "code",
   "execution_count": null,
   "metadata": {
    "ExecuteTime": {
     "end_time": "2020-03-04T02:40:31.633579Z",
     "start_time": "2020-03-04T02:40:27.776541Z"
    }
   },
   "outputs": [],
   "source": [
    "FinalShipVPOR = pd.concat([df_por,new_df], ignore_index=True)\n",
    "FinalShipVPOR"
   ]
  },
  {
   "cell_type": "code",
   "execution_count": null,
   "metadata": {
    "ExecuteTime": {
     "end_time": "2020-03-04T02:44:40.601632Z",
     "start_time": "2020-03-04T02:44:06.251836Z"
    }
   },
   "outputs": [],
   "source": [
    "FinalShipVPOR.to_csv(r'C:\\Users\\KohMansf\\Desktop\\MJ Projects\\All Files\\Waterfall\\FinalShipVPOR\\FinalShipVPOR.csv',\n",
    "                     index=False)"
   ]
  }
 ],
 "metadata": {
  "hide_input": false,
  "kernelspec": {
   "display_name": "Python 3",
   "language": "python",
   "name": "python3"
  },
  "language_info": {
   "codemirror_mode": {
    "name": "ipython",
    "version": 3
   },
   "file_extension": ".py",
   "mimetype": "text/x-python",
   "name": "python",
   "nbconvert_exporter": "python",
   "pygments_lexer": "ipython3",
   "version": "3.7.5"
  },
  "toc": {
   "base_numbering": 1,
   "nav_menu": {},
   "number_sections": true,
   "sideBar": true,
   "skip_h1_title": false,
   "title_cell": "Table of Contents",
   "title_sidebar": "Contents",
   "toc_cell": false,
   "toc_position": {
    "height": "750px",
    "left": "27px",
    "top": "74px",
    "width": "165px"
   },
   "toc_section_display": true,
   "toc_window_display": true
  }
 },
 "nbformat": 4,
 "nbformat_minor": 2
}
