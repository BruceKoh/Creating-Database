{
 "cells": [
  {
   "cell_type": "code",
   "execution_count": null,
   "metadata": {
    "ExecuteTime": {
     "end_time": "2020-03-30T05:37:08.049405Z",
     "start_time": "2020-03-30T05:37:08.045411Z"
    }
   },
   "outputs": [],
   "source": [
    "import os\n",
    "import pandas as pd"
   ]
  },
  {
   "cell_type": "code",
   "execution_count": null,
   "metadata": {
    "ExecuteTime": {
     "end_time": "2020-03-30T05:37:21.650531Z",
     "start_time": "2020-03-30T05:37:08.707277Z"
    }
   },
   "outputs": [],
   "source": [
    "AllPOR = pd.read_excel(\n",
    "    r'C:\\Users\\KohMansf\\Documents\\STAMS_FILES\\Waterfall\\Allan\\Allan_POR_Ori_File\\POR2020WK12\\POR2020WK12.xlsm',\n",
    "    usecols='A,C,E:H,J,K:CJ',\n",
    "    sheet_name=\"POR Data\")\n",
    "AllPOR"
   ]
  },
  {
   "cell_type": "code",
   "execution_count": null,
   "metadata": {
    "ExecuteTime": {
     "end_time": "2020-03-30T05:37:25.211587Z",
     "start_time": "2020-03-30T05:37:25.207597Z"
    }
   },
   "outputs": [],
   "source": [
    "Date = AllPOR.columns[7:]\n",
    "Col = AllPOR.columns[0:7]"
   ]
  },
  {
   "cell_type": "code",
   "execution_count": null,
   "metadata": {
    "ExecuteTime": {
     "end_time": "2020-03-30T05:37:25.849430Z",
     "start_time": "2020-03-30T05:37:25.780595Z"
    }
   },
   "outputs": [],
   "source": [
    "AllPOR.iloc[:, 7:] = AllPOR.iloc[:, 7:].fillna(0)\n",
    "AllPOR.tail(10)"
   ]
  },
  {
   "cell_type": "code",
   "execution_count": null,
   "metadata": {
    "ExecuteTime": {
     "end_time": "2020-03-30T05:37:35.350719Z",
     "start_time": "2020-03-30T05:37:35.281903Z"
    }
   },
   "outputs": [],
   "source": [
    "AllPOR = pd.melt(AllPOR,\n",
    "                 id_vars=Col,\n",
    "                 value_vars=Date,\n",
    "                 value_name='Value',\n",
    "                 var_name='Attribute')"
   ]
  },
  {
   "cell_type": "code",
   "execution_count": null,
   "metadata": {
    "ExecuteTime": {
     "end_time": "2020-03-30T05:37:35.988368Z",
     "start_time": "2020-03-30T05:37:35.964432Z"
    }
   },
   "outputs": [],
   "source": [
    "AllPOR.head(10)"
   ]
  },
  {
   "cell_type": "code",
   "execution_count": null,
   "metadata": {
    "ExecuteTime": {
     "end_time": "2020-03-30T05:38:02.438387Z",
     "start_time": "2020-03-30T05:38:02.432398Z"
    }
   },
   "outputs": [],
   "source": [
    "AllPOR.shape"
   ]
  },
  {
   "cell_type": "code",
   "execution_count": null,
   "metadata": {},
   "outputs": [],
   "source": [
    "AllPOR.to_csv('POR_2020WK12', index=False)"
   ]
  },
  {
   "cell_type": "code",
   "execution_count": null,
   "metadata": {
    "ExecuteTime": {
     "end_time": "2020-03-30T05:14:06.374783Z",
     "start_time": "2020-03-30T05:14:06.366809Z"
    }
   },
   "outputs": [],
   "source": [
    "# def convert(PORDATA):\n",
    "#     Dates = PORDATA.columns[7:].values\n",
    "#     PORDATA['Attribute'] = 'N/A'\n",
    "#     col = 7\n",
    "#     new_por = pd.DataFrame()\n",
    "#     for date in Dates:\n",
    "#         PORDATA['Attribute'] = date\n",
    "#         PORDATA['Value'] = PORDATA.iloc[:, col]\n",
    "#         new_por = new_por.append(PORDATA)\n",
    "#         col = col + 1\n",
    "#     final_por = new_por.iloc[:, list(range(7)) + [-2, -1]]\n",
    "#     return final_por"
   ]
  },
  {
   "cell_type": "code",
   "execution_count": null,
   "metadata": {
    "ExecuteTime": {
     "end_time": "2020-03-19T09:47:29.801315Z",
     "start_time": "2020-03-19T09:47:17.922781Z"
    }
   },
   "outputs": [],
   "source": [
    "# convert(AllPOR).to_csv('POR_2020WK12', index=False)"
   ]
  }
 ],
 "metadata": {
  "hide_input": false,
  "kernelspec": {
   "display_name": "MJ",
   "language": "python",
   "name": "mj"
  },
  "language_info": {
   "codemirror_mode": {
    "name": "ipython",
    "version": 3
   },
   "file_extension": ".py",
   "mimetype": "text/x-python",
   "name": "python",
   "nbconvert_exporter": "python",
   "pygments_lexer": "ipython3",
   "version": "3.7.5"
  },
  "toc": {
   "base_numbering": 1,
   "nav_menu": {},
   "number_sections": true,
   "sideBar": true,
   "skip_h1_title": false,
   "title_cell": "Table of Contents",
   "title_sidebar": "Contents",
   "toc_cell": false,
   "toc_position": {},
   "toc_section_display": true,
   "toc_window_display": true
  }
 },
 "nbformat": 4,
 "nbformat_minor": 4
}
