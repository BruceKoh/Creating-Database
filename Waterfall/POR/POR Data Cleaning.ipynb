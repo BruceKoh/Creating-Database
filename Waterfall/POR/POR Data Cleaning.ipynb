{
 "cells": [
  {
   "cell_type": "code",
   "execution_count": null,
   "metadata": {
    "ExecuteTime": {
     "end_time": "2020-03-10T01:52:15.120822Z",
     "start_time": "2020-03-10T01:52:13.578303Z"
    }
   },
   "outputs": [],
   "source": [
    "import os\n",
    "import datetime as dt\n",
    "import pandas as pd\n",
    "import time"
   ]
  },
  {
   "cell_type": "code",
   "execution_count": null,
   "metadata": {
    "ExecuteTime": {
     "end_time": "2020-03-10T02:31:03.729477Z",
     "start_time": "2020-03-10T02:28:20.912612Z"
    }
   },
   "outputs": [],
   "source": [
    "AllPOR = pd.read_excel(r'C:\\Users\\KohMansf\\Desktop\\MJ Projects\\All Files\\Waterfall\\JoannePOR\\POR Waterfall_Yr 2020.xlsx',\n",
    "                       usecols='A,C,E:H,J,K:CJ',sheet_name=\"W09 POR Data\")"
   ]
  },
  {
   "cell_type": "code",
   "execution_count": null,
   "metadata": {
    "ExecuteTime": {
     "end_time": "2020-03-10T02:10:45.494685Z",
     "start_time": "2020-03-10T02:10:45.486707Z"
    }
   },
   "outputs": [],
   "source": [
    "def convert (PORDATA):\n",
    "    Dates = PORDATA.columns[7:].values\n",
    "    PORDATA['Attribute'] = 'N/A'\n",
    "    col = 7\n",
    "    new_por = pd.DataFrame()\n",
    "    for date in Dates:\n",
    "        PORDATA['Attribute'] = date\n",
    "        PORDATA['Value'] = PORDATA.iloc[:,col]\n",
    "        new_por = new_por.append(PORDATA)\n",
    "        col = col + 1\n",
    "    final_por = new_por.iloc[:,list(range(7)) + [-2,-1]]\n",
    "    return final_por"
   ]
  },
  {
   "cell_type": "code",
   "execution_count": null,
   "metadata": {
    "ExecuteTime": {
     "end_time": "2020-03-10T02:31:56.193224Z",
     "start_time": "2020-03-10T02:31:56.163302Z"
    }
   },
   "outputs": [],
   "source": [
    "AllPOR.iloc[:,7:] = AllPOR.iloc[:,7:].fillna(0)"
   ]
  },
  {
   "cell_type": "code",
   "execution_count": null,
   "metadata": {
    "ExecuteTime": {
     "end_time": "2020-03-10T02:31:57.451869Z",
     "start_time": "2020-03-10T02:31:57.415926Z"
    },
    "scrolled": true
   },
   "outputs": [],
   "source": [
    "AllPOR.tail(10)"
   ]
  },
  {
   "cell_type": "code",
   "execution_count": null,
   "metadata": {
    "ExecuteTime": {
     "end_time": "2020-03-10T02:32:25.698124Z",
     "start_time": "2020-03-10T02:32:15.529911Z"
    }
   },
   "outputs": [],
   "source": [
    "convert(AllPOR).to_csv('2020W09.csv',index=False)"
   ]
  },
  {
   "cell_type": "markdown",
   "metadata": {},
   "source": [
    "# Files"
   ]
  },
  {
   "cell_type": "markdown",
   "metadata": {},
   "source": [
    "**J POR**"
   ]
  },
  {
   "cell_type": "code",
   "execution_count": null,
   "metadata": {
    "ExecuteTime": {
     "end_time": "2020-03-09T07:14:55.204277Z",
     "start_time": "2020-03-09T07:14:55.198294Z"
    }
   },
   "outputs": [],
   "source": [
    "path = os.getcwd()\n",
    "files = os.listdir(\n",
    "    r'C:\\Users\\KohMansf\\Desktop\\MJ Projects\\All Files\\Waterfall\\JoannePOR\\Converted\\2019POR')\n",
    "os.chdir(r'C:\\Users\\KohMansf\\Desktop\\MJ Projects\\All Files\\Waterfall\\JoannePOR\\Converted\\2019POR')"
   ]
  },
  {
   "cell_type": "code",
   "execution_count": null,
   "metadata": {
    "ExecuteTime": {
     "end_time": "2020-03-09T07:15:28.048122Z",
     "start_time": "2020-03-09T07:15:28.044143Z"
    }
   },
   "outputs": [],
   "source": [
    "files_csv = [f for f in files if f[0:4] == '2019']"
   ]
  },
  {
   "cell_type": "code",
   "execution_count": null,
   "metadata": {
    "ExecuteTime": {
     "end_time": "2020-03-09T07:16:10.944783Z",
     "start_time": "2020-03-09T07:15:58.679591Z"
    }
   },
   "outputs": [],
   "source": [
    "df = pd.DataFrame()\n",
    "\n",
    "for f in files_csv:\n",
    "    data = pd.read_csv(f)\n",
    "    df = df.append(data)\n",
    "\n",
    "df.head()"
   ]
  },
  {
   "cell_type": "markdown",
   "metadata": {},
   "source": [
    "**List all files in directory**"
   ]
  },
  {
   "cell_type": "code",
   "execution_count": null,
   "metadata": {
    "ExecuteTime": {
     "end_time": "2020-03-03T06:21:43.618603Z",
     "start_time": "2020-03-03T06:21:43.612618Z"
    }
   },
   "outputs": [],
   "source": [
    "path = os.getcwd()\n",
    "files = os.listdir(\n",
    "    r'C:\\Users\\KohMansf\\Desktop\\MJ Projects\\All Files\\Waterfall\\2018POR')\n",
    "os.chdir(r'C:\\Users\\KohMansf\\Desktop\\MJ Projects\\All Files\\Waterfall\\2018POR')"
   ]
  },
  {
   "cell_type": "markdown",
   "metadata": {},
   "source": [
    "**Select all XXXX POR files (Change the code XXXX for different year)**"
   ]
  },
  {
   "cell_type": "code",
   "execution_count": null,
   "metadata": {
    "ExecuteTime": {
     "end_time": "2020-03-03T06:21:46.574225Z",
     "start_time": "2020-03-03T06:21:46.569237Z"
    }
   },
   "outputs": [],
   "source": [
    "files_xlsx = [f for f in files if f[4:8] == '2018']"
   ]
  },
  {
   "cell_type": "markdown",
   "metadata": {},
   "source": [
    "**Merge all XXXX POR files into one**"
   ]
  },
  {
   "cell_type": "code",
   "execution_count": null,
   "metadata": {
    "ExecuteTime": {
     "end_time": "2020-03-03T06:25:55.981853Z",
     "start_time": "2020-03-03T06:22:00.438552Z"
    },
    "scrolled": true
   },
   "outputs": [],
   "source": [
    "df = pd.DataFrame()\n",
    "\n",
    "for f in files_xlsx:\n",
    "    data = pd.read_excel(f)\n",
    "    df = df.append(data)\n",
    "\n",
    "df.head()"
   ]
  },
  {
   "cell_type": "code",
   "execution_count": null,
   "metadata": {
    "ExecuteTime": {
     "end_time": "2020-03-09T07:17:09.116041Z",
     "start_time": "2020-03-09T07:16:47.195679Z"
    }
   },
   "outputs": [],
   "source": [
    "df['Time'] = pd.to_datetime(df['Attribute'])\n",
    "\n",
    "df['YYYYWW'] = df['Time'].apply(\n",
    "    lambda x: str(x.isocalendar()[0]) + str(x.isocalendar()[1]).zfill(2))\n",
    "df.head()"
   ]
  },
  {
   "cell_type": "markdown",
   "metadata": {},
   "source": [
    "**Get region base on target location base on original excel file**"
   ]
  },
  {
   "cell_type": "code",
   "execution_count": null,
   "metadata": {
    "ExecuteTime": {
     "end_time": "2020-03-09T07:20:28.472903Z",
     "start_time": "2020-03-09T07:19:36.983407Z"
    }
   },
   "outputs": [],
   "source": [
    "dfreg = pd.read_excel(\n",
    "    r'C:\\Users\\KohMansf\\Desktop\\MJ Projects\\All Files\\Waterfall\\Others\\MJ.xlsm',\n",
    "    sheet_name='2Region_Ref',\n",
    "    na_filter=False,\n",
    "    usecols='B:C')"
   ]
  },
  {
   "cell_type": "markdown",
   "metadata": {},
   "source": [
    "# Merge region with XXXX POR files base on target location and convert date to int"
   ]
  },
  {
   "cell_type": "code",
   "execution_count": null,
   "metadata": {
    "ExecuteTime": {
     "end_time": "2020-03-09T07:20:32.690485Z",
     "start_time": "2020-03-09T07:20:31.351037Z"
    }
   },
   "outputs": [],
   "source": [
    "dfmerge = pd.merge(df, dfreg, on='Target Location')\n",
    "\n",
    "dfmerge.head()"
   ]
  },
  {
   "cell_type": "code",
   "execution_count": null,
   "metadata": {
    "ExecuteTime": {
     "end_time": "2020-03-09T07:20:34.670222Z",
     "start_time": "2020-03-09T07:20:32.693445Z"
    },
    "scrolled": true
   },
   "outputs": [],
   "source": [
    "dfmerge.drop(columns=['Attribute'])\n",
    "dfmerge['Time'] = (dfmerge['Time'] - dt.datetime(1899, 12, 30)).dt.days\n",
    "dfmerge = dfmerge.drop(columns=['Attribute'])"
   ]
  },
  {
   "cell_type": "code",
   "execution_count": null,
   "metadata": {
    "ExecuteTime": {
     "end_time": "2020-03-09T07:20:34.693095Z",
     "start_time": "2020-03-09T07:20:34.672151Z"
    }
   },
   "outputs": [],
   "source": [
    "dfmerge.head()"
   ]
  },
  {
   "cell_type": "markdown",
   "metadata": {},
   "source": [
    "# Create Primary Key and Foreign Key"
   ]
  },
  {
   "cell_type": "code",
   "execution_count": null,
   "metadata": {
    "ExecuteTime": {
     "end_time": "2020-03-09T07:20:46.248734Z",
     "start_time": "2020-03-09T07:20:38.593215Z"
    }
   },
   "outputs": [],
   "source": [
    "dfmerge[[\n",
    "    'Target Location', 'MPA', 'Planning Part', 'Time',\n",
    "    'Current Cycle on Display'\n",
    "]] = dfmerge[[\n",
    "    'Target Location', 'MPA', 'Planning Part', 'Time',\n",
    "    'Current Cycle on Display'\n",
    "]].astype('str')\n",
    "\n",
    "dfmerge['PK'] = dfmerge['Target Location'] + dfmerge['MPA'] + \\\n",
    "    dfmerge['Planning Part'] + dfmerge['Time'] + \\\n",
    "    dfmerge['Current Cycle on Display']\n",
    "dfmerge['FK'] = dfmerge['Region'] + dfmerge['Planning Part'] + \\\n",
    "    dfmerge['Time'] + dfmerge['Current Cycle on Display']"
   ]
  },
  {
   "cell_type": "code",
   "execution_count": null,
   "metadata": {
    "ExecuteTime": {
     "end_time": "2020-03-09T07:20:46.273668Z",
     "start_time": "2020-03-09T07:20:46.250729Z"
    },
    "scrolled": true
   },
   "outputs": [],
   "source": [
    "dfmerge.head()"
   ]
  },
  {
   "cell_type": "markdown",
   "metadata": {},
   "source": [
    "# Finding Duplicates on primary key (IF ANY)"
   ]
  },
  {
   "cell_type": "code",
   "execution_count": null,
   "metadata": {
    "ExecuteTime": {
     "end_time": "2020-03-09T07:20:53.097830Z",
     "start_time": "2020-03-09T07:20:49.235165Z"
    }
   },
   "outputs": [],
   "source": [
    "duplicateRowsDF = dfmerge[dfmerge.duplicated(['PK'])]\n",
    "\n",
    "duplicateRowsDF"
   ]
  },
  {
   "cell_type": "markdown",
   "metadata": {},
   "source": [
    "# Group By Primary Key"
   ]
  },
  {
   "cell_type": "code",
   "execution_count": null,
   "metadata": {
    "ExecuteTime": {
     "end_time": "2020-03-09T07:21:12.216357Z",
     "start_time": "2020-03-09T07:21:01.264654Z"
    }
   },
   "outputs": [],
   "source": [
    "dfmerge2 = dfmerge.groupby('PK', as_index=False)['Value'].sum()\n",
    "\n",
    "dfmerge2"
   ]
  },
  {
   "cell_type": "markdown",
   "metadata": {},
   "source": [
    "# Drop Duplicates (IF ANY)"
   ]
  },
  {
   "cell_type": "code",
   "execution_count": null,
   "metadata": {
    "ExecuteTime": {
     "end_time": "2020-03-09T07:21:16.004258Z",
     "start_time": "2020-03-09T07:21:12.219351Z"
    }
   },
   "outputs": [],
   "source": [
    "dropdf = dfmerge.drop_duplicates(subset='PK', keep='first')"
   ]
  },
  {
   "cell_type": "code",
   "execution_count": null,
   "metadata": {
    "ExecuteTime": {
     "end_time": "2020-03-09T07:21:16.039171Z",
     "start_time": "2020-03-09T07:21:16.006258Z"
    }
   },
   "outputs": [],
   "source": [
    "dropdf"
   ]
  },
  {
   "cell_type": "code",
   "execution_count": null,
   "metadata": {
    "ExecuteTime": {
     "end_time": "2020-03-09T07:21:16.591665Z",
     "start_time": "2020-03-09T07:21:16.041126Z"
    }
   },
   "outputs": [],
   "source": [
    "dfdropvalue = dropdf.drop(columns='Value')"
   ]
  },
  {
   "cell_type": "code",
   "execution_count": null,
   "metadata": {
    "ExecuteTime": {
     "end_time": "2020-03-09T07:21:16.623569Z",
     "start_time": "2020-03-09T07:21:16.594646Z"
    }
   },
   "outputs": [],
   "source": [
    "dfdropvalue.head()"
   ]
  },
  {
   "cell_type": "markdown",
   "metadata": {},
   "source": [
    "# Merge on Primary Key and remove word \"group\" from Planning Part Group"
   ]
  },
  {
   "cell_type": "code",
   "execution_count": null,
   "metadata": {
    "ExecuteTime": {
     "end_time": "2020-03-09T07:21:26.876141Z",
     "start_time": "2020-03-09T07:21:16.626566Z"
    }
   },
   "outputs": [],
   "source": [
    "dffinal = pd.merge(dfmerge2, dfdropvalue, on='PK')\n",
    "dffinal['Planning Part Group'] = dffinal['Planning Part Group'].str.rstrip(\n",
    "    'GROUP')\n",
    "dffinal.head()"
   ]
  },
  {
   "cell_type": "markdown",
   "metadata": {},
   "source": [
    "# Rearrange Data and Output"
   ]
  },
  {
   "cell_type": "code",
   "execution_count": null,
   "metadata": {
    "ExecuteTime": {
     "end_time": "2020-03-09T07:21:28.762098Z",
     "start_time": "2020-03-09T07:21:26.878138Z"
    }
   },
   "outputs": [],
   "source": [
    "dffinalarr = dffinal[[\n",
    "    'PK', 'Current Cycle on Display', 'Product Line', 'Platform',\n",
    "    'Planning Part Group', 'Target Location', 'Planning Part', 'MPA', 'Time',\n",
    "    'Value', 'FK'\n",
    "]]"
   ]
  },
  {
   "cell_type": "code",
   "execution_count": null,
   "metadata": {
    "ExecuteTime": {
     "end_time": "2020-03-09T07:21:39.779667Z",
     "start_time": "2020-03-09T07:21:38.400358Z"
    }
   },
   "outputs": [],
   "source": [
    "por_df = dffinal.rename(\n",
    "    columns={\n",
    "        \"Current Cycle on Display\": \"Planning_Wk\",\n",
    "        \"Product Line\": \"Product_Line\",\n",
    "        \"Planning Part Group\": \"Program\",\n",
    "        \"Target Location\": \"Target_Location\",\n",
    "        \"Planning Part\": \"SKU\",\n",
    "        \"Time\": \"WkDate\",\n",
    "        \"Value\": \"Qty\"\n",
    "    })\n",
    "por_df['QtyType'] = 'POR'\n",
    "por_df.head()"
   ]
  },
  {
   "cell_type": "code",
   "execution_count": null,
   "metadata": {
    "ExecuteTime": {
     "end_time": "2020-03-09T07:22:36.998931Z",
     "start_time": "2020-03-09T07:22:03.631146Z"
    }
   },
   "outputs": [],
   "source": [
    "por_df.to_csv('2019_to_upload.csv', index=False)"
   ]
  }
 ],
 "metadata": {
  "hide_input": false,
  "kernelspec": {
   "display_name": "Python 3",
   "language": "python",
   "name": "python3"
  },
  "language_info": {
   "codemirror_mode": {
    "name": "ipython",
    "version": 3
   },
   "file_extension": ".py",
   "mimetype": "text/x-python",
   "name": "python",
   "nbconvert_exporter": "python",
   "pygments_lexer": "ipython3",
   "version": "3.7.5"
  },
  "latex_envs": {
   "LaTeX_envs_menu_present": true,
   "autoclose": false,
   "autocomplete": true,
   "bibliofile": "biblio.bib",
   "cite_by": "apalike",
   "current_citInitial": 1,
   "eqLabelWithNumbers": true,
   "eqNumInitial": 1,
   "hotkeys": {
    "equation": "Ctrl-E",
    "itemize": "Ctrl-I"
   },
   "labels_anchors": false,
   "latex_user_defs": false,
   "report_style_numbering": false,
   "user_envs_cfg": false
  },
  "toc": {
   "base_numbering": 1,
   "nav_menu": {},
   "number_sections": true,
   "sideBar": true,
   "skip_h1_title": false,
   "title_cell": "Table of Contents",
   "title_sidebar": "Contents",
   "toc_cell": false,
   "toc_position": {
    "height": "1106px",
    "left": "478px",
    "top": "110px",
    "width": "249.797px"
   },
   "toc_section_display": true,
   "toc_window_display": true
  }
 },
 "nbformat": 4,
 "nbformat_minor": 2
}
