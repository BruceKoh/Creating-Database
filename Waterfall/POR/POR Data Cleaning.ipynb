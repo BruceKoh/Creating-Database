{
 "cells": [
  {
   "cell_type": "code",
   "execution_count": null,
   "metadata": {
    "ExecuteTime": {
     "end_time": "2020-03-20T08:45:56.946097Z",
     "start_time": "2020-03-20T08:45:54.956487Z"
    }
   },
   "outputs": [],
   "source": [
    "import os\n",
    "import datetime as dt\n",
    "import pandas as pd\n",
    "import time"
   ]
  },
  {
   "cell_type": "markdown",
   "metadata": {},
   "source": [
    "# Files"
   ]
  },
  {
   "cell_type": "markdown",
   "metadata": {},
   "source": [
    "**List all files in directory**"
   ]
  },
  {
   "cell_type": "code",
   "execution_count": null,
   "metadata": {
    "ExecuteTime": {
     "end_time": "2020-03-20T08:46:03.856295Z",
     "start_time": "2020-03-20T08:46:03.851307Z"
    }
   },
   "outputs": [],
   "source": [
    "path = os.getcwd()\n",
    "files = os.listdir(r'C:\\Users\\KohMansf\\Documents\\STAMS_FILES\\DB\\POR\\POR2020')\n",
    "os.chdir(r'C:\\Users\\KohMansf\\Documents\\STAMS_FILES\\DB\\POR\\POR2020')"
   ]
  },
  {
   "cell_type": "code",
   "execution_count": null,
   "metadata": {
    "ExecuteTime": {
     "end_time": "2020-03-20T08:46:04.297403Z",
     "start_time": "2020-03-20T08:46:04.293409Z"
    }
   },
   "outputs": [],
   "source": [
    "files_csv = [f for f in files if f[4:8] == '2020']"
   ]
  },
  {
   "cell_type": "code",
   "execution_count": null,
   "metadata": {
    "ExecuteTime": {
     "end_time": "2020-03-20T08:46:08.348437Z",
     "start_time": "2020-03-20T08:46:05.964637Z"
    }
   },
   "outputs": [],
   "source": [
    "df = pd.DataFrame()\n",
    "\n",
    "for f in files_csv:\n",
    "    data = pd.read_csv(f, parse_dates=['Attribute'],dayfirst=True)\n",
    "    df = df.append(data)\n",
    "\n",
    "df.head()"
   ]
  },
  {
   "cell_type": "code",
   "execution_count": null,
   "metadata": {
    "ExecuteTime": {
     "end_time": "2020-03-20T07:18:55.801815Z",
     "start_time": "2020-03-20T07:17:43.267228Z"
    }
   },
   "outputs": [],
   "source": [
    "# path = os.getcwd()\n",
    "# files = os.listdir(\n",
    "#     r'C:\\Users\\KohMansf\\Documents\\STAMS_FILES\\DB\\POR\\POR2018')\n",
    "# os.chdir(r'C:\\Users\\KohMansf\\Documents\\STAMS_FILES\\DB\\POR\\POR2018')\n",
    "\n",
    "# files_xlsx = [f for f in files if f[4:8] == '2018']\n",
    "\n",
    "# df = pd.DataFrame()\n",
    "\n",
    "# for f in files_xlsx:\n",
    "#     data = pd.read_excel(f)\n",
    "#     df = df.append(data)\n",
    "\n",
    "# df.head()"
   ]
  },
  {
   "cell_type": "markdown",
   "metadata": {},
   "source": [
    "# POR Cleaning"
   ]
  },
  {
   "cell_type": "code",
   "execution_count": null,
   "metadata": {
    "ExecuteTime": {
     "end_time": "2020-03-20T08:46:17.089548Z",
     "start_time": "2020-03-20T08:46:12.981618Z"
    }
   },
   "outputs": [],
   "source": [
    "df['Time'] = pd.to_datetime(df['Attribute'])\n",
    "\n",
    "df['YYYYWW'] = df['Time'].apply(\n",
    "    lambda x: str(x.isocalendar()[0]) + str(x.isocalendar()[1]).zfill(2))\n",
    "df.head()"
   ]
  },
  {
   "cell_type": "markdown",
   "metadata": {},
   "source": [
    "**Get region base on target location base on original POR excel file**"
   ]
  },
  {
   "cell_type": "code",
   "execution_count": null,
   "metadata": {
    "ExecuteTime": {
     "end_time": "2020-03-20T08:46:17.175782Z",
     "start_time": "2020-03-20T08:46:17.091545Z"
    }
   },
   "outputs": [],
   "source": [
    "dfreg = pd.read_excel(\n",
    "    r'C:\\Users\\KohMansf\\Documents\\STAMS_FILES\\DB\\Country of Target Location\\Country of Target Location.xlsx',\n",
    "    sheet_name='Country of Target Location',\n",
    "    na_filter=False,\n",
    "    usecols='A:B')"
   ]
  },
  {
   "cell_type": "code",
   "execution_count": null,
   "metadata": {
    "ExecuteTime": {
     "end_time": "2020-03-20T08:46:17.496225Z",
     "start_time": "2020-03-20T08:46:17.177613Z"
    }
   },
   "outputs": [],
   "source": [
    "dfmerge = pd.merge(df, dfreg, on='Target Location')\n",
    "\n",
    "dfmerge.head()"
   ]
  },
  {
   "cell_type": "code",
   "execution_count": null,
   "metadata": {
    "ExecuteTime": {
     "end_time": "2020-03-20T08:46:18.168242Z",
     "start_time": "2020-03-20T08:46:17.498221Z"
    },
    "scrolled": true
   },
   "outputs": [],
   "source": [
    "dfmerge.drop(columns=['Attribute'])\n",
    "dfmerge['Time'] = (dfmerge['Time'] - dt.datetime(1899, 12, 30)).dt.days\n",
    "# dfmerge = dfmerge.drop(columns=['Attribute'])\n",
    "\n",
    "dfmerge['Planning Part Group'] = dfmerge['Planning Part Group'].str.rstrip(\n",
    "    'GROUP')"
   ]
  },
  {
   "cell_type": "code",
   "execution_count": null,
   "metadata": {
    "ExecuteTime": {
     "end_time": "2020-03-20T08:46:18.176915Z",
     "start_time": "2020-03-20T08:46:18.170932Z"
    }
   },
   "outputs": [],
   "source": [
    "mpa_dict = {\n",
    "    'NKG-THAILAND': 'NKG Thailand',\n",
    "    'NKG Thailand': 'NKG Thailand',\n",
    "    'NKG-YUEYANG': 'NKG Yue Yang',\n",
    "    'DSG-VIETNAM': 'DSG Vietnam',\n",
    "    'DSG Vietnam': 'DSG Vietnam',\n",
    "    'FLEX-PTP': 'Flex PTP Malasya',\n",
    "    'Flex PTP Malasya': 'Flex PTP Malasya',\n",
    "    'FLEX-ZHUHAI': 'Flex Zhuhai',\n",
    "    'Flex Zhuhai': 'Flex Zhuhai',\n",
    "    'FOXCONN': 'Foxconn ChongQing',\n",
    "    'Foxconn ChongQing': 'Foxconn ChongQing',\n",
    "    'Jabil Circuit De Chihuahua': 'Jabil Circuit De Chihuahua',\n",
    "    'Jabil Circuit Netherlands BV': 'Jabil Circuit Netherlands BV'\n",
    "}"
   ]
  },
  {
   "cell_type": "code",
   "execution_count": null,
   "metadata": {
    "ExecuteTime": {
     "end_time": "2020-03-20T08:46:18.403860Z",
     "start_time": "2020-03-20T08:46:18.179910Z"
    }
   },
   "outputs": [],
   "source": [
    "dfmerge['MPA'] = dfmerge['MPA'].map(lambda x: mpa_dict.get(x, x))\n",
    "dfmerge.head()"
   ]
  },
  {
   "cell_type": "markdown",
   "metadata": {},
   "source": [
    "# Output"
   ]
  },
  {
   "cell_type": "code",
   "execution_count": null,
   "metadata": {
    "ExecuteTime": {
     "end_time": "2020-03-20T08:46:18.524298Z",
     "start_time": "2020-03-20T08:46:18.406852Z"
    }
   },
   "outputs": [],
   "source": [
    "dffinal = dfmerge[[\n",
    "    'Current Cycle on Display', 'Product Line', 'Platform',\n",
    "    'Planning Part Group', 'Target Location', 'Planning Part', 'MPA', 'region',\n",
    "    'Value', 'YYYYWW', 'Attribute'\n",
    "]]\n",
    "dffinal"
   ]
  },
  {
   "cell_type": "code",
   "execution_count": null,
   "metadata": {
    "ExecuteTime": {
     "end_time": "2020-03-20T08:46:18.745712Z",
     "start_time": "2020-03-20T08:46:18.528291Z"
    }
   },
   "outputs": [],
   "source": [
    "por_df = dffinal.rename(\n",
    "    columns={\n",
    "        \"Current Cycle on Display\": \"Planning_Wk\",\n",
    "        \"Product Line\": \"Product_Line\",\n",
    "        \"Planning Part Group\": \"Program\",\n",
    "        \"Target Location\": \"Target_Location\",\n",
    "        \"Planning Part\": \"SKU\",\n",
    "        \"Value\": \"Qty\",\n",
    "        \"region\": \"Region\",\n",
    "        \"Attribute\": \"DATES\"\n",
    "    })\n",
    "por_df['QtyType'] = 'POR'\n",
    "por_df.head()"
   ]
  },
  {
   "cell_type": "code",
   "execution_count": null,
   "metadata": {
    "ExecuteTime": {
     "end_time": "2020-03-20T08:46:46.314468Z",
     "start_time": "2020-03-20T08:46:36.173631Z"
    }
   },
   "outputs": [],
   "source": [
    "por_df.to_csv('2020_to_upload.csv', index=False)"
   ]
  },
  {
   "cell_type": "code",
   "execution_count": null,
   "metadata": {
    "ExecuteTime": {
     "end_time": "2020-03-20T08:46:46.326794Z",
     "start_time": "2020-03-20T08:46:46.314468Z"
    }
   },
   "outputs": [],
   "source": [
    "# por_df.shape\n",
    "\n",
    "# por_df.isnull().any().any()"
   ]
  },
  {
   "cell_type": "code",
   "execution_count": null,
   "metadata": {},
   "outputs": [],
   "source": []
  }
 ],
 "metadata": {
  "hide_input": false,
  "kernelspec": {
   "display_name": "Python 3",
   "language": "python",
   "name": "python3"
  },
  "language_info": {
   "codemirror_mode": {
    "name": "ipython",
    "version": 3
   },
   "file_extension": ".py",
   "mimetype": "text/x-python",
   "name": "python",
   "nbconvert_exporter": "python",
   "pygments_lexer": "ipython3",
   "version": "3.7.5"
  },
  "latex_envs": {
   "LaTeX_envs_menu_present": true,
   "autoclose": false,
   "autocomplete": true,
   "bibliofile": "biblio.bib",
   "cite_by": "apalike",
   "current_citInitial": 1,
   "eqLabelWithNumbers": true,
   "eqNumInitial": 1,
   "hotkeys": {
    "equation": "Ctrl-E",
    "itemize": "Ctrl-I"
   },
   "labels_anchors": false,
   "latex_user_defs": false,
   "report_style_numbering": false,
   "user_envs_cfg": false
  },
  "toc": {
   "base_numbering": 1,
   "nav_menu": {},
   "number_sections": true,
   "sideBar": true,
   "skip_h1_title": false,
   "title_cell": "Table of Contents",
   "title_sidebar": "Contents",
   "toc_cell": false,
   "toc_position": {
    "height": "1106px",
    "left": "478px",
    "top": "110px",
    "width": "249.787px"
   },
   "toc_section_display": true,
   "toc_window_display": true
  }
 },
 "nbformat": 4,
 "nbformat_minor": 2
}
