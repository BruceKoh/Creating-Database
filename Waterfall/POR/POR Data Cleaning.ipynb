{
 "cells": [
  {
   "cell_type": "code",
   "execution_count": null,
   "metadata": {
    "ExecuteTime": {
     "end_time": "2020-03-03T06:20:37.802807Z",
     "start_time": "2020-03-03T06:20:35.693740Z"
    }
   },
   "outputs": [],
   "source": [
    "import os\n",
    "import datetime as dt\n",
    "import pandas as pd\n",
    "import time"
   ]
  },
  {
   "cell_type": "markdown",
   "metadata": {},
   "source": [
    "# Files"
   ]
  },
  {
   "cell_type": "markdown",
   "metadata": {},
   "source": [
    "**List all files in directory**"
   ]
  },
  {
   "cell_type": "code",
   "execution_count": null,
   "metadata": {
    "ExecuteTime": {
     "end_time": "2020-03-03T06:21:43.618603Z",
     "start_time": "2020-03-03T06:21:43.612618Z"
    }
   },
   "outputs": [],
   "source": [
    "path = os.getcwd()\n",
    "files = os.listdir(\n",
    "    r'C:\\Users\\KohMansf\\Desktop\\MJ Projects\\All Files\\Waterfall\\2018POR')\n",
    "os.chdir(r'C:\\Users\\KohMansf\\Desktop\\MJ Projects\\All Files\\Waterfall\\2018POR')"
   ]
  },
  {
   "cell_type": "markdown",
   "metadata": {},
   "source": [
    "**Select all XXXX POR files (Change the code XXXX for different year)**"
   ]
  },
  {
   "cell_type": "code",
   "execution_count": null,
   "metadata": {
    "ExecuteTime": {
     "end_time": "2020-03-03T06:21:46.574225Z",
     "start_time": "2020-03-03T06:21:46.569237Z"
    }
   },
   "outputs": [],
   "source": [
    "files_xlsx = [f for f in files if f[4:8] == '2018']"
   ]
  },
  {
   "cell_type": "markdown",
   "metadata": {},
   "source": [
    "**Merge all XXXX POR files into one**"
   ]
  },
  {
   "cell_type": "code",
   "execution_count": null,
   "metadata": {
    "ExecuteTime": {
     "end_time": "2020-03-03T06:25:55.981853Z",
     "start_time": "2020-03-03T06:22:00.438552Z"
    },
    "scrolled": true
   },
   "outputs": [],
   "source": [
    "df = pd.DataFrame()\n",
    "\n",
    "for f in files_xlsx:\n",
    "    data = pd.read_excel(f)\n",
    "    df = df.append(data)\n",
    "\n",
    "df.head()"
   ]
  },
  {
   "cell_type": "code",
   "execution_count": null,
   "metadata": {
    "ExecuteTime": {
     "end_time": "2020-03-03T06:47:24.303131Z",
     "start_time": "2020-03-03T06:47:14.240022Z"
    }
   },
   "outputs": [],
   "source": [
    "df['Time'] = pd.to_datetime(df['Attribute'])\n",
    "\n",
    "df['YYYYWW'] = df['Time'].apply(\n",
    "    lambda x: str(x.isocalendar()[0]) + str(x.isocalendar()[1]).zfill(2))\n",
    "df.head()"
   ]
  },
  {
   "cell_type": "markdown",
   "metadata": {},
   "source": [
    "**Get region base on target location base on original excel file**"
   ]
  },
  {
   "cell_type": "code",
   "execution_count": null,
   "metadata": {
    "ExecuteTime": {
     "end_time": "2020-03-03T06:49:28.759260Z",
     "start_time": "2020-03-03T06:48:12.223291Z"
    }
   },
   "outputs": [],
   "source": [
    "dfreg = pd.read_excel(\n",
    "    r'C:\\Users\\KohMansf\\Desktop\\MJ Projects\\All Files\\Waterfall\\Others\\MJ.xlsm',\n",
    "    sheet_name='2Region_Ref',\n",
    "    na_filter=False,\n",
    "    usecols='B:C')"
   ]
  },
  {
   "cell_type": "markdown",
   "metadata": {},
   "source": [
    "# Merge region with XXXX POR files base on target location and convert date to int"
   ]
  },
  {
   "cell_type": "code",
   "execution_count": null,
   "metadata": {
    "ExecuteTime": {
     "end_time": "2020-03-03T06:49:40.718863Z",
     "start_time": "2020-03-03T06:49:40.182820Z"
    }
   },
   "outputs": [],
   "source": [
    "dfmerge = pd.merge(df, dfreg, on='Target Location')\n",
    "\n",
    "dfmerge.head()"
   ]
  },
  {
   "cell_type": "code",
   "execution_count": null,
   "metadata": {
    "ExecuteTime": {
     "end_time": "2020-03-03T06:49:55.681557Z",
     "start_time": "2020-03-03T06:49:54.801910Z"
    },
    "scrolled": true
   },
   "outputs": [],
   "source": [
    "dfmerge.drop(columns=['Attribute'])\n",
    "dfmerge['Time'] = (dfmerge['Time'] - dt.datetime(1899, 12, 30)).dt.days\n",
    "dfmerge = dfmerge.drop(columns=['Attribute'])"
   ]
  },
  {
   "cell_type": "code",
   "execution_count": null,
   "metadata": {
    "ExecuteTime": {
     "end_time": "2020-03-03T06:49:56.660640Z",
     "start_time": "2020-03-03T06:49:56.645131Z"
    }
   },
   "outputs": [],
   "source": [
    "dfmerge.head()"
   ]
  },
  {
   "cell_type": "markdown",
   "metadata": {},
   "source": [
    "# Create Primary Key and Foreign Key"
   ]
  },
  {
   "cell_type": "code",
   "execution_count": null,
   "metadata": {
    "ExecuteTime": {
     "end_time": "2020-03-03T06:50:12.430761Z",
     "start_time": "2020-03-03T06:50:06.658542Z"
    }
   },
   "outputs": [],
   "source": [
    "dfmerge[[\n",
    "    'Target Location', 'MPA', 'Planning Part', 'Time',\n",
    "    'Current Cycle on Display'\n",
    "]] = dfmerge[[\n",
    "    'Target Location', 'MPA', 'Planning Part', 'Time',\n",
    "    'Current Cycle on Display'\n",
    "]].astype('str')\n",
    "\n",
    "dfmerge['PK'] = dfmerge['Target Location'] + dfmerge['MPA'] + \\\n",
    "    dfmerge['Planning Part'] + dfmerge['Time'] + \\\n",
    "    dfmerge['Current Cycle on Display']\n",
    "dfmerge['FK'] = dfmerge['Region'] + dfmerge['Planning Part'] + \\\n",
    "    dfmerge['Time'] + dfmerge['Current Cycle on Display']"
   ]
  },
  {
   "cell_type": "code",
   "execution_count": null,
   "metadata": {
    "ExecuteTime": {
     "end_time": "2020-03-03T06:50:19.985293Z",
     "start_time": "2020-03-03T06:50:19.958365Z"
    },
    "scrolled": true
   },
   "outputs": [],
   "source": [
    "dfmerge.head()"
   ]
  },
  {
   "cell_type": "markdown",
   "metadata": {},
   "source": [
    "# Finding Duplicates on primary key (IF ANY)"
   ]
  },
  {
   "cell_type": "code",
   "execution_count": null,
   "metadata": {
    "ExecuteTime": {
     "end_time": "2020-03-03T06:50:28.285253Z",
     "start_time": "2020-03-03T06:50:26.841276Z"
    }
   },
   "outputs": [],
   "source": [
    "duplicateRowsDF = dfmerge[dfmerge.duplicated(['PK'])]\n",
    "\n",
    "duplicateRowsDF"
   ]
  },
  {
   "cell_type": "markdown",
   "metadata": {},
   "source": [
    "# Group By Primary Key"
   ]
  },
  {
   "cell_type": "code",
   "execution_count": null,
   "metadata": {
    "ExecuteTime": {
     "end_time": "2020-03-03T06:50:39.422800Z",
     "start_time": "2020-03-03T06:50:35.770844Z"
    }
   },
   "outputs": [],
   "source": [
    "dfmerge2 = dfmerge.groupby('PK', as_index=False)['Value'].sum()\n",
    "\n",
    "dfmerge2"
   ]
  },
  {
   "cell_type": "markdown",
   "metadata": {},
   "source": [
    "# Drop Duplicates (IF ANY)"
   ]
  },
  {
   "cell_type": "code",
   "execution_count": null,
   "metadata": {
    "ExecuteTime": {
     "end_time": "2020-03-03T06:50:44.705356Z",
     "start_time": "2020-03-03T06:50:43.475990Z"
    }
   },
   "outputs": [],
   "source": [
    "dropdf = dfmerge.drop_duplicates(subset='PK', keep='first')"
   ]
  },
  {
   "cell_type": "code",
   "execution_count": null,
   "metadata": {
    "ExecuteTime": {
     "end_time": "2020-03-03T06:50:45.389682Z",
     "start_time": "2020-03-03T06:50:45.356772Z"
    }
   },
   "outputs": [],
   "source": [
    "dropdf"
   ]
  },
  {
   "cell_type": "code",
   "execution_count": null,
   "metadata": {
    "ExecuteTime": {
     "end_time": "2020-03-03T06:50:49.882985Z",
     "start_time": "2020-03-03T06:50:49.647614Z"
    }
   },
   "outputs": [],
   "source": [
    "dfdropvalue = dropdf.drop(columns='Value')"
   ]
  },
  {
   "cell_type": "code",
   "execution_count": null,
   "metadata": {
    "ExecuteTime": {
     "end_time": "2020-03-03T06:50:58.290380Z",
     "start_time": "2020-03-03T06:50:58.270436Z"
    }
   },
   "outputs": [],
   "source": [
    "dfdropvalue.head()"
   ]
  },
  {
   "cell_type": "markdown",
   "metadata": {},
   "source": [
    "# Merge on Primary Key and remove word \"group\" from Planning Part Group"
   ]
  },
  {
   "cell_type": "code",
   "execution_count": null,
   "metadata": {
    "ExecuteTime": {
     "end_time": "2020-03-03T06:51:32.603242Z",
     "start_time": "2020-03-03T06:51:29.413350Z"
    }
   },
   "outputs": [],
   "source": [
    "dffinal = pd.merge(dfmerge2, dfdropvalue, on='PK')\n",
    "dffinal['Planning Part Group'] = dffinal['Planning Part Group'].str.rstrip(\n",
    "    'GROUP')\n",
    "dffinal.head()"
   ]
  },
  {
   "cell_type": "markdown",
   "metadata": {},
   "source": [
    "# Rearrange Data and Output"
   ]
  },
  {
   "cell_type": "code",
   "execution_count": null,
   "metadata": {
    "ExecuteTime": {
     "end_time": "2020-03-03T06:51:44.677369Z",
     "start_time": "2020-03-03T06:51:43.848054Z"
    }
   },
   "outputs": [],
   "source": [
    "dffinalarr = dffinal[[\n",
    "    'PK', 'Current Cycle on Display', 'Product Line', 'Platform',\n",
    "    'Planning Part Group', 'Target Location', 'Planning Part', 'MPA', 'Time',\n",
    "    'Value', 'FK'\n",
    "]]"
   ]
  },
  {
   "cell_type": "code",
   "execution_count": null,
   "metadata": {
    "ExecuteTime": {
     "end_time": "2020-03-03T06:52:53.286100Z",
     "start_time": "2020-03-03T06:52:52.586942Z"
    }
   },
   "outputs": [],
   "source": [
    "por_df = dffinal.rename(\n",
    "    columns={\n",
    "        \"Current Cycle on Display\": \"Planning_Wk\",\n",
    "        \"Product Line\": \"Product_Line\",\n",
    "        \"Planning Part Group\": \"Program\",\n",
    "        \"Target Location\": \"Target_Location\",\n",
    "        \"Planning Part\": \"SKU\",\n",
    "        \"Time\": \"WkDate\",\n",
    "        \"Value\": \"Qty\"\n",
    "    })\n",
    "por_df['QtyType'] = 'POR'\n",
    "por_df.head()"
   ]
  },
  {
   "cell_type": "code",
   "execution_count": null,
   "metadata": {
    "ExecuteTime": {
     "end_time": "2020-03-03T06:53:44.274320Z",
     "start_time": "2020-03-03T06:53:25.821333Z"
    }
   },
   "outputs": [],
   "source": [
    "por_df.to_csv('2018_to_upload.csv', index=False)"
   ]
  }
 ],
 "metadata": {
  "hide_input": false,
  "kernelspec": {
   "display_name": "Python 3",
   "language": "python",
   "name": "python3"
  },
  "language_info": {
   "codemirror_mode": {
    "name": "ipython",
    "version": 3
   },
   "file_extension": ".py",
   "mimetype": "text/x-python",
   "name": "python",
   "nbconvert_exporter": "python",
   "pygments_lexer": "ipython3",
   "version": "3.7.5"
  },
  "latex_envs": {
   "LaTeX_envs_menu_present": true,
   "autoclose": false,
   "autocomplete": true,
   "bibliofile": "biblio.bib",
   "cite_by": "apalike",
   "current_citInitial": 1,
   "eqLabelWithNumbers": true,
   "eqNumInitial": 1,
   "hotkeys": {
    "equation": "Ctrl-E",
    "itemize": "Ctrl-I"
   },
   "labels_anchors": false,
   "latex_user_defs": false,
   "report_style_numbering": false,
   "user_envs_cfg": false
  },
  "toc": {
   "base_numbering": 1,
   "nav_menu": {},
   "number_sections": true,
   "sideBar": true,
   "skip_h1_title": false,
   "title_cell": "Table of Contents",
   "title_sidebar": "Contents",
   "toc_cell": false,
   "toc_position": {
    "height": "1106px",
    "left": "478px",
    "top": "110px",
    "width": "249.797px"
   },
   "toc_section_display": true,
   "toc_window_display": true
  }
 },
 "nbformat": 4,
 "nbformat_minor": 2
}
