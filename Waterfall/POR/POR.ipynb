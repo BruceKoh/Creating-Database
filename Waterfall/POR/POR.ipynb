{
 "cells": [
  {
   "cell_type": "markdown",
   "metadata": {},
   "source": [
    "<h1><center>POR</center></h1>"
   ]
  },
  {
   "cell_type": "markdown",
   "metadata": {},
   "source": [
    "#### Transpose POR"
   ]
  },
  {
   "cell_type": "code",
   "execution_count": null,
   "metadata": {
    "ExecuteTime": {
     "end_time": "2020-04-27T02:01:50.515100Z",
     "start_time": "2020-04-27T02:01:44.832835Z"
    }
   },
   "outputs": [],
   "source": [
    "import os\n",
    "import xlwings as xw\n",
    "import pandas as pd\n",
    "import glob\n",
    "import datetime\n",
    "import pyodbc\n",
    "import sqlalchemy as db\n",
    "from urllib.parse import quote_plus"
   ]
  },
  {
   "cell_type": "code",
   "execution_count": null,
   "metadata": {
    "ExecuteTime": {
     "end_time": "2020-04-24T16:57:26.691001Z",
     "start_time": "2020-04-24T16:57:26.677037Z"
    }
   },
   "outputs": [],
   "source": [
    "path = r'C:\\Users\\KohMansf\\Documents\\STAMS_FILES\\Waterfall\\Automation\\POR Transpose'\n",
    "os.chdir(path)\n",
    "files = glob.glob(path + '/*.xlsb')\n",
    "\n",
    "latest_por = max(files, key=os.path.getctime)"
   ]
  },
  {
   "cell_type": "code",
   "execution_count": null,
   "metadata": {
    "ExecuteTime": {
     "end_time": "2020-04-24T16:57:33.064326Z",
     "start_time": "2020-04-24T16:57:26.696983Z"
    }
   },
   "outputs": [],
   "source": [
    "app = xw.App()\n",
    "book = xw.Book(latest_por)\n",
    "sheet = book.sheets('POR Data')\n",
    "latest_por = sheet.range('A1').options(\n",
    "    pd.DataFrame, expand='table', index=False).value\n",
    "book.close()\n",
    "app.kill()"
   ]
  },
  {
   "cell_type": "code",
   "execution_count": null,
   "metadata": {
    "ExecuteTime": {
     "end_time": "2020-04-24T16:57:33.165066Z",
     "start_time": "2020-04-24T16:57:33.072307Z"
    }
   },
   "outputs": [],
   "source": [
    "latest_por.head()"
   ]
  },
  {
   "cell_type": "code",
   "execution_count": null,
   "metadata": {
    "ExecuteTime": {
     "end_time": "2020-04-24T16:57:33.179020Z",
     "start_time": "2020-04-24T16:57:33.173036Z"
    }
   },
   "outputs": [],
   "source": [
    "Dates = latest_por.columns[10:]\n",
    "Col = latest_por.columns[0:10]"
   ]
  },
  {
   "cell_type": "code",
   "execution_count": null,
   "metadata": {
    "ExecuteTime": {
     "end_time": "2020-04-24T16:57:33.322638Z",
     "start_time": "2020-04-24T16:57:33.185004Z"
    }
   },
   "outputs": [],
   "source": [
    "latest_por.iloc[:, 10:] = latest_por.iloc[:, 10:].fillna(0)\n",
    "latest_por.tail(10)"
   ]
  },
  {
   "cell_type": "code",
   "execution_count": null,
   "metadata": {
    "ExecuteTime": {
     "end_time": "2020-04-24T16:57:34.181637Z",
     "start_time": "2020-04-24T16:57:33.326635Z"
    }
   },
   "outputs": [],
   "source": [
    "latest_por = pd.melt(latest_por,\n",
    "                     id_vars=Col,\n",
    "                     value_vars=Dates,\n",
    "                     value_name='Value',\n",
    "                     var_name='Attribute')\n",
    "latest_por.iloc[:,10] = latest_por.iloc[:,10].apply(pd.to_datetime)"
   ]
  },
  {
   "cell_type": "code",
   "execution_count": null,
   "metadata": {
    "ExecuteTime": {
     "end_time": "2020-04-24T16:57:34.224511Z",
     "start_time": "2020-04-24T16:57:34.186613Z"
    }
   },
   "outputs": [],
   "source": [
    "latest_por.head(10)"
   ]
  },
  {
   "cell_type": "code",
   "execution_count": null,
   "metadata": {
    "ExecuteTime": {
     "end_time": "2020-04-24T16:57:47.912564Z",
     "start_time": "2020-04-24T16:57:47.888628Z"
    }
   },
   "outputs": [],
   "source": [
    "latest_por = latest_por.iloc[:, [0, 2, 4, 5, 6, 7, 9, 10, 11]]"
   ]
  },
  {
   "cell_type": "code",
   "execution_count": null,
   "metadata": {
    "ExecuteTime": {
     "end_time": "2020-04-24T16:57:49.646744Z",
     "start_time": "2020-04-24T16:57:49.641757Z"
    }
   },
   "outputs": [],
   "source": [
    "yyyy_ww = latest_por.iloc[0, 0]\n",
    "\n",
    "file = 'POR_' + yyyy_ww + '.csv'"
   ]
  },
  {
   "cell_type": "code",
   "execution_count": null,
   "metadata": {
    "ExecuteTime": {
     "end_time": "2020-04-24T16:58:00.469030Z",
     "start_time": "2020-04-24T16:57:58.564650Z"
    }
   },
   "outputs": [],
   "source": [
    "database_path = r'C:\\Users\\KohMansf\\Documents\\STAMS_FILES\\Waterfall\\Automation\\Database\\POR'\n",
    "os.chdir(database_path)\n",
    "latest_por.to_csv(file, index=False)"
   ]
  },
  {
   "cell_type": "markdown",
   "metadata": {},
   "source": [
    "#### Data Cleaning"
   ]
  },
  {
   "cell_type": "code",
   "execution_count": null,
   "metadata": {
    "ExecuteTime": {
     "end_time": "2020-04-24T17:01:11.642392Z",
     "start_time": "2020-04-24T17:01:11.638403Z"
    }
   },
   "outputs": [],
   "source": [
    "now = datetime.datetime.now()\n",
    "year = str(now.year)"
   ]
  },
  {
   "cell_type": "code",
   "execution_count": null,
   "metadata": {
    "ExecuteTime": {
     "end_time": "2020-04-24T17:01:12.434691Z",
     "start_time": "2020-04-24T17:01:12.428707Z"
    }
   },
   "outputs": [],
   "source": [
    "por_files = os.listdir(database_path)\n",
    "files_csv = [f for f in por_files if f[4:8] == year]"
   ]
  },
  {
   "cell_type": "code",
   "execution_count": null,
   "metadata": {
    "ExecuteTime": {
     "end_time": "2020-04-24T17:01:26.634596Z",
     "start_time": "2020-04-24T17:01:20.724240Z"
    }
   },
   "outputs": [],
   "source": [
    "df_por = pd.DataFrame()\n",
    "\n",
    "for f in files_csv:\n",
    "    data = pd.read_csv(f, parse_dates=['Attribute'], dayfirst=True)\n",
    "    df_por = df_por.append(data)\n",
    "\n",
    "df_por.tail()"
   ]
  },
  {
   "cell_type": "code",
   "execution_count": null,
   "metadata": {
    "ExecuteTime": {
     "end_time": "2020-04-24T17:12:35.861066Z",
     "start_time": "2020-04-24T17:12:13.661733Z"
    }
   },
   "outputs": [],
   "source": [
    "df_por['Attribute'] = df_por['Attribute'].apply(pd.to_datetime)\n",
    "df_por['YYYYWW'] = df_por['Attribute'].apply(lambda x: str(\n",
    "    x.isocalendar()[0]) + str(x.isocalendar()[1]).zfill(2))\n",
    "df_por.tail()"
   ]
  },
  {
   "cell_type": "markdown",
   "metadata": {
    "ExecuteTime": {
     "end_time": "2020-04-23T05:25:42.220771Z",
     "start_time": "2020-04-23T05:25:36.279057Z"
    }
   },
   "source": [
    "**We get Region base on target location (Data from original POR file)**"
   ]
  },
  {
   "cell_type": "code",
   "execution_count": null,
   "metadata": {
    "ExecuteTime": {
     "end_time": "2020-04-27T02:01:56.184496Z",
     "start_time": "2020-04-27T02:01:55.853818Z"
    }
   },
   "outputs": [],
   "source": [
    "df_region = pd.read_excel(\n",
    "    r'C:\\Users\\KohMansf\\Documents\\STAMS_FILES\\Waterfall\\Previous DB\\Country of Target Location\\Country of Target Location.xlsx',\n",
    "    sheet_name='Country of Target Location',\n",
    "    na_filter=False,\n",
    "    usecols='A:B')"
   ]
  },
  {
   "cell_type": "code",
   "execution_count": null,
   "metadata": {
    "ExecuteTime": {
     "end_time": "2020-04-24T17:13:05.255842Z",
     "start_time": "2020-04-24T17:13:03.073911Z"
    }
   },
   "outputs": [],
   "source": [
    "df_merged = pd.merge(df_por, df_region, on='Target Location')\n",
    "df_merged['Planning Part Group'] = df_merged['Planning Part Group'].str.rstrip(\n",
    "    'GROUP')\n",
    "df_merged.head()"
   ]
  },
  {
   "cell_type": "code",
   "execution_count": null,
   "metadata": {
    "ExecuteTime": {
     "end_time": "2020-04-24T17:13:05.269804Z",
     "start_time": "2020-04-24T17:13:05.260828Z"
    }
   },
   "outputs": [],
   "source": [
    "mpa_dict = {\n",
    "    'NKG-THAILAND': 'NKG Thailand',\n",
    "    'NKG Thailand': 'NKG Thailand',\n",
    "    'NKG-YUEYANG': 'NKG Yue Yang',\n",
    "    'DSG-VIETNAM': 'DSG Vietnam',\n",
    "    'DSG Vietnam': 'DSG Vietnam',\n",
    "    'FLEX-PTP': 'Flex PTP Malasya',\n",
    "    'Flex PTP Malasya': 'Flex PTP Malasya',\n",
    "    'FLEX-ZHUHAI': 'Flex Zhuhai',\n",
    "    'Flex Zhuhai': 'Flex Zhuhai',\n",
    "    'FOXCONN': 'Foxconn ChongQing',\n",
    "    'Foxconn ChongQing': 'Foxconn ChongQing',\n",
    "    'Jabil Circuit De Chihuahua': 'Jabil Circuit De Chihuahua',\n",
    "    'Jabil Circuit Netherlands BV': 'Jabil Circuit Netherlands BV'\n",
    "}"
   ]
  },
  {
   "cell_type": "code",
   "execution_count": null,
   "metadata": {
    "ExecuteTime": {
     "end_time": "2020-04-24T17:13:27.944732Z",
     "start_time": "2020-04-24T17:13:27.219673Z"
    }
   },
   "outputs": [],
   "source": [
    "df_merged['MPA'] = df_merged['MPA'].map(lambda x: mpa_dict.get(x, x))\n",
    "df_merged.head()"
   ]
  },
  {
   "cell_type": "code",
   "execution_count": null,
   "metadata": {
    "ExecuteTime": {
     "end_time": "2020-04-24T17:13:47.182539Z",
     "start_time": "2020-04-24T17:13:46.482069Z"
    }
   },
   "outputs": [],
   "source": [
    "df_final_por = df_merged[[\n",
    "    'Current Cycle on Display', 'Product Line', 'Platform',\n",
    "    'Planning Part Group', 'Target Location', 'Planning Part', 'MPA', 'region',\n",
    "    'Value', 'YYYYWW', 'Attribute'\n",
    "]]\n",
    "df_final_por"
   ]
  },
  {
   "cell_type": "code",
   "execution_count": null,
   "metadata": {
    "ExecuteTime": {
     "end_time": "2020-04-24T17:13:58.905602Z",
     "start_time": "2020-04-24T17:13:58.577433Z"
    }
   },
   "outputs": [],
   "source": [
    "df_final_por = df_final_por.rename(\n",
    "    columns={\n",
    "        \"Current Cycle on Display\": \"Planning_Wk\",\n",
    "        \"Product Line\": \"Product_Line\",\n",
    "        \"Planning Part Group\": \"Program\",\n",
    "        \"Target Location\": \"Target_Location\",\n",
    "        \"Planning Part\": \"SKU\",\n",
    "        \"Value\": \"Qty\",\n",
    "        \"region\": \"Region\",\n",
    "        \"Attribute\": \"DATES\"\n",
    "    })\n",
    "df_final_por['QtyType'] = 'POR'\n",
    "df_final_por.head()"
   ]
  },
  {
   "cell_type": "markdown",
   "metadata": {},
   "source": [
    "#### Output File"
   ]
  },
  {
   "cell_type": "code",
   "execution_count": null,
   "metadata": {
    "ExecuteTime": {
     "end_time": "2020-04-24T17:15:31.869221Z",
     "start_time": "2020-04-24T17:15:31.864233Z"
    }
   },
   "outputs": [],
   "source": [
    "output = year + '_to_upload.csv'"
   ]
  },
  {
   "cell_type": "code",
   "execution_count": null,
   "metadata": {
    "ExecuteTime": {
     "end_time": "2020-04-24T17:16:04.250080Z",
     "start_time": "2020-04-24T17:15:37.226009Z"
    }
   },
   "outputs": [],
   "source": [
    "df_final_por.to_csv(output, index=False)"
   ]
  },
  {
   "cell_type": "markdown",
   "metadata": {},
   "source": [
    "#### Output to Database"
   ]
  },
  {
   "cell_type": "markdown",
   "metadata": {},
   "source": [
    "**HP Server**"
   ]
  },
  {
   "cell_type": "code",
   "execution_count": null,
   "metadata": {
    "ExecuteTime": {
     "end_time": "2020-04-23T06:50:23.242490Z",
     "start_time": "2020-04-23T06:50:23.238500Z"
    }
   },
   "outputs": [],
   "source": [
    "table = 'POR' + year"
   ]
  },
  {
   "cell_type": "code",
   "execution_count": null,
   "metadata": {
    "ExecuteTime": {
     "end_time": "2020-04-23T06:30:52.854789Z",
     "start_time": "2020-04-23T06:30:51.971895Z"
    }
   },
   "outputs": [],
   "source": [
    "conn = 'DRIVER={ODBC Driver 17 for SQL Server};SERVER=15.46.110.222,1433;DATABASE=POR;UID=Admin;PWD=123789'\n",
    "\n",
    "quoted = quote_plus(conn)\n",
    "new_con = 'mssql+pyodbc:///?odbc_connect={}'.format(quoted)\n",
    "engine = db.create_engine(new_con, fast_executemany=True)\n",
    "\n",
    "connection = engine.connect()\n",
    "\n",
    "table_name = table"
   ]
  },
  {
   "cell_type": "code",
   "execution_count": null,
   "metadata": {
    "ExecuteTime": {
     "end_time": "2020-04-23T06:42:34.365808Z",
     "start_time": "2020-04-23T06:32:26.598298Z"
    }
   },
   "outputs": [],
   "source": [
    "df_final_por.to_sql(table_name,\n",
    "                    engine,\n",
    "                    if_exists='replace',\n",
    "                    chunksize=None,\n",
    "                    index=False,\n",
    "                    dtype={\n",
    "                        'Planning_Wk': db.types.VARCHAR(length=7),\n",
    "                        'MPA': db.types.VARCHAR(length=50),\n",
    "                        'SKU': db.types.VARCHAR(length=50),\n",
    "                        'Program': db.types.VARCHAR(length=50),\n",
    "                        'Platform': db.types.VARCHAR(length=50),\n",
    "                        'Product_Line': db.types.VARCHAR(length=2),\n",
    "                        'Target_Location': db.types.VARCHAR(length=20),\n",
    "                        'YYYYWW': db.types.INTEGER(),\n",
    "                        'Region': db.types.VARCHAR(length=8),\n",
    "                        'Qty': db.types.INTEGER(),\n",
    "                        'QtyType': db.types.VARCHAR(length=4),\n",
    "                        'DATES': db.types.Date\n",
    "                    })\n",
    "print(df_final_por.head())\n",
    "print(df_final_por.shape)"
   ]
  }
 ],
 "metadata": {
  "hide_input": false,
  "jupytext": {
   "formats": "ipynb,md"
  },
  "kernelspec": {
   "display_name": "MJ",
   "language": "python",
   "name": "mj"
  },
  "language_info": {
   "codemirror_mode": {
    "name": "ipython",
    "version": 3
   },
   "file_extension": ".py",
   "mimetype": "text/x-python",
   "name": "python",
   "nbconvert_exporter": "python",
   "pygments_lexer": "ipython3",
   "version": "3.7.5"
  },
  "toc": {
   "base_numbering": 1,
   "nav_menu": {},
   "number_sections": true,
   "sideBar": true,
   "skip_h1_title": true,
   "title_cell": "Table of Contents",
   "title_sidebar": "Contents",
   "toc_cell": false,
   "toc_position": {
    "height": "964.901px",
    "left": "469px",
    "top": "499.406px",
    "width": "188.168px"
   },
   "toc_section_display": true,
   "toc_window_display": true
  }
 },
 "nbformat": 4,
 "nbformat_minor": 4
}
