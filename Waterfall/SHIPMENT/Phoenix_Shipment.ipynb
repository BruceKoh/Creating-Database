{
 "cells": [
  {
   "cell_type": "markdown",
   "metadata": {},
   "source": [
    "<h1><center> SHIPMENT FILE </center></h1>"
   ]
  },
  {
   "cell_type": "code",
   "execution_count": null,
   "metadata": {
    "ExecuteTime": {
     "end_time": "2020-05-18T08:28:08.168126Z",
     "start_time": "2020-05-18T08:28:07.165389Z"
    }
   },
   "outputs": [],
   "source": [
    "import pandas as pd\n",
    "import numpy as np\n",
    "import os\n",
    "import pyodbc\n",
    "import sqlalchemy as db\n",
    "from urllib.parse import quote_plus"
   ]
  },
  {
   "cell_type": "markdown",
   "metadata": {},
   "source": [
    "#### PHOENIX"
   ]
  },
  {
   "cell_type": "code",
   "execution_count": null,
   "metadata": {
    "ExecuteTime": {
     "end_time": "2020-05-18T08:28:08.175248Z",
     "start_time": "2020-05-18T08:28:08.170784Z"
    }
   },
   "outputs": [],
   "source": [
    "path = r'C:\\PHOENIX\\CSV_Files'\n",
    "os.chdir(path)"
   ]
  },
  {
   "cell_type": "code",
   "execution_count": null,
   "metadata": {
    "ExecuteTime": {
     "end_time": "2020-05-18T08:32:39.462181Z",
     "start_time": "2020-05-18T08:31:46.048832Z"
    }
   },
   "outputs": [],
   "source": [
    "phoenix = pd.read_csv('v_Output_Lite.csv',\n",
    "                      encoding=\"ISO-8859-1\", index_col='DATA_ELEMENT', low_memory=False)"
   ]
  },
  {
   "cell_type": "code",
   "execution_count": null,
   "metadata": {
    "ExecuteTime": {
     "end_time": "2020-05-18T08:31:27.568149Z",
     "start_time": "2020-05-18T08:31:27.534422Z"
    }
   },
   "outputs": [],
   "source": [
    "phoenix.head()"
   ]
  },
  {
   "cell_type": "markdown",
   "metadata": {},
   "source": [
    "**Filter Data**"
   ]
  },
  {
   "cell_type": "code",
   "execution_count": null,
   "metadata": {
    "ExecuteTime": {
     "end_time": "2020-05-18T08:32:40.049445Z",
     "start_time": "2020-05-18T08:32:39.471606Z"
    }
   },
   "outputs": [],
   "source": [
    "phoenix_actuals = phoenix.loc['ACTUALS', [\n",
    "    'PLTFRM_NM', 'PLNG_PART_NR', 'REGION_CD', 'MPA_NM', 'CAL_DAY_DT', '#BUILD_ACTUAL_QT']]"
   ]
  },
  {
   "cell_type": "code",
   "execution_count": null,
   "metadata": {
    "ExecuteTime": {
     "end_time": "2020-05-18T08:33:47.714217Z",
     "start_time": "2020-05-18T08:33:47.696855Z"
    }
   },
   "outputs": [],
   "source": [
    "phoenix_actuals.head()"
   ]
  },
  {
   "cell_type": "code",
   "execution_count": null,
   "metadata": {
    "ExecuteTime": {
     "end_time": "2020-05-18T08:33:51.717678Z",
     "start_time": "2020-05-18T08:33:51.612201Z"
    }
   },
   "outputs": [],
   "source": [
    "phoenix_actuals_drop = phoenix_actuals.dropna(\n",
    "    axis=0, subset=['PLTFRM_NM', 'REGION_CD', 'MPA_NM'])"
   ]
  },
  {
   "cell_type": "code",
   "execution_count": null,
   "metadata": {
    "ExecuteTime": {
     "end_time": "2020-05-18T08:33:52.365679Z",
     "start_time": "2020-05-18T08:33:52.347827Z"
    }
   },
   "outputs": [],
   "source": [
    "phoenix_actuals_drop = phoenix_actuals_drop.reset_index()"
   ]
  },
  {
   "cell_type": "code",
   "execution_count": null,
   "metadata": {
    "ExecuteTime": {
     "end_time": "2020-05-18T08:33:53.459948Z",
     "start_time": "2020-05-18T08:33:53.431180Z"
    }
   },
   "outputs": [],
   "source": [
    "phoenix_actuals_drop"
   ]
  },
  {
   "cell_type": "code",
   "execution_count": null,
   "metadata": {
    "ExecuteTime": {
     "end_time": "2020-05-18T08:33:59.531326Z",
     "start_time": "2020-05-18T08:33:59.409217Z"
    }
   },
   "outputs": [],
   "source": [
    "phoenix_filter = phoenix_actuals_drop.loc[(phoenix_actuals_drop['MPA_NM'] == 'DSG Korea') |\n",
    "                                          (phoenix_actuals_drop['MPA_NM'] == 'DSG Vietnam') |\n",
    "                                          (phoenix_actuals_drop['MPA_NM'] == 'NKG Yue Yang') |\n",
    "                                          (phoenix_actuals_drop['MPA_NM'] == 'NKG Thailand') |\n",
    "                                          (phoenix_actuals_drop['MPA_NM'] == 'Unknown MPA') |\n",
    "                                          (phoenix_actuals_drop['MPA_NM'] == 'Foxconn ChongQing') |\n",
    "                                          (phoenix_actuals_drop['MPA_NM'] == 'Flex Zhuhai') |\n",
    "                                          (phoenix_actuals_drop['MPA_NM'] == 'Flex PTP Malasya')]"
   ]
  },
  {
   "cell_type": "code",
   "execution_count": null,
   "metadata": {
    "ExecuteTime": {
     "end_time": "2020-05-18T08:34:00.114500Z",
     "start_time": "2020-05-18T08:34:00.099620Z"
    }
   },
   "outputs": [],
   "source": [
    "phoenix_filter = phoenix_filter.drop(columns={'DATA_ELEMENT'})"
   ]
  },
  {
   "cell_type": "code",
   "execution_count": null,
   "metadata": {
    "ExecuteTime": {
     "end_time": "2020-05-18T08:34:16.731875Z",
     "start_time": "2020-05-18T08:34:00.526553Z"
    }
   },
   "outputs": [],
   "source": [
    "phoenix_filter['CAL_DAY_DT'] = phoenix_filter['CAL_DAY_DT'].apply(\n",
    "    pd.to_datetime)"
   ]
  },
  {
   "cell_type": "code",
   "execution_count": null,
   "metadata": {
    "ExecuteTime": {
     "end_time": "2020-05-18T08:35:07.364694Z",
     "start_time": "2020-05-18T08:35:07.224907Z"
    }
   },
   "outputs": [],
   "source": [
    "phoenix_filter = pd.pivot_table(phoenix_filter, values='#BUILD_ACTUAL_QT',\n",
    "                                index=['PLTFRM_NM', 'PLNG_PART_NR',\n",
    "                                       'REGION_CD', 'MPA_NM', 'CAL_DAY_DT'],\n",
    "                                aggfunc=np.sum).reset_index()"
   ]
  },
  {
   "cell_type": "code",
   "execution_count": null,
   "metadata": {
    "ExecuteTime": {
     "end_time": "2020-05-18T08:35:08.155677Z",
     "start_time": "2020-05-18T08:35:08.123935Z"
    }
   },
   "outputs": [],
   "source": [
    "phoenix_filter"
   ]
  },
  {
   "cell_type": "code",
   "execution_count": null,
   "metadata": {
    "ExecuteTime": {
     "end_time": "2020-05-18T08:35:13.484571Z",
     "start_time": "2020-05-18T08:35:13.133403Z"
    }
   },
   "outputs": [],
   "source": [
    "phoenix_filter['YYYYWW'] = phoenix_filter['CAL_DAY_DT'].apply(lambda x: str(x.isocalendar()[0]) +\n",
    "                                                              str(x.isocalendar()[1] - 1).zfill(2))\n",
    "phoenix_filter['QtyType'] = 'SHIP'\n",
    "\n",
    "phoenix_filter = phoenix_filter.loc[phoenix_filter['#BUILD_ACTUAL_QT'] != 0]"
   ]
  },
  {
   "cell_type": "code",
   "execution_count": null,
   "metadata": {
    "ExecuteTime": {
     "end_time": "2020-05-18T08:45:00.711759Z",
     "start_time": "2020-05-18T08:45:00.695888Z"
    },
    "scrolled": true
   },
   "outputs": [],
   "source": [
    "phoenix_filter.head()"
   ]
  },
  {
   "cell_type": "code",
   "execution_count": null,
   "metadata": {
    "ExecuteTime": {
     "end_time": "2020-05-18T08:35:22.088605Z",
     "start_time": "2020-05-18T08:35:22.079679Z"
    }
   },
   "outputs": [],
   "source": [
    "latest_date = phoenix_filter['CAL_DAY_DT'].max()"
   ]
  },
  {
   "cell_type": "code",
   "execution_count": null,
   "metadata": {
    "ExecuteTime": {
     "end_time": "2020-05-18T08:37:43.418570Z",
     "start_time": "2020-05-18T08:37:43.414601Z"
    }
   },
   "outputs": [],
   "source": [
    "shipment_path = r'C:\\Users\\KohMansf\\Documents\\STAMS\\Waterfall\\Database\\SHIPMENT'\n",
    "os.chdir(shipment_path)"
   ]
  },
  {
   "cell_type": "code",
   "execution_count": null,
   "metadata": {
    "ExecuteTime": {
     "end_time": "2020-05-18T08:37:50.250557Z",
     "start_time": "2020-05-18T08:37:47.357717Z"
    }
   },
   "outputs": [],
   "source": [
    "shipment_read = pd.read_csv('Shipment Data.csv')\n",
    "\n",
    "shipment_read['CAL_DAY_DT'] = shipment_read['CAL_DAY_DT'].apply(pd.to_datetime)"
   ]
  },
  {
   "cell_type": "code",
   "execution_count": null,
   "metadata": {
    "ExecuteTime": {
     "end_time": "2020-05-18T08:38:59.505361Z",
     "start_time": "2020-05-18T08:38:59.469649Z"
    }
   },
   "outputs": [],
   "source": [
    "shipment_read"
   ]
  },
  {
   "cell_type": "markdown",
   "metadata": {},
   "source": [
    "**If phoenix shipment date is later than current shipment data, we update**"
   ]
  },
  {
   "cell_type": "code",
   "execution_count": null,
   "metadata": {
    "ExecuteTime": {
     "end_time": "2020-05-18T08:38:12.937402Z",
     "start_time": "2020-05-18T08:38:12.931450Z"
    }
   },
   "outputs": [],
   "source": [
    "shipment_date = shipment_read['CAL_DAY_DT'].max()\n",
    "if latest_date > shipment_date:\n",
    "    ship_concat = phoenix_filter.loc[phoenix_filter['CAL_DAY_DT']\n",
    "                                     == latest_date]\n",
    "    ship_output = pd.concat([shipment_read, ship_concat])\n",
    "    ship_output.to_csv('Shipment Data.csv', index=False)"
   ]
  },
  {
   "cell_type": "markdown",
   "metadata": {},
   "source": [
    "#### Shipment to database"
   ]
  },
  {
   "cell_type": "markdown",
   "metadata": {},
   "source": [
    "**HP Server**"
   ]
  },
  {
   "cell_type": "code",
   "execution_count": null,
   "metadata": {
    "ExecuteTime": {
     "end_time": "2020-04-27T07:08:53.323195Z",
     "start_time": "2020-04-27T07:08:51.573180Z"
    }
   },
   "outputs": [],
   "source": [
    "conn = \"DRIVER={ODBC Driver 17 for SQL Server};SERVER=15.46.110.222,1433;DATABASE=SHIPMENT;UID=Admin;PWD=123789\"\n",
    "\n",
    "quoted = quote_plus(conn)\n",
    "new_con = 'mssql+pyodbc:///?odbc_connect={}'.format(quoted)\n",
    "engine = db.create_engine(new_con, fast_executemany=True)\n",
    "\n",
    "connection = engine.connect()\n",
    "\n",
    "table_name = 'SHIPMENT'"
   ]
  },
  {
   "cell_type": "code",
   "execution_count": null,
   "metadata": {
    "ExecuteTime": {
     "end_time": "2020-04-27T07:30:16.347703Z",
     "start_time": "2020-04-27T07:29:53.834822Z"
    }
   },
   "outputs": [],
   "source": [
    "shipment_df = pd.read_csv('Shipment Data.csv')\n",
    "col = ['Platform', 'SKU', 'Region', 'MPA', 'DATES', 'Qty', 'YYYYWW', 'QtyType']\n",
    "shipment_df.columns = col\n",
    "shipment_df.to_sql(table_name,\n",
    "                   engine,\n",
    "                   if_exists='replace',\n",
    "                   chunksize=None,\n",
    "                   index=False,\n",
    "                   dtype={\n",
    "                       'SKU': db.types.VARCHAR(length=50),\n",
    "                       'Platform': db.types.VARCHAR(length=50),\n",
    "                       'Region': db.types.VARCHAR(length=50),\n",
    "                       'MPA': db.types.VARCHAR(length=50),\n",
    "                       'DATES': db.types.Date,\n",
    "                       'Qty': db.types.INTEGER(),\n",
    "                       'YYYYWW': db.types.INTEGER(),\n",
    "                       'QtyType': db.types.VARCHAR(length=4)\n",
    "                   })\n",
    "print(shipment_df.head())\n",
    "print(shipment_df.shape)"
   ]
  },
  {
   "cell_type": "code",
   "execution_count": null,
   "metadata": {},
   "outputs": [],
   "source": []
  }
 ],
 "metadata": {
  "hide_input": false,
  "kernelspec": {
   "display_name": "MJF",
   "language": "python",
   "name": "mjf"
  },
  "language_info": {
   "codemirror_mode": {
    "name": "ipython",
    "version": 3
   },
   "file_extension": ".py",
   "mimetype": "text/x-python",
   "name": "python",
   "nbconvert_exporter": "python",
   "pygments_lexer": "ipython3",
   "version": "3.7.5"
  },
  "toc": {
   "base_numbering": 1,
   "nav_menu": {},
   "number_sections": true,
   "sideBar": true,
   "skip_h1_title": true,
   "title_cell": "Table of Contents",
   "title_sidebar": "Contents",
   "toc_cell": false,
   "toc_position": {
    "height": "calc(100% - 180px)",
    "left": "10px",
    "top": "150px",
    "width": "458.182px"
   },
   "toc_section_display": true,
   "toc_window_display": true
  }
 },
 "nbformat": 4,
 "nbformat_minor": 4
}
