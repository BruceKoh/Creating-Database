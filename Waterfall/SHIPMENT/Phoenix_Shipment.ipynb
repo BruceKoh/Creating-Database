{
 "cells": [
  {
   "cell_type": "markdown",
   "metadata": {},
   "source": [
    "<h1><center> SHIPMENT FILE </center></h1>"
   ]
  },
  {
   "cell_type": "code",
   "execution_count": null,
   "metadata": {
    "ExecuteTime": {
     "end_time": "2020-06-09T03:06:59.065751Z",
     "start_time": "2020-06-09T03:06:57.732074Z"
    }
   },
   "outputs": [],
   "source": [
    "import pandas as pd\n",
    "import numpy as np\n",
    "import os\n",
    "import pyodbc\n",
    "import sqlalchemy as db\n",
    "from urllib.parse import quote_plus"
   ]
  },
  {
   "cell_type": "markdown",
   "metadata": {},
   "source": [
    "#### PHOENIX"
   ]
  },
  {
   "cell_type": "code",
   "execution_count": null,
   "metadata": {
    "ExecuteTime": {
     "end_time": "2020-06-09T03:06:59.126278Z",
     "start_time": "2020-06-09T03:06:59.121292Z"
    }
   },
   "outputs": [],
   "source": [
    "path = r'C:\\PHOENIX\\CSV_Files'\n",
    "os.chdir(path)"
   ]
  },
  {
   "cell_type": "code",
   "execution_count": null,
   "metadata": {
    "ExecuteTime": {
     "end_time": "2020-06-09T03:07:59.979802Z",
     "start_time": "2020-06-09T03:06:59.606590Z"
    }
   },
   "outputs": [],
   "source": [
    "phoenix = pd.read_csv('v_Output_Lite.csv',\n",
    "                      encoding=\"ISO-8859-1\", index_col='DATA_ELEMENT', low_memory=False)"
   ]
  },
  {
   "cell_type": "code",
   "execution_count": null,
   "metadata": {
    "ExecuteTime": {
     "end_time": "2020-06-09T03:08:00.063570Z",
     "start_time": "2020-06-09T03:07:59.981789Z"
    }
   },
   "outputs": [],
   "source": [
    "phoenix.head()"
   ]
  },
  {
   "cell_type": "markdown",
   "metadata": {},
   "source": [
    "**Filter Data**"
   ]
  },
  {
   "cell_type": "code",
   "execution_count": null,
   "metadata": {
    "ExecuteTime": {
     "end_time": "2020-06-09T03:08:00.476494Z",
     "start_time": "2020-06-09T03:08:00.068557Z"
    }
   },
   "outputs": [],
   "source": [
    "phoenix_actuals = phoenix.loc['ACTUALS', [\n",
    "    'PLTFRM_NM', 'PLNG_PART_NR', 'REGION_CD', 'MPA_NM', 'CAL_DAY_DT', '#BUILD_ACTUAL_QT']]"
   ]
  },
  {
   "cell_type": "code",
   "execution_count": null,
   "metadata": {
    "ExecuteTime": {
     "end_time": "2020-06-09T03:08:00.502421Z",
     "start_time": "2020-06-09T03:08:00.479483Z"
    }
   },
   "outputs": [],
   "source": [
    "phoenix_actuals.head()"
   ]
  },
  {
   "cell_type": "code",
   "execution_count": null,
   "metadata": {
    "ExecuteTime": {
     "end_time": "2020-06-09T03:08:00.637065Z",
     "start_time": "2020-06-09T03:08:00.506411Z"
    }
   },
   "outputs": [],
   "source": [
    "phoenix_actuals_drop = phoenix_actuals.dropna(\n",
    "    axis=0, subset=['PLTFRM_NM', 'REGION_CD', 'MPA_NM'])"
   ]
  },
  {
   "cell_type": "code",
   "execution_count": null,
   "metadata": {
    "ExecuteTime": {
     "end_time": "2020-06-09T03:08:00.661994Z",
     "start_time": "2020-06-09T03:08:00.640051Z"
    }
   },
   "outputs": [],
   "source": [
    "phoenix_actuals_drop = phoenix_actuals_drop.reset_index()"
   ]
  },
  {
   "cell_type": "code",
   "execution_count": null,
   "metadata": {
    "ExecuteTime": {
     "end_time": "2020-06-09T03:08:00.698894Z",
     "start_time": "2020-06-09T03:08:00.665983Z"
    }
   },
   "outputs": [],
   "source": [
    "phoenix_actuals_drop"
   ]
  },
  {
   "cell_type": "code",
   "execution_count": null,
   "metadata": {
    "ExecuteTime": {
     "end_time": "2020-06-09T03:08:00.897362Z",
     "start_time": "2020-06-09T03:08:00.707872Z"
    }
   },
   "outputs": [],
   "source": [
    "phoenix_filter = phoenix_actuals_drop.loc[(phoenix_actuals_drop['MPA_NM'] == 'DSG Korea') |\n",
    "                                          (phoenix_actuals_drop['MPA_NM'] == 'DSG Vietnam') |\n",
    "                                          (phoenix_actuals_drop['MPA_NM'] == 'NKG Yue Yang') |\n",
    "                                          (phoenix_actuals_drop['MPA_NM'] == 'NKG Thailand') |\n",
    "                                          (phoenix_actuals_drop['MPA_NM'] == 'Unknown MPA') |\n",
    "                                          (phoenix_actuals_drop['MPA_NM'] == 'Foxconn ChongQing') |\n",
    "                                          (phoenix_actuals_drop['MPA_NM'] == 'Flex Zhuhai') |\n",
    "                                          (phoenix_actuals_drop['MPA_NM'] == 'Flex PTP Malasya')]"
   ]
  },
  {
   "cell_type": "code",
   "execution_count": null,
   "metadata": {
    "ExecuteTime": {
     "end_time": "2020-06-09T03:08:00.927283Z",
     "start_time": "2020-06-09T03:08:00.903348Z"
    }
   },
   "outputs": [],
   "source": [
    "phoenix_filter = phoenix_filter.drop(columns={'DATA_ELEMENT'})"
   ]
  },
  {
   "cell_type": "code",
   "execution_count": null,
   "metadata": {
    "ExecuteTime": {
     "end_time": "2020-06-09T03:08:35.149917Z",
     "start_time": "2020-06-09T03:08:00.931273Z"
    }
   },
   "outputs": [],
   "source": [
    "phoenix_filter['CAL_DAY_DT'] = phoenix_filter['CAL_DAY_DT'].apply(\n",
    "    pd.to_datetime)"
   ]
  },
  {
   "cell_type": "code",
   "execution_count": null,
   "metadata": {
    "ExecuteTime": {
     "end_time": "2020-06-09T03:08:35.387282Z",
     "start_time": "2020-06-09T03:08:35.152909Z"
    }
   },
   "outputs": [],
   "source": [
    "phoenix_filter = pd.pivot_table(phoenix_filter, values='#BUILD_ACTUAL_QT',\n",
    "                                index=['PLTFRM_NM', 'PLNG_PART_NR',\n",
    "                                       'REGION_CD', 'MPA_NM', 'CAL_DAY_DT'],\n",
    "                                aggfunc=np.sum).reset_index()"
   ]
  },
  {
   "cell_type": "code",
   "execution_count": null,
   "metadata": {
    "ExecuteTime": {
     "end_time": "2020-06-09T03:08:35.419197Z",
     "start_time": "2020-06-09T03:08:35.389277Z"
    }
   },
   "outputs": [],
   "source": [
    "phoenix_filter"
   ]
  },
  {
   "cell_type": "code",
   "execution_count": null,
   "metadata": {
    "ExecuteTime": {
     "end_time": "2020-06-09T03:08:35.875974Z",
     "start_time": "2020-06-09T03:08:35.425182Z"
    }
   },
   "outputs": [],
   "source": [
    "phoenix_filter['YYYYWW'] = phoenix_filter['CAL_DAY_DT'].apply(lambda x: str(x.isocalendar()[0]) +\n",
    "                                                              str(x.isocalendar()[1] - 1).zfill(2))\n",
    "phoenix_filter['QtyType'] = 'SHIP'\n",
    "\n",
    "phoenix_filter = phoenix_filter.loc[phoenix_filter['#BUILD_ACTUAL_QT'] != 0]"
   ]
  },
  {
   "cell_type": "code",
   "execution_count": null,
   "metadata": {
    "ExecuteTime": {
     "end_time": "2020-06-09T03:08:35.923846Z",
     "start_time": "2020-06-09T03:08:35.878965Z"
    },
    "scrolled": true
   },
   "outputs": [],
   "source": [
    "phoenix_filter.head()"
   ]
  },
  {
   "cell_type": "code",
   "execution_count": null,
   "metadata": {
    "ExecuteTime": {
     "end_time": "2020-06-09T03:08:35.959749Z",
     "start_time": "2020-06-09T03:08:35.927836Z"
    }
   },
   "outputs": [],
   "source": [
    "latest_date = phoenix_filter['CAL_DAY_DT'].max()"
   ]
  },
  {
   "cell_type": "code",
   "execution_count": null,
   "metadata": {
    "ExecuteTime": {
     "end_time": "2020-06-09T03:08:36.004154Z",
     "start_time": "2020-06-09T03:08:35.964736Z"
    }
   },
   "outputs": [],
   "source": [
    "shipment_path = r'C:\\Users\\KohMansf\\Documents\\STAMS\\Waterfall\\Database\\SHIPMENT'\n",
    "os.chdir(shipment_path)"
   ]
  },
  {
   "cell_type": "code",
   "execution_count": null,
   "metadata": {
    "ExecuteTime": {
     "end_time": "2020-06-09T03:08:42.485102Z",
     "start_time": "2020-06-09T03:08:36.008133Z"
    }
   },
   "outputs": [],
   "source": [
    "shipment_read = pd.read_csv('Shipment Data.csv')\n",
    "\n",
    "shipment_read['CAL_DAY_DT'] = shipment_read['CAL_DAY_DT'].apply(pd.to_datetime)"
   ]
  },
  {
   "cell_type": "code",
   "execution_count": null,
   "metadata": {
    "ExecuteTime": {
     "end_time": "2020-06-09T03:08:42.533960Z",
     "start_time": "2020-06-09T03:08:42.488083Z"
    }
   },
   "outputs": [],
   "source": [
    "shipment_read"
   ]
  },
  {
   "cell_type": "markdown",
   "metadata": {},
   "source": [
    "**If phoenix shipment date is later than current shipment data, we update**"
   ]
  },
  {
   "cell_type": "code",
   "execution_count": null,
   "metadata": {
    "ExecuteTime": {
     "end_time": "2020-06-09T03:08:52.237290Z",
     "start_time": "2020-06-09T03:08:51.738688Z"
    }
   },
   "outputs": [],
   "source": [
    "shipment_date = shipment_read['CAL_DAY_DT'].max()\n",
    "if latest_date > shipment_date:\n",
    "    ship_concat = phoenix_filter.loc[phoenix_filter['CAL_DAY_DT']\n",
    "                                     == latest_date]\n",
    "    ship_output = pd.concat([shipment_read, ship_concat])\n",
    "    ship_output.to_csv('Shipment Data.csv', index=False)"
   ]
  },
  {
   "cell_type": "markdown",
   "metadata": {},
   "source": [
    "#### Shipment to database"
   ]
  },
  {
   "cell_type": "markdown",
   "metadata": {},
   "source": [
    "**HP Server**"
   ]
  },
  {
   "cell_type": "code",
   "execution_count": null,
   "metadata": {
    "ExecuteTime": {
     "end_time": "2020-04-27T07:08:53.323195Z",
     "start_time": "2020-04-27T07:08:51.573180Z"
    }
   },
   "outputs": [],
   "source": [
    "conn = \"DRIVER={ODBC Driver 17 for SQL Server};SERVER=15.46.110.222,1433;DATABASE=SHIPMENT;UID=Admin;PWD=123789\"\n",
    "\n",
    "quoted = quote_plus(conn)\n",
    "new_con = 'mssql+pyodbc:///?odbc_connect={}'.format(quoted)\n",
    "engine = db.create_engine(new_con, fast_executemany=True)\n",
    "\n",
    "connection = engine.connect()\n",
    "\n",
    "table_name = 'SHIPMENT'"
   ]
  },
  {
   "cell_type": "code",
   "execution_count": null,
   "metadata": {
    "ExecuteTime": {
     "end_time": "2020-04-27T07:30:16.347703Z",
     "start_time": "2020-04-27T07:29:53.834822Z"
    }
   },
   "outputs": [],
   "source": [
    "shipment_df = pd.read_csv('Shipment Data.csv')\n",
    "col = ['Platform', 'SKU', 'Region', 'MPA', 'DATES', 'Qty', 'YYYYWW', 'QtyType']\n",
    "shipment_df.columns = col\n",
    "shipment_df.to_sql(table_name,\n",
    "                   engine,\n",
    "                   if_exists='replace',\n",
    "                   chunksize=None,\n",
    "                   index=False,\n",
    "                   dtype={\n",
    "                       'SKU': db.types.VARCHAR(length=50),\n",
    "                       'Platform': db.types.VARCHAR(length=50),\n",
    "                       'Region': db.types.VARCHAR(length=50),\n",
    "                       'MPA': db.types.VARCHAR(length=50),\n",
    "                       'DATES': db.types.Date,\n",
    "                       'Qty': db.types.INTEGER(),\n",
    "                       'YYYYWW': db.types.INTEGER(),\n",
    "                       'QtyType': db.types.VARCHAR(length=4)\n",
    "                   })\n",
    "print(shipment_df.head())\n",
    "print(shipment_df.shape)"
   ]
  },
  {
   "cell_type": "code",
   "execution_count": null,
   "metadata": {},
   "outputs": [],
   "source": []
  }
 ],
 "metadata": {
  "hide_input": false,
  "kernelspec": {
   "display_name": "MJF",
   "language": "python",
   "name": "mjf"
  },
  "language_info": {
   "codemirror_mode": {
    "name": "ipython",
    "version": 3
   },
   "file_extension": ".py",
   "mimetype": "text/x-python",
   "name": "python",
   "nbconvert_exporter": "python",
   "pygments_lexer": "ipython3",
   "version": "3.7.7"
  },
  "toc": {
   "base_numbering": 1,
   "nav_menu": {},
   "number_sections": true,
   "sideBar": true,
   "skip_h1_title": true,
   "title_cell": "Table of Contents",
   "title_sidebar": "Contents",
   "toc_cell": false,
   "toc_position": {
    "height": "calc(100% - 180px)",
    "left": "10px",
    "top": "150px",
    "width": "458.182px"
   },
   "toc_section_display": true,
   "toc_window_display": true
  }
 },
 "nbformat": 4,
 "nbformat_minor": 4
}
