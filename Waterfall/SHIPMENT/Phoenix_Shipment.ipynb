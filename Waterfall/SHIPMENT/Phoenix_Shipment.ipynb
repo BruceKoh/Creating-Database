{
 "cells": [
  {
   "cell_type": "markdown",
   "metadata": {},
   "source": [
    "<h1><center> SHIPMENT FILE </center></h1>"
   ]
  },
  {
   "cell_type": "code",
   "execution_count": null,
   "metadata": {
    "ExecuteTime": {
     "end_time": "2020-04-27T07:04:53.399355Z",
     "start_time": "2020-04-27T07:04:52.124695Z"
    }
   },
   "outputs": [],
   "source": [
    "import pandas as pd\n",
    "import numpy as np\n",
    "import os\n",
    "import pyodbc\n",
    "import sqlalchemy as db\n",
    "from urllib.parse import quote_plus"
   ]
  },
  {
   "cell_type": "markdown",
   "metadata": {},
   "source": [
    "#### PHOENIX"
   ]
  },
  {
   "cell_type": "code",
   "execution_count": null,
   "metadata": {
    "ExecuteTime": {
     "end_time": "2020-04-27T06:56:08.827523Z",
     "start_time": "2020-04-27T06:56:08.820544Z"
    }
   },
   "outputs": [],
   "source": [
    "path = r'C:\\PHOENIX\\CSV_Files'\n",
    "os.chdir(path)"
   ]
  },
  {
   "cell_type": "code",
   "execution_count": null,
   "metadata": {
    "ExecuteTime": {
     "end_time": "2020-04-27T06:57:09.454241Z",
     "start_time": "2020-04-27T06:56:09.342801Z"
    }
   },
   "outputs": [],
   "source": [
    "phoenix = pd.read_csv('v_Output_Lite.csv',\n",
    "                      encoding=\"ISO-8859-1\", index_col='DATA_ELEMENT')"
   ]
  },
  {
   "cell_type": "code",
   "execution_count": null,
   "metadata": {
    "ExecuteTime": {
     "end_time": "2020-04-27T06:57:12.887698Z",
     "start_time": "2020-04-27T06:57:12.781981Z"
    }
   },
   "outputs": [],
   "source": [
    "phoenix.head()"
   ]
  },
  {
   "cell_type": "markdown",
   "metadata": {},
   "source": [
    "**Filter Data**"
   ]
  },
  {
   "cell_type": "code",
   "execution_count": null,
   "metadata": {
    "ExecuteTime": {
     "end_time": "2020-04-27T06:57:16.701313Z",
     "start_time": "2020-04-27T06:57:16.370916Z"
    }
   },
   "outputs": [],
   "source": [
    "phoenix_actuals = phoenix.loc['ACTUALS', [\n",
    "    'PLTFRM_NM', 'PLNG_PART_NR', 'REGION_CD', 'MPA_NM', 'CAL_DAY_DT', '#BUILD_ACTUAL_QT']]"
   ]
  },
  {
   "cell_type": "code",
   "execution_count": null,
   "metadata": {
    "ExecuteTime": {
     "end_time": "2020-04-27T06:57:17.431412Z",
     "start_time": "2020-04-27T06:57:17.411465Z"
    }
   },
   "outputs": [],
   "source": [
    "phoenix_actuals.head()"
   ]
  },
  {
   "cell_type": "code",
   "execution_count": null,
   "metadata": {
    "ExecuteTime": {
     "end_time": "2020-04-27T06:57:26.720738Z",
     "start_time": "2020-04-27T06:57:26.611514Z"
    }
   },
   "outputs": [],
   "source": [
    "phoenix_actuals_drop = phoenix_actuals.dropna(\n",
    "    axis=0, subset=['PLTFRM_NM', 'REGION_CD', 'MPA_NM'])"
   ]
  },
  {
   "cell_type": "code",
   "execution_count": null,
   "metadata": {
    "ExecuteTime": {
     "end_time": "2020-04-27T06:57:28.540131Z",
     "start_time": "2020-04-27T06:57:28.522178Z"
    }
   },
   "outputs": [],
   "source": [
    "phoenix_actuals_drop = phoenix_actuals_drop.reset_index()"
   ]
  },
  {
   "cell_type": "code",
   "execution_count": null,
   "metadata": {
    "ExecuteTime": {
     "end_time": "2020-04-27T06:57:29.413493Z",
     "start_time": "2020-04-27T06:57:29.386567Z"
    }
   },
   "outputs": [],
   "source": [
    "phoenix_actuals_drop"
   ]
  },
  {
   "cell_type": "code",
   "execution_count": null,
   "metadata": {
    "ExecuteTime": {
     "end_time": "2020-04-27T06:57:32.208947Z",
     "start_time": "2020-04-27T06:57:32.090933Z"
    }
   },
   "outputs": [],
   "source": [
    "phoenix_filter = phoenix_actuals_drop.loc[(phoenix_actuals_drop['MPA_NM'] == 'DSG Korea') |\n",
    "                                          (phoenix_actuals_drop['MPA_NM'] == 'DSG Vietnam') |\n",
    "                                          (phoenix_actuals_drop['MPA_NM'] == 'NKG Yue Yang') |\n",
    "                                          (phoenix_actuals_drop['MPA_NM'] == 'NKG Thailand') |\n",
    "                                          (phoenix_actuals_drop['MPA_NM'] == 'Unknown MPA') |\n",
    "                                          (phoenix_actuals_drop['MPA_NM'] == 'Foxconn ChongQing') |\n",
    "                                          (phoenix_actuals_drop['MPA_NM'] == 'Flex Zhuhai') |\n",
    "                                          (phoenix_actuals_drop['MPA_NM'] == 'Flex PTP Malasya')]"
   ]
  },
  {
   "cell_type": "code",
   "execution_count": null,
   "metadata": {
    "ExecuteTime": {
     "end_time": "2020-04-27T06:57:32.543133Z",
     "start_time": "2020-04-27T06:57:32.533155Z"
    }
   },
   "outputs": [],
   "source": [
    "phoenix_filter = phoenix_filter.drop(columns={'DATA_ELEMENT'})"
   ]
  },
  {
   "cell_type": "code",
   "execution_count": null,
   "metadata": {
    "ExecuteTime": {
     "end_time": "2020-04-27T06:57:39.070195Z",
     "start_time": "2020-04-27T06:57:32.981075Z"
    }
   },
   "outputs": [],
   "source": [
    "phoenix_filter['CAL_DAY_DT'] = phoenix_filter['CAL_DAY_DT'].apply(\n",
    "    pd.to_datetime)"
   ]
  },
  {
   "cell_type": "code",
   "execution_count": null,
   "metadata": {
    "ExecuteTime": {
     "end_time": "2020-04-27T06:57:39.148947Z",
     "start_time": "2020-04-27T06:57:39.073123Z"
    }
   },
   "outputs": [],
   "source": [
    "phoenix_filter = pd.pivot_table(phoenix_filter, values='#BUILD_ACTUAL_QT',\n",
    "                                index=['PLTFRM_NM', 'PLNG_PART_NR',\n",
    "                                       'REGION_CD', 'MPA_NM', 'CAL_DAY_DT'],\n",
    "                                aggfunc=np.sum).reset_index()"
   ]
  },
  {
   "cell_type": "code",
   "execution_count": null,
   "metadata": {
    "ExecuteTime": {
     "end_time": "2020-04-27T06:57:39.184824Z",
     "start_time": "2020-04-27T06:57:39.152909Z"
    }
   },
   "outputs": [],
   "source": [
    "phoenix_filter"
   ]
  },
  {
   "cell_type": "code",
   "execution_count": null,
   "metadata": {
    "ExecuteTime": {
     "end_time": "2020-04-27T06:57:48.834391Z",
     "start_time": "2020-04-27T06:57:48.674676Z"
    }
   },
   "outputs": [],
   "source": [
    "phoenix_filter['YYYYWW'] = phoenix_filter['CAL_DAY_DT'].apply(lambda x: str(x.isocalendar()[0]) +\n",
    "                                                              str(x.isocalendar()[1] - 1).zfill(2))\n",
    "phoenix_filter['QtyType'] = 'SHIP'"
   ]
  },
  {
   "cell_type": "code",
   "execution_count": null,
   "metadata": {
    "ExecuteTime": {
     "end_time": "2020-04-27T06:57:49.508043Z",
     "start_time": "2020-04-27T06:57:49.474132Z"
    },
    "scrolled": true
   },
   "outputs": [],
   "source": [
    "phoenix_filter"
   ]
  },
  {
   "cell_type": "code",
   "execution_count": null,
   "metadata": {
    "ExecuteTime": {
     "end_time": "2020-04-27T06:58:07.212380Z",
     "start_time": "2020-04-27T06:58:07.204406Z"
    }
   },
   "outputs": [],
   "source": [
    "latest_date = phoenix_filter['CAL_DAY_DT'].max()"
   ]
  },
  {
   "cell_type": "code",
   "execution_count": null,
   "metadata": {
    "ExecuteTime": {
     "end_time": "2020-04-27T07:00:03.784432Z",
     "start_time": "2020-04-27T07:00:03.779445Z"
    }
   },
   "outputs": [],
   "source": [
    "shipment_path = r'C:\\Users\\KohMansf\\Documents\\STAMS_FILES\\Waterfall\\Automation\\Database\\SHIPMENT'\n",
    "os.chdir(shipment_path)"
   ]
  },
  {
   "cell_type": "code",
   "execution_count": null,
   "metadata": {
    "ExecuteTime": {
     "end_time": "2020-04-27T07:00:10.339882Z",
     "start_time": "2020-04-27T07:00:06.937750Z"
    }
   },
   "outputs": [],
   "source": [
    "shipment_read = pd.read_csv('Shipment Data.csv')\n",
    "\n",
    "shipment_read['CAL_DAY_DT'] = shipment_read['CAL_DAY_DT'].apply(pd.to_datetime)"
   ]
  },
  {
   "cell_type": "markdown",
   "metadata": {},
   "source": [
    "**If phoenix shipment date is later than current shipment data, we update**"
   ]
  },
  {
   "cell_type": "code",
   "execution_count": null,
   "metadata": {
    "ExecuteTime": {
     "end_time": "2020-04-27T07:00:10.350788Z",
     "start_time": "2020-04-27T07:00:10.342811Z"
    }
   },
   "outputs": [],
   "source": [
    "shipment_date = shipment_read['CAL_DAY_DT'].max()\n",
    "if latest_date > shipment_date:\n",
    "    ship_concat = phoenix_filter.loc[phoenix_filter['CAL_DAY_DT']\n",
    "                                     == latest_date]\n",
    "    ship_output = pd.concat([shipment_read, ship_concat])\n",
    "    ship_output.to_csv('Shipment Data.csv', index=False)"
   ]
  },
  {
   "cell_type": "markdown",
   "metadata": {},
   "source": [
    "#### Shipment to database"
   ]
  },
  {
   "cell_type": "markdown",
   "metadata": {},
   "source": [
    "**HP Server**"
   ]
  },
  {
   "cell_type": "code",
   "execution_count": null,
   "metadata": {
    "ExecuteTime": {
     "end_time": "2020-04-27T07:08:53.323195Z",
     "start_time": "2020-04-27T07:08:51.573180Z"
    }
   },
   "outputs": [],
   "source": [
    "conn = \"DRIVER={ODBC Driver 17 for SQL Server};SERVER=15.46.110.222,1433;DATABASE=SHIPMENT;UID=Admin;PWD=123789\"\n",
    "\n",
    "quoted = quote_plus(conn)\n",
    "new_con = 'mssql+pyodbc:///?odbc_connect={}'.format(quoted)\n",
    "engine = db.create_engine(new_con, fast_executemany=True)\n",
    "\n",
    "connection = engine.connect()\n",
    "\n",
    "table_name = 'SHIPMENT'"
   ]
  },
  {
   "cell_type": "code",
   "execution_count": null,
   "metadata": {
    "ExecuteTime": {
     "end_time": "2020-04-27T07:30:16.347703Z",
     "start_time": "2020-04-27T07:29:53.834822Z"
    }
   },
   "outputs": [],
   "source": [
    "shipment_df = pd.read_csv('Shipment Data.csv')\n",
    "col = ['Platform','SKU','Region','MPA','DATES','Qty','YYYYWW','QtyType']\n",
    "shipment_df.columns = col\n",
    "shipment_df.to_sql(table_name,\n",
    "                   engine,\n",
    "                   if_exists='replace',\n",
    "                   chunksize=None,\n",
    "                   index=False,\n",
    "                   dtype={\n",
    "                       'SKU': db.types.VARCHAR(length=50),\n",
    "                       'Platform': db.types.VARCHAR(length=50),\n",
    "                       'Region': db.types.VARCHAR(length=50),\n",
    "                       'MPA': db.types.VARCHAR(length=50),\n",
    "                       'DATES': db.types.Date,\n",
    "                       'Qty': db.types.INTEGER(),\n",
    "                       'YYYYWW': db.types.INTEGER(),\n",
    "                       'QtyType': db.types.VARCHAR(length=4)\n",
    "                   })\n",
    "print(shipment_df.head())\n",
    "print(shipment_df.shape)"
   ]
  },
  {
   "cell_type": "code",
   "execution_count": null,
   "metadata": {},
   "outputs": [],
   "source": []
  }
 ],
 "metadata": {
  "hide_input": false,
  "kernelspec": {
   "display_name": "MJF",
   "language": "python",
   "name": "mjf"
  },
  "language_info": {
   "codemirror_mode": {
    "name": "ipython",
    "version": 3
   },
   "file_extension": ".py",
   "mimetype": "text/x-python",
   "name": "python",
   "nbconvert_exporter": "python",
   "pygments_lexer": "ipython3",
   "version": "3.7.5"
  },
  "toc": {
   "base_numbering": 1,
   "nav_menu": {},
   "number_sections": true,
   "sideBar": true,
   "skip_h1_title": true,
   "title_cell": "Table of Contents",
   "title_sidebar": "Contents",
   "toc_cell": false,
   "toc_position": {
    "height": "calc(100% - 180px)",
    "left": "10px",
    "top": "150px",
    "width": "458.182px"
   },
   "toc_section_display": true,
   "toc_window_display": true
  }
 },
 "nbformat": 4,
 "nbformat_minor": 4
}
