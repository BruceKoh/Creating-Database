{
 "cells": [
  {
   "cell_type": "markdown",
   "metadata": {},
   "source": [
    "# Shipment File"
   ]
  },
  {
   "cell_type": "code",
   "execution_count": null,
   "metadata": {
    "ExecuteTime": {
     "end_time": "2020-02-04T06:25:24.174754Z",
     "start_time": "2020-02-04T06:25:01.882723Z"
    }
   },
   "outputs": [],
   "source": [
    "import datetime as dt\n",
    "import pandas as pd\n",
    "import time\n",
    "df = pd.read_excel('Shipment_File.xlsx', sheet_name='Sheet2')"
   ]
  },
  {
   "cell_type": "markdown",
   "metadata": {},
   "source": [
    "# Cleaning Data"
   ]
  },
  {
   "cell_type": "markdown",
   "metadata": {},
   "source": [
    "**Filling blanks (ISO_WK_NR) with actual week number. In this case [WkDate 43374] = [ISO_WK_NR 40]. Fill in XX at code .fillna(XX) with actual week number**"
   ]
  },
  {
   "cell_type": "code",
   "execution_count": null,
   "metadata": {
    "ExecuteTime": {
     "end_time": "2020-02-04T06:25:24.202617Z",
     "start_time": "2020-02-04T06:25:24.176682Z"
    }
   },
   "outputs": [],
   "source": [
    "df['ISO_WK_NR'] = df['ISO_WK_NR'].fillna(40)\n",
    "df['ISO_WK_NR'] = df['ISO_WK_NR'].astype(int)"
   ]
  },
  {
   "cell_type": "markdown",
   "metadata": {},
   "source": [
    "**Subtracting 1 from ISO_WK_NR then replacing week 0 with week 52**"
   ]
  },
  {
   "cell_type": "code",
   "execution_count": null,
   "metadata": {
    "ExecuteTime": {
     "end_time": "2020-02-04T06:25:24.229544Z",
     "start_time": "2020-02-04T06:25:24.206600Z"
    }
   },
   "outputs": [],
   "source": [
    "df['ISO_WK_NR'] = df['ISO_WK_NR'] - 1\n",
    "df['ISO_WK_NR'] = df['ISO_WK_NR'].replace(0, 52)"
   ]
  },
  {
   "cell_type": "markdown",
   "metadata": {},
   "source": [
    "**Creating Year**"
   ]
  },
  {
   "cell_type": "code",
   "execution_count": null,
   "metadata": {
    "ExecuteTime": {
     "end_time": "2020-02-04T06:25:24.290083Z",
     "start_time": "2020-02-04T06:25:24.262154Z"
    }
   },
   "outputs": [],
   "source": [
    "df['Year'] = pd.TimedeltaIndex(\n",
    "    df['WkDate'], unit='d') + dt.datetime(1899, 12, 30)\n",
    "\n",
    "df['Year'] = df['Year'].dt.year"
   ]
  },
  {
   "cell_type": "markdown",
   "metadata": {},
   "source": [
    "**Creating Planning_Week**"
   ]
  },
  {
   "cell_type": "code",
   "execution_count": null,
   "metadata": {
    "ExecuteTime": {
     "end_time": "2020-02-04T06:25:29.870675Z",
     "start_time": "2020-02-04T06:25:27.553413Z"
    }
   },
   "outputs": [],
   "source": [
    "df[['Year', 'ISO_WK_NR']] = df[[\n",
    "    'Year', 'ISO_WK_NR']].astype('str')\n",
    "df['Planning_Wk'] = df[['Year', 'ISO_WK_NR']].apply(\n",
    "    lambda x: 'W'.join(x), axis=1)"
   ]
  },
  {
   "cell_type": "code",
   "execution_count": null,
   "metadata": {
    "ExecuteTime": {
     "end_time": "2020-02-04T06:25:30.433911Z",
     "start_time": "2020-02-04T06:25:30.414961Z"
    }
   },
   "outputs": [],
   "source": [
    "df"
   ]
  },
  {
   "cell_type": "markdown",
   "metadata": {},
   "source": [
    "**Map Region base on Target Location (Using Original File) , fill blanks with Region column if cannot map on Original File**"
   ]
  },
  {
   "cell_type": "code",
   "execution_count": null,
   "metadata": {
    "ExecuteTime": {
     "end_time": "2020-02-04T06:25:35.060843Z",
     "start_time": "2020-02-04T06:25:35.054859Z"
    }
   },
   "outputs": [],
   "source": [
    "region_dict = {'D735': 'NA', 'D795': 'NA', 'DV02LM': 'NA', 'DHNLLM': 'EMEA', 'N8LC': 'EMEA', '01CR': 'EMEA',\n",
    "               'N8DB': 'EMEA', '01CT': 'EMEA', '01DQ': 'EMEA', '01BM': 'EMEA', 'B301': 'LA', 'H501': 'LA',\n",
    "               'DV02': 'LA', 'H503': 'LA', 'H5V1': 'LA', 'N101': 'LA', 'Z402': 'LA', 'H415': 'APJ',\n",
    "               'H416': 'APJ', 'WW': 'Region'}"
   ]
  },
  {
   "cell_type": "code",
   "execution_count": null,
   "metadata": {
    "ExecuteTime": {
     "end_time": "2020-02-04T06:25:35.802582Z",
     "start_time": "2020-02-04T06:25:35.746732Z"
    }
   },
   "outputs": [],
   "source": [
    "df['Region_Ori'] = df['Target Location'].map(region_dict)\n",
    "\n",
    "df['Region_Ori'] = df['Region_Ori'].fillna(df['Region'])\n",
    "\n",
    "df"
   ]
  },
  {
   "cell_type": "markdown",
   "metadata": {},
   "source": [
    "**Creating Primary Key**"
   ]
  },
  {
   "cell_type": "code",
   "execution_count": null,
   "metadata": {
    "ExecuteTime": {
     "end_time": "2020-02-04T06:25:39.396879Z",
     "start_time": "2020-02-04T06:25:39.170178Z"
    }
   },
   "outputs": [],
   "source": [
    "# Change to FK From PK\n",
    "df[['Region_Ori', 'SKU', 'WkDate', 'Planning_Wk']] = df[[\n",
    "    'Region_Ori', 'SKU', 'WkDate', 'Planning_Wk']].astype('str')\n",
    "\n",
    "df['FK'] = df['Region_Ori'] + df['SKU'] + df['WkDate'] + df['Planning_Wk']"
   ]
  },
  {
   "cell_type": "markdown",
   "metadata": {},
   "source": [
    "**Drop irrelevant columns**"
   ]
  },
  {
   "cell_type": "code",
   "execution_count": null,
   "metadata": {
    "ExecuteTime": {
     "end_time": "2020-02-04T06:25:42.028848Z",
     "start_time": "2020-02-04T06:25:41.956998Z"
    },
    "scrolled": true
   },
   "outputs": [],
   "source": [
    "df = df.drop(columns=['Year', 'Region'])\n",
    "\n",
    "df"
   ]
  },
  {
   "cell_type": "markdown",
   "metadata": {},
   "source": [
    "# POR File"
   ]
  },
  {
   "cell_type": "markdown",
   "metadata": {},
   "source": [
    "**Map SKU of Shipment File to MPA**"
   ]
  },
  {
   "cell_type": "code",
   "execution_count": null,
   "metadata": {
    "ExecuteTime": {
     "end_time": "2020-02-04T06:25:57.230135Z",
     "start_time": "2020-02-04T06:25:48.178899Z"
    },
    "scrolled": false
   },
   "outputs": [],
   "source": [
    "por_df = pd.read_csv(\n",
    "    r'C:\\Users\\KohMansf\\Desktop\\MJ Projects\\All Files\\Waterfall\\2019POR\\2019_to_upload.csv', sep=',', dtype={'PK': str, 'Planning_Wk': str,\n",
    "                                                                                                       'MPA': str, 'SKU': str, 'Program': str,\n",
    "                                                                                                       'Platform': str, 'Product_Line': str,\n",
    "                                                                                                       'Target_Location': str, 'WkDate': str,\n",
    "                                                                                                       'YYYYWW': str, 'Region': str,\n",
    "                                                                                                       'Qty': int, 'FK': str, 'QtyType': str},\n",
    "    na_filter=False)\n",
    "por_df"
   ]
  },
  {
   "cell_type": "code",
   "execution_count": null,
   "metadata": {
    "ExecuteTime": {
     "end_time": "2020-02-04T06:25:57.799640Z",
     "start_time": "2020-02-04T06:25:57.232121Z"
    }
   },
   "outputs": [],
   "source": [
    "dfskumpa = por_df.groupby(['SKU', 'MPA'])['Qty'].sum().reset_index()\n",
    "dfskumpa"
   ]
  },
  {
   "cell_type": "code",
   "execution_count": null,
   "metadata": {
    "ExecuteTime": {
     "end_time": "2020-02-04T06:25:57.827530Z",
     "start_time": "2020-02-04T06:25:57.802595Z"
    }
   },
   "outputs": [],
   "source": [
    "mydict = pd.Series(dfskumpa.MPA.values, index=dfskumpa.SKU).to_dict()\n",
    "\n",
    "mydict"
   ]
  },
  {
   "cell_type": "code",
   "execution_count": null,
   "metadata": {
    "ExecuteTime": {
     "end_time": "2020-02-04T06:25:57.862436Z",
     "start_time": "2020-02-04T06:25:57.829522Z"
    }
   },
   "outputs": [],
   "source": [
    "df['MPA'] = df['SKU'].map(mydict)"
   ]
  },
  {
   "cell_type": "code",
   "execution_count": null,
   "metadata": {
    "ExecuteTime": {
     "end_time": "2020-02-04T06:25:57.884376Z",
     "start_time": "2020-02-04T06:25:57.864429Z"
    }
   },
   "outputs": [],
   "source": [
    "df"
   ]
  },
  {
   "cell_type": "markdown",
   "metadata": {},
   "source": [
    "# Duplicates"
   ]
  },
  {
   "cell_type": "code",
   "execution_count": null,
   "metadata": {
    "ExecuteTime": {
     "end_time": "2020-01-17T08:13:23.120050Z",
     "start_time": "2020-01-17T08:13:23.117058Z"
    }
   },
   "outputs": [],
   "source": [
    "# duplicatedRowsDF = df[df.duplicated('PK')]\n",
    "\n",
    "# duplicatedRowsDF"
   ]
  },
  {
   "cell_type": "code",
   "execution_count": null,
   "metadata": {
    "ExecuteTime": {
     "end_time": "2020-01-17T08:13:23.135010Z",
     "start_time": "2020-01-17T08:13:23.122044Z"
    }
   },
   "outputs": [],
   "source": [
    "# dropdf = df.drop_duplicates(subset='PK', keep='first')\n",
    "\n",
    "# dropdf"
   ]
  },
  {
   "cell_type": "code",
   "execution_count": null,
   "metadata": {
    "ExecuteTime": {
     "end_time": "2020-01-17T08:13:23.145979Z",
     "start_time": "2020-01-17T08:13:23.138001Z"
    }
   },
   "outputs": [],
   "source": [
    "# df = dropdf.drop(columns=['Year', 'Region'])\n",
    "\n",
    "# df"
   ]
  },
  {
   "cell_type": "markdown",
   "metadata": {},
   "source": [
    "# Arrange Columns"
   ]
  },
  {
   "cell_type": "code",
   "execution_count": null,
   "metadata": {
    "ExecuteTime": {
     "end_time": "2020-02-04T06:26:28.683511Z",
     "start_time": "2020-02-04T06:26:28.618688Z"
    }
   },
   "outputs": [],
   "source": [
    "dffinalarr = df[['FK', 'SKU', 'Platform', 'Region_Ori', 'MPA',\n",
    "                 'Target Location', 'WkDate', 'ISO_WK_NR', 'Total']]\n",
    "dffinalarr"
   ]
  },
  {
   "cell_type": "code",
   "execution_count": null,
   "metadata": {
    "ExecuteTime": {
     "end_time": "2020-02-04T06:26:47.135143Z",
     "start_time": "2020-02-04T06:26:46.676931Z"
    }
   },
   "outputs": [],
   "source": [
    "new = df['Planning_Wk'].str.split('W', n=1, expand=True)\n",
    "dffinalarr['YYYY'] = new[0]\n",
    "dffinalarr['WW'] = new[1]\n",
    "dffinalarr"
   ]
  },
  {
   "cell_type": "code",
   "execution_count": null,
   "metadata": {
    "ExecuteTime": {
     "end_time": "2020-02-04T06:28:07.733243Z",
     "start_time": "2020-02-04T06:28:07.525740Z"
    }
   },
   "outputs": [],
   "source": [
    "dffinalarr[\"WW\"] = dffinalarr[\"WW\"].astype(int)\n",
    "dffinalarr[\"WW\"] = dffinalarr[\"WW\"] + 1\n",
    "dffinalarr[\"WW\"] = dffinalarr['WW'].map(\"{:02}\".format)\n",
    "dffinalarr[\"WW\"] = dffinalarr[\"WW\"].astype(str)\n",
    "dffinalarr['YYYYWW'] = dffinalarr['YYYY'] + dffinalarr['WW']\n",
    "dffinalarr = dffinalarr.drop(columns=['YYYY', 'WW'])\n",
    "dffinalarr['QtyType'] = 'SHIP'\n",
    "dffinalarr"
   ]
  },
  {
   "cell_type": "markdown",
   "metadata": {},
   "source": [
    "# Read POR to get Program"
   ]
  },
  {
   "cell_type": "code",
   "execution_count": null,
   "metadata": {
    "ExecuteTime": {
     "end_time": "2020-01-17T08:13:24.010665Z",
     "start_time": "2020-01-17T08:13:24.006678Z"
    },
    "scrolled": true
   },
   "outputs": [],
   "source": [
    "# por_df = pd.read_csv(\n",
    "#     r'C:\\Users\\KohMansf\\Desktop\\MJ Projects\\Waterfall\\POR\\2019POR\\2019_to_upload.csv', sep=',', dtype={'PK': str, 'Planning_Wk': str,\n",
    "#                                                                                                        'MPA': str, 'SKU': str, 'Program': str,\n",
    "#                                                                                                        'Platform': str, 'Product_Line': str,\n",
    "#                                                                                                        'Target_Location': str, 'Region': str,\n",
    "#                                                                                                        'WkDate': 'str',  'YYYYWW': str,\n",
    "#                                                                                                        'Qty': int, 'FK': str})\n",
    "# por_df"
   ]
  },
  {
   "cell_type": "code",
   "execution_count": null,
   "metadata": {
    "ExecuteTime": {
     "end_time": "2020-01-17T08:13:24.025626Z",
     "start_time": "2020-01-17T08:13:24.014654Z"
    }
   },
   "outputs": [],
   "source": [
    "# rename_dict = por_df.set_index('Platform').to_dict()['Program']\n",
    "\n",
    "# rename_dict"
   ]
  },
  {
   "cell_type": "code",
   "execution_count": null,
   "metadata": {
    "ExecuteTime": {
     "end_time": "2020-01-17T08:13:24.034612Z",
     "start_time": "2020-01-17T08:13:24.027621Z"
    }
   },
   "outputs": [],
   "source": [
    "# dffinalarr['Platform'] = dffinalarr['Platform'].replace(rename_dict)\n",
    "# dffinalarr = dffinalarr.rename(columns={'Platform':'Program'})"
   ]
  },
  {
   "cell_type": "code",
   "execution_count": null,
   "metadata": {
    "ExecuteTime": {
     "end_time": "2020-01-17T08:13:24.048567Z",
     "start_time": "2020-01-17T08:13:24.037593Z"
    }
   },
   "outputs": [],
   "source": [
    "# dffinalarr"
   ]
  },
  {
   "cell_type": "code",
   "execution_count": null,
   "metadata": {
    "ExecuteTime": {
     "end_time": "2020-01-17T08:13:24.060535Z",
     "start_time": "2020-01-17T08:13:24.050559Z"
    },
    "scrolled": true
   },
   "outputs": [],
   "source": [
    "# new = df['Planning_Wk'].str.split('W', n=1, expand = True)\n",
    "# dffinalarr['YYYY'] = new[0]\n",
    "# dffinalarr['WW'] = new[1]\n",
    "# dffinalarr"
   ]
  },
  {
   "cell_type": "code",
   "execution_count": null,
   "metadata": {
    "ExecuteTime": {
     "end_time": "2020-01-17T08:13:24.074504Z",
     "start_time": "2020-01-17T08:13:24.062527Z"
    }
   },
   "outputs": [],
   "source": [
    "# dffinalarr[\"WW\"] = dffinalarr[\"WW\"].astype(int)\n",
    "# dffinalarr[\"WW\"] = dffinalarr[\"WW\"] + 1\n",
    "# dffinalarr[\"WW\"] = dffinalarr['WW'].map(\"{:02}\".format)\n",
    "# dffinalarr[\"WW\"] = dffinalarr[\"WW\"].astype(str)"
   ]
  },
  {
   "cell_type": "code",
   "execution_count": null,
   "metadata": {
    "ExecuteTime": {
     "end_time": "2020-01-17T08:13:24.086462Z",
     "start_time": "2020-01-17T08:13:24.077487Z"
    }
   },
   "outputs": [],
   "source": [
    "# dffinalarr['YYYYWW'] = dffinalarr['YYYY'] + dffinalarr['WW']\n",
    "# dffinalarr = dffinalarr.drop(columns=['YYYY', 'WW'])\n",
    "# dffinalarr"
   ]
  },
  {
   "cell_type": "markdown",
   "metadata": {},
   "source": [
    "# Final Output"
   ]
  },
  {
   "cell_type": "code",
   "execution_count": null,
   "metadata": {
    "ExecuteTime": {
     "end_time": "2020-01-17T08:13:24.772629Z",
     "start_time": "2020-01-17T08:13:24.089455Z"
    }
   },
   "outputs": [],
   "source": [
    "dffinalarr.to_csv('Shipment.csv', index=False)"
   ]
  }
 ],
 "metadata": {
  "hide_input": false,
  "kernelspec": {
   "display_name": "Python 3",
   "language": "python",
   "name": "python3"
  },
  "language_info": {
   "codemirror_mode": {
    "name": "ipython",
    "version": 3
   },
   "file_extension": ".py",
   "mimetype": "text/x-python",
   "name": "python",
   "nbconvert_exporter": "python",
   "pygments_lexer": "ipython3",
   "version": "3.7.4"
  },
  "latex_envs": {
   "LaTeX_envs_menu_present": true,
   "autoclose": false,
   "autocomplete": true,
   "bibliofile": "biblio.bib",
   "cite_by": "apalike",
   "current_citInitial": 1,
   "eqLabelWithNumbers": true,
   "eqNumInitial": 1,
   "hotkeys": {
    "equation": "Ctrl-E",
    "itemize": "Ctrl-I"
   },
   "labels_anchors": false,
   "latex_user_defs": false,
   "report_style_numbering": false,
   "user_envs_cfg": false
  },
  "toc": {
   "base_numbering": 1,
   "nav_menu": {},
   "number_sections": true,
   "sideBar": true,
   "skip_h1_title": false,
   "title_cell": "Table of Contents",
   "title_sidebar": "Contents",
   "toc_cell": false,
   "toc_position": {
    "height": "calc(100% - 180px)",
    "left": "10px",
    "top": "150px",
    "width": "368px"
   },
   "toc_section_display": true,
   "toc_window_display": true
  }
 },
 "nbformat": 4,
 "nbformat_minor": 2
}
