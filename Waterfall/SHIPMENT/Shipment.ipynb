{
 "cells": [
  {
   "cell_type": "markdown",
   "metadata": {},
   "source": [
    "# Shipment File"
   ]
  },
  {
   "cell_type": "code",
   "execution_count": null,
   "metadata": {
    "ExecuteTime": {
     "end_time": "2020-03-03T07:07:23.111314Z",
     "start_time": "2020-03-03T07:06:54.032968Z"
    }
   },
   "outputs": [],
   "source": [
    "import datetime as dt\n",
    "import pandas as pd\n",
    "import time\n",
    "df = pd.read_excel(\n",
    "    r'C:\\Users\\KohMansf\\Desktop\\MJ Projects\\All Files\\Waterfall\\SHIPMENT\\Shipment_File.xlsx',\n",
    "    sheet_name='Sheet2')"
   ]
  },
  {
   "cell_type": "markdown",
   "metadata": {},
   "source": [
    "# Cleaning Data"
   ]
  },
  {
   "cell_type": "markdown",
   "metadata": {},
   "source": [
    "**Filling blanks (ISO_WK_NR) with actual week number. In this case [WkDate 43374] = [ISO_WK_NR 40]. Fill in XX at code .fillna(XX) with actual week number**"
   ]
  },
  {
   "cell_type": "code",
   "execution_count": null,
   "metadata": {
    "ExecuteTime": {
     "end_time": "2020-03-03T07:07:45.847519Z",
     "start_time": "2020-03-03T07:07:45.824543Z"
    }
   },
   "outputs": [],
   "source": [
    "df['ISO_WK_NR'] = df['ISO_WK_NR'].fillna(40)\n",
    "df['ISO_WK_NR'] = df['ISO_WK_NR'].astype(int)"
   ]
  },
  {
   "cell_type": "markdown",
   "metadata": {},
   "source": [
    "**Subtracting 1 from ISO_WK_NR then replacing week 0 with week 52**"
   ]
  },
  {
   "cell_type": "code",
   "execution_count": null,
   "metadata": {
    "ExecuteTime": {
     "end_time": "2020-03-03T07:07:46.769224Z",
     "start_time": "2020-03-03T07:07:46.756257Z"
    }
   },
   "outputs": [],
   "source": [
    "df['ISO_WK_NR'] = df['ISO_WK_NR'] - 1\n",
    "df['ISO_WK_NR'] = df['ISO_WK_NR'].replace(0, 52)"
   ]
  },
  {
   "cell_type": "markdown",
   "metadata": {},
   "source": [
    "**Creating Year**"
   ]
  },
  {
   "cell_type": "code",
   "execution_count": null,
   "metadata": {
    "ExecuteTime": {
     "end_time": "2020-03-03T07:07:47.765660Z",
     "start_time": "2020-03-03T07:07:47.734721Z"
    }
   },
   "outputs": [],
   "source": [
    "df['Year'] = pd.TimedeltaIndex(df['WkDate'], unit='d') + dt.datetime(\n",
    "    1899, 12, 30)\n",
    "\n",
    "df['Year'] = df['Year'].dt.year"
   ]
  },
  {
   "cell_type": "markdown",
   "metadata": {},
   "source": [
    "**Creating Planning_Week**"
   ]
  },
  {
   "cell_type": "code",
   "execution_count": null,
   "metadata": {
    "ExecuteTime": {
     "end_time": "2020-03-03T07:07:55.260996Z",
     "start_time": "2020-03-03T07:07:52.593817Z"
    }
   },
   "outputs": [],
   "source": [
    "df[['Year', 'ISO_WK_NR']] = df[['Year', 'ISO_WK_NR']].astype('str')\n",
    "df['Planning_Wk'] = df[['Year', 'ISO_WK_NR']].apply(lambda x: 'W'.join(x),\n",
    "                                                    axis=1)"
   ]
  },
  {
   "cell_type": "code",
   "execution_count": null,
   "metadata": {
    "ExecuteTime": {
     "end_time": "2020-03-03T07:07:56.739361Z",
     "start_time": "2020-03-03T07:07:56.632648Z"
    }
   },
   "outputs": [],
   "source": [
    "df = df.rename(columns={'Total':'Qty'})\n",
    "df.head()"
   ]
  },
  {
   "cell_type": "markdown",
   "metadata": {},
   "source": [
    "**Map Region base on Target Location (Using Original File) , fill blanks with Region column if cannot map on Original File**"
   ]
  },
  {
   "cell_type": "code",
   "execution_count": null,
   "metadata": {
    "ExecuteTime": {
     "end_time": "2020-03-03T07:08:10.311258Z",
     "start_time": "2020-03-03T07:08:10.305261Z"
    }
   },
   "outputs": [],
   "source": [
    "region_dict = {\n",
    "    'D735': 'NA',\n",
    "    'D795': 'NA',\n",
    "    'DV02LM': 'NA',\n",
    "    'DHNLLM': 'EMEA',\n",
    "    'N8LC': 'EMEA',\n",
    "    '01CR': 'EMEA',\n",
    "    'N8DB': 'EMEA',\n",
    "    '01CT': 'EMEA',\n",
    "    '01DQ': 'EMEA',\n",
    "    '01BM': 'EMEA',\n",
    "    'B301': 'LA',\n",
    "    'H501': 'LA',\n",
    "    'DV02': 'LA',\n",
    "    'H503': 'LA',\n",
    "    'H5V1': 'LA',\n",
    "    'N101': 'LA',\n",
    "    'Z402': 'LA',\n",
    "    'H415': 'APJ',\n",
    "    'H416': 'APJ',\n",
    "    'WW': 'Region'\n",
    "}"
   ]
  },
  {
   "cell_type": "code",
   "execution_count": null,
   "metadata": {
    "ExecuteTime": {
     "end_time": "2020-03-03T07:08:14.967362Z",
     "start_time": "2020-03-03T07:08:14.916616Z"
    }
   },
   "outputs": [],
   "source": [
    "df['Region_Ori'] = df['Target Location'].map(region_dict)\n",
    "\n",
    "df['Region_Ori'] = df['Region_Ori'].fillna(df['Region'])\n",
    "\n",
    "df.head()"
   ]
  },
  {
   "cell_type": "markdown",
   "metadata": {},
   "source": [
    "**Creating Primary Key**"
   ]
  },
  {
   "cell_type": "code",
   "execution_count": null,
   "metadata": {
    "ExecuteTime": {
     "end_time": "2020-03-03T07:08:34.154951Z",
     "start_time": "2020-03-03T07:08:33.908569Z"
    }
   },
   "outputs": [],
   "source": [
    "# Change to FK From PK\n",
    "df[['Region_Ori', 'SKU', 'WkDate',\n",
    "    'Planning_Wk']] = df[['Region_Ori', 'SKU', 'WkDate',\n",
    "                          'Planning_Wk']].astype('str')\n",
    "\n",
    "df['FK'] = df['Region_Ori'] + df['SKU'] + df['WkDate'] + df['Planning_Wk']"
   ]
  },
  {
   "cell_type": "markdown",
   "metadata": {},
   "source": [
    "**Drop irrelevant columns**"
   ]
  },
  {
   "cell_type": "code",
   "execution_count": null,
   "metadata": {
    "ExecuteTime": {
     "end_time": "2020-03-03T07:08:36.476251Z",
     "start_time": "2020-03-03T07:08:36.390475Z"
    },
    "scrolled": true
   },
   "outputs": [],
   "source": [
    "df = df.drop(columns=['Year', 'Region'])\n",
    "\n",
    "df.head()"
   ]
  },
  {
   "cell_type": "markdown",
   "metadata": {},
   "source": [
    "# POR File"
   ]
  },
  {
   "cell_type": "markdown",
   "metadata": {},
   "source": [
    "**Map SKU of Shipment File to MPA**"
   ]
  },
  {
   "cell_type": "code",
   "execution_count": null,
   "metadata": {
    "ExecuteTime": {
     "end_time": "2020-03-03T07:09:09.273481Z",
     "start_time": "2020-03-03T07:08:58.501549Z"
    },
    "scrolled": false
   },
   "outputs": [],
   "source": [
    "por_df = pd.read_csv(\n",
    "    r'C:\\Users\\KohMansf\\Desktop\\MJ Projects\\All Files\\Waterfall\\2019POR\\2019_to_upload.csv',\n",
    "    sep=',',\n",
    "    dtype={\n",
    "        'PK': str,\n",
    "        'Planning_Wk': str,\n",
    "        'MPA': str,\n",
    "        'SKU': str,\n",
    "        'Program': str,\n",
    "        'Platform': str,\n",
    "        'Product_Line': str,\n",
    "        'Target_Location': str,\n",
    "        'WkDate': str,\n",
    "        'YYYYWW': str,\n",
    "        'Region': str,\n",
    "        'Qty': int,\n",
    "        'FK': str,\n",
    "        'QtyType': str\n",
    "    },\n",
    "    na_filter=False)\n",
    "por_df"
   ]
  },
  {
   "cell_type": "code",
   "execution_count": null,
   "metadata": {
    "ExecuteTime": {
     "end_time": "2020-03-03T07:09:17.268403Z",
     "start_time": "2020-03-03T07:09:16.669373Z"
    }
   },
   "outputs": [],
   "source": [
    "dfskumpa = por_df.groupby(['SKU', 'MPA'])['Qty'].sum().reset_index()\n",
    "dfskumpa.head()"
   ]
  },
  {
   "cell_type": "code",
   "execution_count": null,
   "metadata": {
    "ExecuteTime": {
     "end_time": "2020-03-03T07:09:20.245278Z",
     "start_time": "2020-03-03T07:09:20.202394Z"
    }
   },
   "outputs": [],
   "source": [
    "mydict = pd.Series(dfskumpa.MPA.values, index=dfskumpa.SKU).to_dict()\n",
    "\n",
    "mydict"
   ]
  },
  {
   "cell_type": "code",
   "execution_count": null,
   "metadata": {
    "ExecuteTime": {
     "end_time": "2020-03-03T07:09:24.192227Z",
     "start_time": "2020-03-03T07:09:24.163299Z"
    }
   },
   "outputs": [],
   "source": [
    "df['MPA'] = df['SKU'].map(mydict)"
   ]
  },
  {
   "cell_type": "code",
   "execution_count": null,
   "metadata": {
    "ExecuteTime": {
     "end_time": "2020-03-03T07:09:27.029512Z",
     "start_time": "2020-03-03T07:09:26.902849Z"
    }
   },
   "outputs": [],
   "source": [
    "df = df.rename(columns={'Region_Ori':'Region'})\n",
    "df.head()"
   ]
  },
  {
   "cell_type": "markdown",
   "metadata": {},
   "source": [
    "# Arrange Columns"
   ]
  },
  {
   "cell_type": "code",
   "execution_count": null,
   "metadata": {
    "ExecuteTime": {
     "end_time": "2020-03-03T07:09:35.530106Z",
     "start_time": "2020-03-03T07:09:35.499182Z"
    }
   },
   "outputs": [],
   "source": [
    "dffinalarr = df[[\n",
    "    'FK', 'SKU', 'Platform', 'Region', 'MPA', 'Target Location', 'WkDate',\n",
    "    'ISO_WK_NR', 'Qty'\n",
    "]]\n",
    "dffinalarr.head()"
   ]
  },
  {
   "cell_type": "code",
   "execution_count": null,
   "metadata": {
    "ExecuteTime": {
     "end_time": "2020-03-03T07:09:40.873517Z",
     "start_time": "2020-03-03T07:09:40.306001Z"
    }
   },
   "outputs": [],
   "source": [
    "new = df['Planning_Wk'].str.split('W', n=1, expand=True)\n",
    "dffinalarr['YYYY'] = new[0]\n",
    "dffinalarr['WW'] = new[1]\n",
    "dffinalarr.head()"
   ]
  },
  {
   "cell_type": "code",
   "execution_count": null,
   "metadata": {
    "ExecuteTime": {
     "end_time": "2020-03-03T07:09:46.196303Z",
     "start_time": "2020-03-03T07:09:45.914060Z"
    }
   },
   "outputs": [],
   "source": [
    "dffinalarr[\"WW\"] = dffinalarr[\"WW\"].astype(int)\n",
    "dffinalarr[\"WW\"] = dffinalarr[\"WW\"] + 1\n",
    "dffinalarr[\"WW\"] = dffinalarr['WW'].map(\"{:02}\".format)\n",
    "dffinalarr[\"WW\"] = dffinalarr[\"WW\"].astype(str)\n",
    "dffinalarr['YYYYWW'] = dffinalarr['YYYY'] + dffinalarr['WW']\n",
    "dffinalarr = dffinalarr.drop(columns=['YYYY', 'WW'])\n",
    "dffinalarr['QtyType'] = 'SHIP'\n",
    "dffinalarr.head()"
   ]
  },
  {
   "cell_type": "markdown",
   "metadata": {},
   "source": [
    "# Final Output"
   ]
  },
  {
   "cell_type": "code",
   "execution_count": null,
   "metadata": {
    "ExecuteTime": {
     "end_time": "2020-03-03T07:10:02.657133Z",
     "start_time": "2020-03-03T07:10:01.925011Z"
    }
   },
   "outputs": [],
   "source": [
    "dffinalarr.to_csv('Shipment.csv', index=False)"
   ]
  }
 ],
 "metadata": {
  "hide_input": false,
  "kernelspec": {
   "display_name": "Python 3",
   "language": "python",
   "name": "python3"
  },
  "language_info": {
   "codemirror_mode": {
    "name": "ipython",
    "version": 3
   },
   "file_extension": ".py",
   "mimetype": "text/x-python",
   "name": "python",
   "nbconvert_exporter": "python",
   "pygments_lexer": "ipython3",
   "version": "3.7.5"
  },
  "latex_envs": {
   "LaTeX_envs_menu_present": true,
   "autoclose": false,
   "autocomplete": true,
   "bibliofile": "biblio.bib",
   "cite_by": "apalike",
   "current_citInitial": 1,
   "eqLabelWithNumbers": true,
   "eqNumInitial": 1,
   "hotkeys": {
    "equation": "Ctrl-E",
    "itemize": "Ctrl-I"
   },
   "labels_anchors": false,
   "latex_user_defs": false,
   "report_style_numbering": false,
   "user_envs_cfg": false
  },
  "toc": {
   "base_numbering": 1,
   "nav_menu": {},
   "number_sections": true,
   "sideBar": true,
   "skip_h1_title": false,
   "title_cell": "Table of Contents",
   "title_sidebar": "Contents",
   "toc_cell": false,
   "toc_position": {
    "height": "calc(100% - 180px)",
    "left": "10px",
    "top": "150px",
    "width": "368px"
   },
   "toc_section_display": true,
   "toc_window_display": true
  }
 },
 "nbformat": 4,
 "nbformat_minor": 2
}
