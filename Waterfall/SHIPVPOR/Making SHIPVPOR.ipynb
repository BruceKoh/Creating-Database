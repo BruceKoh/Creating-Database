{
 "cells": [
  {
   "cell_type": "code",
   "execution_count": null,
   "metadata": {
    "ExecuteTime": {
     "end_time": "2020-02-04T06:33:37.624836Z",
     "start_time": "2020-02-04T06:33:36.442159Z"
    }
   },
   "outputs": [],
   "source": [
    "import pandas as pd\n",
    "import sqlite3"
   ]
  },
  {
   "cell_type": "markdown",
   "metadata": {},
   "source": [
    "# Shipment File"
   ]
  },
  {
   "cell_type": "code",
   "execution_count": null,
   "metadata": {
    "ExecuteTime": {
     "end_time": "2020-02-04T06:33:40.203330Z",
     "start_time": "2020-02-04T06:33:39.964970Z"
    },
    "scrolled": true
   },
   "outputs": [],
   "source": [
    "shipment_df = pd.read_csv(\n",
    "    r'C:\\Users\\KohMansf\\Desktop\\MJ Projects\\All Files\\Waterfall\\SHIPMENT\\Shipment.csv', na_filter=False)\n",
    "shipment_df"
   ]
  },
  {
   "cell_type": "markdown",
   "metadata": {},
   "source": [
    "**Drop rows where Total is zero**"
   ]
  },
  {
   "cell_type": "code",
   "execution_count": null,
   "metadata": {
    "ExecuteTime": {
     "end_time": "2020-02-04T06:34:19.014382Z",
     "start_time": "2020-02-04T06:34:18.978478Z"
    }
   },
   "outputs": [],
   "source": [
    "shipment_df = shipment_df[(shipment_df[['Total']] != 0).all(axis=1)]\n",
    "shipment_df"
   ]
  },
  {
   "cell_type": "markdown",
   "metadata": {},
   "source": [
    "# POR File"
   ]
  },
  {
   "cell_type": "code",
   "execution_count": null,
   "metadata": {
    "ExecuteTime": {
     "end_time": "2020-02-04T06:35:03.439655Z",
     "start_time": "2020-02-04T06:34:59.125875Z"
    },
    "scrolled": true
   },
   "outputs": [],
   "source": [
    "por_df = pd.read_csv(\n",
    "    r'C:\\Users\\KohMansf\\Desktop\\MJ Projects\\All Files\\Waterfall\\2018POR\\2018_to_upload.csv', sep=',', dtype={'PK': str, 'Planning_Wk': str,\n",
    "                                                                                                       'MPA': str, 'SKU': str, 'Program': str,\n",
    "                                                                                                       'Platform': str, 'Product_Line': str,\n",
    "                                                                                                       'Target_Location': str, 'Region': str,\n",
    "                                                                                                       'WkDate': 'str',  'YYYYWW': str,\n",
    "                                                                                                       'Qty': int, 'FK': str})\n",
    "por_df"
   ]
  },
  {
   "cell_type": "markdown",
   "metadata": {},
   "source": [
    "# Use SQL to combine to DF"
   ]
  },
  {
   "cell_type": "code",
   "execution_count": null,
   "metadata": {
    "ExecuteTime": {
     "end_time": "2020-02-04T06:39:39.518074Z",
     "start_time": "2020-02-04T06:39:39.514083Z"
    }
   },
   "outputs": [],
   "source": [
    "# Make the db in memory\n",
    "conn = sqlite3.connect(':memory:')"
   ]
  },
  {
   "cell_type": "code",
   "execution_count": null,
   "metadata": {
    "ExecuteTime": {
     "end_time": "2020-02-04T06:39:48.785457Z",
     "start_time": "2020-02-04T06:39:40.184345Z"
    }
   },
   "outputs": [],
   "source": [
    "# write the tables\n",
    "shipment_df.to_sql('shipment_df', conn, index=False)\n",
    "por_df.to_sql('por_df', conn, index=False)"
   ]
  },
  {
   "cell_type": "code",
   "execution_count": null,
   "metadata": {
    "ExecuteTime": {
     "end_time": "2020-02-04T06:39:48.794437Z",
     "start_time": "2020-02-04T06:39:48.788451Z"
    }
   },
   "outputs": [],
   "source": [
    "qry = '''\n",
    "    select  \n",
    "        por_df.Planning_Wk,por_df.Product_Line,\n",
    "        por_df.Platform,por_df.Program,\n",
    "        por_df.MPA,por_df.Target_Location,\n",
    "        por_df.SKU,por_df.WkDate,\n",
    "        por_df.Qty PORQty, por_df.YYYYWW, shipment_df.Region_Ori Region,\n",
    "        shipment_df.ISO_WK_NR ShipWkNo, shipment_df.Total ShipTotal,\n",
    "        shipment_df.FK\n",
    "    from\n",
    "        shipment_df Inner Join por_df on\n",
    "        por_df.FK = shipment_df.FK\n",
    "    '''"
   ]
  },
  {
   "cell_type": "code",
   "execution_count": null,
   "metadata": {
    "ExecuteTime": {
     "end_time": "2020-02-04T06:40:02.964420Z",
     "start_time": "2020-02-04T06:39:57.750029Z"
    }
   },
   "outputs": [],
   "source": [
    "df = pd.read_sql_query(qry, conn)\n",
    "df"
   ]
  },
  {
   "cell_type": "code",
   "execution_count": null,
   "metadata": {
    "ExecuteTime": {
     "end_time": "2020-02-04T06:40:42.666020Z",
     "start_time": "2020-02-04T06:40:42.635093Z"
    }
   },
   "outputs": [],
   "source": [
    "df.to_csv('SHIPVPOR.csv',index=False)"
   ]
  }
 ],
 "metadata": {
  "hide_input": false,
  "kernelspec": {
   "display_name": "MJ",
   "language": "python",
   "name": "mj"
  },
  "language_info": {
   "codemirror_mode": {
    "name": "ipython",
    "version": 3
   },
   "file_extension": ".py",
   "mimetype": "text/x-python",
   "name": "python",
   "nbconvert_exporter": "python",
   "pygments_lexer": "ipython3",
   "version": "3.7.5"
  },
  "toc": {
   "base_numbering": 1,
   "nav_menu": {},
   "number_sections": true,
   "sideBar": true,
   "skip_h1_title": false,
   "title_cell": "Table of Contents",
   "title_sidebar": "Contents",
   "toc_cell": false,
   "toc_position": {
    "height": "calc(100% - 180px)",
    "left": "10px",
    "top": "150px",
    "width": "368px"
   },
   "toc_section_display": true,
   "toc_window_display": true
  }
 },
 "nbformat": 4,
 "nbformat_minor": 2
}
